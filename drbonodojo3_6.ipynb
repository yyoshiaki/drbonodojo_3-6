{
  "nbformat": 4,
  "nbformat_minor": 0,
  "metadata": {
    "colab": {
      "name": "drbonodojo3-6.ipynb",
      "provenance": [],
      "collapsed_sections": [],
      "toc_visible": true,
      "include_colab_link": true
    },
    "kernelspec": {
      "name": "python3",
      "display_name": "Python 3"
    }
  },
  "cells": [
    {
      "cell_type": "markdown",
      "metadata": {
        "id": "view-in-github",
        "colab_type": "text"
      },
      "source": [
        "<a href=\"https://colab.research.google.com/github/yyoshiaki/drbonodojo_3-6/blob/master/drbonodojo3_6.ipynb\" target=\"_parent\"><img src=\"https://colab.research.google.com/assets/colab-badge.svg\" alt=\"Open In Colab\"/></a>"
      ]
    },
    {
      "cell_type": "markdown",
      "metadata": {
        "id": "2rogApceeGuk",
        "colab_type": "text"
      },
      "source": [
        "# 3.6 データ統合解析"
      ]
    },
    {
      "cell_type": "markdown",
      "metadata": {
        "id": "VB6kx7CqeK5Q",
        "colab_type": "text"
      },
      "source": [
        "## リファレンスデータセット"
      ]
    },
    {
      "cell_type": "markdown",
      "metadata": {
        "id": "NweXo6T4hjqU",
        "colab_type": "text"
      },
      "source": [
        "### 遺伝子アノテーションデータ\n",
        "\n",
        "p172〜にならってBiomartからKEGG Pathway and Enzyme IDとGene nameを抽出し、glycolysis(KEGG Pathway ID 00010)の遺伝子を抜き出す。せっかくなのでPythonでやってみよう！\n",
        "\n",
        "最新版ではGRCh38.p13になっていた。\n",
        "\n",
        "![image.png](https://github.com/yyoshiaki/drbonodojo_3-6/raw/master/img/biomart.png)"
      ]
    },
    {
      "cell_type": "code",
      "metadata": {
        "id": "cOBJYyDcUMIU",
        "colab_type": "code",
        "colab": {}
      },
      "source": [
        "# pandasというデータフレーム処理のライブラリを読み込む。もっともよく使うライブラリ。\n",
        "import pandas as pd"
      ],
      "execution_count": 0,
      "outputs": []
    },
    {
      "cell_type": "code",
      "metadata": {
        "id": "SkjA02aWWL43",
        "colab_type": "code",
        "outputId": "4042f5eb-c7bf-449c-d9a0-97907634bc45",
        "colab": {
          "base_uri": "https://localhost:8080/",
          "height": 204
        }
      },
      "source": [
        "# mart_export.txtをdfという変数に格納。\n",
        "df = pd.read_csv('https://raw.githubusercontent.com/yyoshiaki/drbonodojo_3-6/master/mart_export.txt', sep='\\t')\n",
        "df.head()"
      ],
      "execution_count": 2,
      "outputs": [
        {
          "output_type": "execute_result",
          "data": {
            "text/html": [
              "<div>\n",
              "<style scoped>\n",
              "    .dataframe tbody tr th:only-of-type {\n",
              "        vertical-align: middle;\n",
              "    }\n",
              "\n",
              "    .dataframe tbody tr th {\n",
              "        vertical-align: top;\n",
              "    }\n",
              "\n",
              "    .dataframe thead th {\n",
              "        text-align: right;\n",
              "    }\n",
              "</style>\n",
              "<table border=\"1\" class=\"dataframe\">\n",
              "  <thead>\n",
              "    <tr style=\"text-align: right;\">\n",
              "      <th></th>\n",
              "      <th>KEGG Pathway and Enzyme ID</th>\n",
              "      <th>Gene name</th>\n",
              "    </tr>\n",
              "  </thead>\n",
              "  <tbody>\n",
              "    <tr>\n",
              "      <th>0</th>\n",
              "      <td>NaN</td>\n",
              "      <td>MT-ND1</td>\n",
              "    </tr>\n",
              "    <tr>\n",
              "      <th>1</th>\n",
              "      <td>00190+7.1.1.2</td>\n",
              "      <td>MT-ND2</td>\n",
              "    </tr>\n",
              "    <tr>\n",
              "      <th>2</th>\n",
              "      <td>00190+1.9.3.1</td>\n",
              "      <td>MT-CO1</td>\n",
              "    </tr>\n",
              "    <tr>\n",
              "      <th>3</th>\n",
              "      <td>NaN</td>\n",
              "      <td>MT-CO2</td>\n",
              "    </tr>\n",
              "    <tr>\n",
              "      <th>4</th>\n",
              "      <td>NaN</td>\n",
              "      <td>MT-ATP8</td>\n",
              "    </tr>\n",
              "  </tbody>\n",
              "</table>\n",
              "</div>"
            ],
            "text/plain": [
              "  KEGG Pathway and Enzyme ID Gene name\n",
              "0                        NaN    MT-ND1\n",
              "1              00190+7.1.1.2    MT-ND2\n",
              "2              00190+1.9.3.1    MT-CO1\n",
              "3                        NaN    MT-CO2\n",
              "4                        NaN   MT-ATP8"
            ]
          },
          "metadata": {
            "tags": []
          },
          "execution_count": 2
        }
      ]
    },
    {
      "cell_type": "code",
      "metadata": {
        "id": "5K0yQ1vtZMvm",
        "colab_type": "code",
        "outputId": "162c52a8-d3ad-4326-8617-3f5e9ddbedc0",
        "colab": {
          "base_uri": "https://localhost:8080/",
          "height": 204
        }
      },
      "source": [
        "# タブで始まる（pandasだと読み込み時にNanになる）行を削除。\n",
        "df = df.dropna(subset=['KEGG Pathway and Enzyme ID'])\n",
        "df.head()"
      ],
      "execution_count": 3,
      "outputs": [
        {
          "output_type": "execute_result",
          "data": {
            "text/html": [
              "<div>\n",
              "<style scoped>\n",
              "    .dataframe tbody tr th:only-of-type {\n",
              "        vertical-align: middle;\n",
              "    }\n",
              "\n",
              "    .dataframe tbody tr th {\n",
              "        vertical-align: top;\n",
              "    }\n",
              "\n",
              "    .dataframe thead th {\n",
              "        text-align: right;\n",
              "    }\n",
              "</style>\n",
              "<table border=\"1\" class=\"dataframe\">\n",
              "  <thead>\n",
              "    <tr style=\"text-align: right;\">\n",
              "      <th></th>\n",
              "      <th>KEGG Pathway and Enzyme ID</th>\n",
              "      <th>Gene name</th>\n",
              "    </tr>\n",
              "  </thead>\n",
              "  <tbody>\n",
              "    <tr>\n",
              "      <th>1</th>\n",
              "      <td>00190+7.1.1.2</td>\n",
              "      <td>MT-ND2</td>\n",
              "    </tr>\n",
              "    <tr>\n",
              "      <th>2</th>\n",
              "      <td>00190+1.9.3.1</td>\n",
              "      <td>MT-CO1</td>\n",
              "    </tr>\n",
              "    <tr>\n",
              "      <th>9</th>\n",
              "      <td>00190+7.1.1.2</td>\n",
              "      <td>MT-ND4</td>\n",
              "    </tr>\n",
              "    <tr>\n",
              "      <th>10</th>\n",
              "      <td>00190+7.1.1.2</td>\n",
              "      <td>MT-ND5</td>\n",
              "    </tr>\n",
              "    <tr>\n",
              "      <th>173</th>\n",
              "      <td>00240+2.7.4.6</td>\n",
              "      <td>NME8</td>\n",
              "    </tr>\n",
              "  </tbody>\n",
              "</table>\n",
              "</div>"
            ],
            "text/plain": [
              "    KEGG Pathway and Enzyme ID Gene name\n",
              "1                00190+7.1.1.2    MT-ND2\n",
              "2                00190+1.9.3.1    MT-CO1\n",
              "9                00190+7.1.1.2    MT-ND4\n",
              "10               00190+7.1.1.2    MT-ND5\n",
              "173              00240+2.7.4.6      NME8"
            ]
          },
          "metadata": {
            "tags": []
          },
          "execution_count": 3
        }
      ]
    },
    {
      "cell_type": "code",
      "metadata": {
        "id": "ui9uSKFkZMrJ",
        "colab_type": "code",
        "outputId": "60b6b271-9aa8-42fb-821f-d379e22ec95f",
        "colab": {
          "base_uri": "https://localhost:8080/",
          "height": 204
        }
      },
      "source": [
        "# プラス記号をsplitする。\n",
        "df = pd.concat([df, df['KEGG Pathway and Enzyme ID'].str.split('+', expand=True)[[0,1]]], axis=1)\n",
        "df.head()"
      ],
      "execution_count": 4,
      "outputs": [
        {
          "output_type": "execute_result",
          "data": {
            "text/html": [
              "<div>\n",
              "<style scoped>\n",
              "    .dataframe tbody tr th:only-of-type {\n",
              "        vertical-align: middle;\n",
              "    }\n",
              "\n",
              "    .dataframe tbody tr th {\n",
              "        vertical-align: top;\n",
              "    }\n",
              "\n",
              "    .dataframe thead th {\n",
              "        text-align: right;\n",
              "    }\n",
              "</style>\n",
              "<table border=\"1\" class=\"dataframe\">\n",
              "  <thead>\n",
              "    <tr style=\"text-align: right;\">\n",
              "      <th></th>\n",
              "      <th>KEGG Pathway and Enzyme ID</th>\n",
              "      <th>Gene name</th>\n",
              "      <th>0</th>\n",
              "      <th>1</th>\n",
              "    </tr>\n",
              "  </thead>\n",
              "  <tbody>\n",
              "    <tr>\n",
              "      <th>1</th>\n",
              "      <td>00190+7.1.1.2</td>\n",
              "      <td>MT-ND2</td>\n",
              "      <td>00190</td>\n",
              "      <td>7.1.1.2</td>\n",
              "    </tr>\n",
              "    <tr>\n",
              "      <th>2</th>\n",
              "      <td>00190+1.9.3.1</td>\n",
              "      <td>MT-CO1</td>\n",
              "      <td>00190</td>\n",
              "      <td>1.9.3.1</td>\n",
              "    </tr>\n",
              "    <tr>\n",
              "      <th>9</th>\n",
              "      <td>00190+7.1.1.2</td>\n",
              "      <td>MT-ND4</td>\n",
              "      <td>00190</td>\n",
              "      <td>7.1.1.2</td>\n",
              "    </tr>\n",
              "    <tr>\n",
              "      <th>10</th>\n",
              "      <td>00190+7.1.1.2</td>\n",
              "      <td>MT-ND5</td>\n",
              "      <td>00190</td>\n",
              "      <td>7.1.1.2</td>\n",
              "    </tr>\n",
              "    <tr>\n",
              "      <th>173</th>\n",
              "      <td>00240+2.7.4.6</td>\n",
              "      <td>NME8</td>\n",
              "      <td>00240</td>\n",
              "      <td>2.7.4.6</td>\n",
              "    </tr>\n",
              "  </tbody>\n",
              "</table>\n",
              "</div>"
            ],
            "text/plain": [
              "    KEGG Pathway and Enzyme ID Gene name      0        1\n",
              "1                00190+7.1.1.2    MT-ND2  00190  7.1.1.2\n",
              "2                00190+1.9.3.1    MT-CO1  00190  1.9.3.1\n",
              "9                00190+7.1.1.2    MT-ND4  00190  7.1.1.2\n",
              "10               00190+7.1.1.2    MT-ND5  00190  7.1.1.2\n",
              "173              00240+2.7.4.6      NME8  00240  2.7.4.6"
            ]
          },
          "metadata": {
            "tags": []
          },
          "execution_count": 4
        }
      ]
    },
    {
      "cell_type": "code",
      "metadata": {
        "id": "4ZDN3NzOa-ot",
        "colab_type": "code",
        "outputId": "db26eb8d-a386-4883-ea61-c1c02d893b1d",
        "colab": {
          "base_uri": "https://localhost:8080/",
          "height": 204
        }
      },
      "source": [
        "# 列を整理する。\n",
        "df.columns = ['KEGG Pathway and Enzyme ID', 'Gene name', 'KEGG Pathway ID', 'Enzyme ID']\n",
        "df = df[['KEGG Pathway ID', 'Enzyme ID', 'Gene name']]\n",
        "df.head()"
      ],
      "execution_count": 5,
      "outputs": [
        {
          "output_type": "execute_result",
          "data": {
            "text/html": [
              "<div>\n",
              "<style scoped>\n",
              "    .dataframe tbody tr th:only-of-type {\n",
              "        vertical-align: middle;\n",
              "    }\n",
              "\n",
              "    .dataframe tbody tr th {\n",
              "        vertical-align: top;\n",
              "    }\n",
              "\n",
              "    .dataframe thead th {\n",
              "        text-align: right;\n",
              "    }\n",
              "</style>\n",
              "<table border=\"1\" class=\"dataframe\">\n",
              "  <thead>\n",
              "    <tr style=\"text-align: right;\">\n",
              "      <th></th>\n",
              "      <th>KEGG Pathway ID</th>\n",
              "      <th>Enzyme ID</th>\n",
              "      <th>Gene name</th>\n",
              "    </tr>\n",
              "  </thead>\n",
              "  <tbody>\n",
              "    <tr>\n",
              "      <th>1</th>\n",
              "      <td>00190</td>\n",
              "      <td>7.1.1.2</td>\n",
              "      <td>MT-ND2</td>\n",
              "    </tr>\n",
              "    <tr>\n",
              "      <th>2</th>\n",
              "      <td>00190</td>\n",
              "      <td>1.9.3.1</td>\n",
              "      <td>MT-CO1</td>\n",
              "    </tr>\n",
              "    <tr>\n",
              "      <th>9</th>\n",
              "      <td>00190</td>\n",
              "      <td>7.1.1.2</td>\n",
              "      <td>MT-ND4</td>\n",
              "    </tr>\n",
              "    <tr>\n",
              "      <th>10</th>\n",
              "      <td>00190</td>\n",
              "      <td>7.1.1.2</td>\n",
              "      <td>MT-ND5</td>\n",
              "    </tr>\n",
              "    <tr>\n",
              "      <th>173</th>\n",
              "      <td>00240</td>\n",
              "      <td>2.7.4.6</td>\n",
              "      <td>NME8</td>\n",
              "    </tr>\n",
              "  </tbody>\n",
              "</table>\n",
              "</div>"
            ],
            "text/plain": [
              "    KEGG Pathway ID Enzyme ID Gene name\n",
              "1             00190   7.1.1.2    MT-ND2\n",
              "2             00190   1.9.3.1    MT-CO1\n",
              "9             00190   7.1.1.2    MT-ND4\n",
              "10            00190   7.1.1.2    MT-ND5\n",
              "173           00240   2.7.4.6      NME8"
            ]
          },
          "metadata": {
            "tags": []
          },
          "execution_count": 5
        }
      ]
    },
    {
      "cell_type": "code",
      "metadata": {
        "id": "fYowLRBuZMg8",
        "colab_type": "code",
        "outputId": "9c42a8b2-936d-4216-b156-ad95ac4ef4ab",
        "colab": {
          "base_uri": "https://localhost:8080/",
          "height": 204
        }
      },
      "source": [
        "# 00010で始まる行だけ抜き出して第2列でソートし、df_glycolysisという変数に格納。\n",
        "df_glycolysis = df[df['KEGG Pathway ID'] == '00010'].sort_values(by='Enzyme ID')\n",
        "df_glycolysis.head()"
      ],
      "execution_count": 6,
      "outputs": [
        {
          "output_type": "execute_result",
          "data": {
            "text/html": [
              "<div>\n",
              "<style scoped>\n",
              "    .dataframe tbody tr th:only-of-type {\n",
              "        vertical-align: middle;\n",
              "    }\n",
              "\n",
              "    .dataframe tbody tr th {\n",
              "        vertical-align: top;\n",
              "    }\n",
              "\n",
              "    .dataframe thead th {\n",
              "        text-align: right;\n",
              "    }\n",
              "</style>\n",
              "<table border=\"1\" class=\"dataframe\">\n",
              "  <thead>\n",
              "    <tr style=\"text-align: right;\">\n",
              "      <th></th>\n",
              "      <th>KEGG Pathway ID</th>\n",
              "      <th>Enzyme ID</th>\n",
              "      <th>Gene name</th>\n",
              "    </tr>\n",
              "  </thead>\n",
              "  <tbody>\n",
              "    <tr>\n",
              "      <th>24838</th>\n",
              "      <td>00010</td>\n",
              "      <td>1.1.1.1</td>\n",
              "      <td>ADH5</td>\n",
              "    </tr>\n",
              "    <tr>\n",
              "      <th>37909</th>\n",
              "      <td>00010</td>\n",
              "      <td>1.1.1.1</td>\n",
              "      <td>ADH7</td>\n",
              "    </tr>\n",
              "    <tr>\n",
              "      <th>37896</th>\n",
              "      <td>00010</td>\n",
              "      <td>1.1.1.1</td>\n",
              "      <td>ADH7</td>\n",
              "    </tr>\n",
              "    <tr>\n",
              "      <th>37861</th>\n",
              "      <td>00010</td>\n",
              "      <td>1.1.1.1</td>\n",
              "      <td>ADH7</td>\n",
              "    </tr>\n",
              "    <tr>\n",
              "      <th>37840</th>\n",
              "      <td>00010</td>\n",
              "      <td>1.1.1.1</td>\n",
              "      <td>ADH7</td>\n",
              "    </tr>\n",
              "  </tbody>\n",
              "</table>\n",
              "</div>"
            ],
            "text/plain": [
              "      KEGG Pathway ID Enzyme ID Gene name\n",
              "24838           00010   1.1.1.1      ADH5\n",
              "37909           00010   1.1.1.1      ADH7\n",
              "37896           00010   1.1.1.1      ADH7\n",
              "37861           00010   1.1.1.1      ADH7\n",
              "37840           00010   1.1.1.1      ADH7"
            ]
          },
          "metadata": {
            "tags": []
          },
          "execution_count": 6
        }
      ]
    },
    {
      "cell_type": "code",
      "metadata": {
        "id": "l-hzz8_DcZzE",
        "colab_type": "code",
        "outputId": "22fcedbb-9026-4188-df79-eb717701431e",
        "colab": {
          "base_uri": "https://localhost:8080/",
          "height": 153
        }
      },
      "source": [
        "# 重複を削除して遺伝子名を抽出。\n",
        "df_glycolysis['Gene name'].unique()"
      ],
      "execution_count": 7,
      "outputs": [
        {
          "output_type": "execute_result",
          "data": {
            "text/plain": [
              "array(['ADH5', 'ADH7', 'ADH4', 'LDHA', 'LDHAL6A', 'LDHC', 'LDHB',\n",
              "       'LDHAL6B', 'GAPDH', 'GAPDHS', 'PDHA1', 'PDHB', 'PDHA2', 'DLD',\n",
              "       'DLAT', 'HK3', 'GCK', 'HK1', 'HKDC1', 'HK2', 'PFKM', 'PFKP',\n",
              "       'PFKL', 'PKM', 'PKLR', 'PGK1', 'PGK2', 'FBP1', 'FBP2', 'G6PC2',\n",
              "       'G6PC3', 'G6PC', 'PCK2', 'PCK1', 'ALDOB', 'ALDOA', 'ALDOC',\n",
              "       'AC093512.2', 'ENO2', 'ENO3', 'ENO4', 'ENO1', 'GALM', 'TPI1',\n",
              "       'GPI', 'AC092073.1', 'BPGM', 'PGAM4', 'PGAM1', 'PGAM2', 'ACSS1',\n",
              "       'ACSS3', 'AACS', 'ACSS2'], dtype=object)"
            ]
          },
          "metadata": {
            "tags": []
          },
          "execution_count": 7
        }
      ]
    },
    {
      "cell_type": "code",
      "metadata": {
        "id": "txKSvDkbck1s",
        "colab_type": "code",
        "outputId": "82972baa-72ee-48e8-b128-7c385f5438c8",
        "colab": {
          "base_uri": "https://localhost:8080/",
          "height": 935
        }
      },
      "source": [
        "# 抜き出した遺伝子を表示\n",
        "for g in df_glycolysis['Gene name'].unique():\n",
        "  print(g)"
      ],
      "execution_count": 8,
      "outputs": [
        {
          "output_type": "stream",
          "text": [
            "ADH5\n",
            "ADH7\n",
            "ADH4\n",
            "LDHA\n",
            "LDHAL6A\n",
            "LDHC\n",
            "LDHB\n",
            "LDHAL6B\n",
            "GAPDH\n",
            "GAPDHS\n",
            "PDHA1\n",
            "PDHB\n",
            "PDHA2\n",
            "DLD\n",
            "DLAT\n",
            "HK3\n",
            "GCK\n",
            "HK1\n",
            "HKDC1\n",
            "HK2\n",
            "PFKM\n",
            "PFKP\n",
            "PFKL\n",
            "PKM\n",
            "PKLR\n",
            "PGK1\n",
            "PGK2\n",
            "FBP1\n",
            "FBP2\n",
            "G6PC2\n",
            "G6PC3\n",
            "G6PC\n",
            "PCK2\n",
            "PCK1\n",
            "ALDOB\n",
            "ALDOA\n",
            "ALDOC\n",
            "AC093512.2\n",
            "ENO2\n",
            "ENO3\n",
            "ENO4\n",
            "ENO1\n",
            "GALM\n",
            "TPI1\n",
            "GPI\n",
            "AC092073.1\n",
            "BPGM\n",
            "PGAM4\n",
            "PGAM1\n",
            "PGAM2\n",
            "ACSS1\n",
            "ACSS3\n",
            "AACS\n",
            "ACSS2\n"
          ],
          "name": "stdout"
        }
      ]
    },
    {
      "cell_type": "code",
      "metadata": {
        "id": "9LE2SC2lc0Rw",
        "colab_type": "code",
        "colab": {}
      },
      "source": [
        "# 抜き出した遺伝子を保存。\n",
        "pd.DataFrame(df_glycolysis['Gene name'].unique()).to_csv('genes_00010.txt', index=None, header=None)"
      ],
      "execution_count": 0,
      "outputs": []
    },
    {
      "cell_type": "markdown",
      "metadata": {
        "id": "bUODyf_VrU1w",
        "colab_type": "text"
      },
      "source": [
        "### 遺伝子発現のリファレンスデータセット\n",
        "\n",
        "RefExからヒトのCAGEデータを取得してみる。"
      ]
    },
    {
      "cell_type": "code",
      "metadata": {
        "id": "Nu7n9syOd08s",
        "colab_type": "code",
        "outputId": "ce1ca8cc-3a34-49b6-995a-0ab8f02bed5b",
        "colab": {
          "base_uri": "https://localhost:8080/",
          "height": 403
        }
      },
      "source": [
        "df_cage = pd.read_csv('https://refex.dbcls.jp/download/RefEx_expression_CAGE_all_human_PRJDB1099.tsv.zip',\n",
        "                      sep='\\t', index_col=0)\n",
        "df_cage.head()"
      ],
      "execution_count": 10,
      "outputs": [
        {
          "output_type": "execute_result",
          "data": {
            "text/html": [
              "<div>\n",
              "<style scoped>\n",
              "    .dataframe tbody tr th:only-of-type {\n",
              "        vertical-align: middle;\n",
              "    }\n",
              "\n",
              "    .dataframe tbody tr th {\n",
              "        vertical-align: top;\n",
              "    }\n",
              "\n",
              "    .dataframe thead th {\n",
              "        text-align: right;\n",
              "    }\n",
              "</style>\n",
              "<table border=\"1\" class=\"dataframe\">\n",
              "  <thead>\n",
              "    <tr style=\"text-align: right;\">\n",
              "      <th></th>\n",
              "      <th>acantholytic squamous carcinoma cell line:HCC1806</th>\n",
              "      <th>acute lymphoblastic leukemia (B-ALL) cell line:BALL-1</th>\n",
              "      <th>acute lymphoblastic leukemia (B-ALL) cell line:NALM-6</th>\n",
              "      <th>acute lymphoblastic leukemia (T-ALL) cell line:HPB-ALL</th>\n",
              "      <th>acute lymphoblastic leukemia (T-ALL) cell line:Jurkat</th>\n",
              "      <th>acute myeloid leukemia (FAB M0) cell line:Kasumi-3</th>\n",
              "      <th>acute myeloid leukemia (FAB M0) cell line:KG-1</th>\n",
              "      <th>acute myeloid leukemia (FAB M1) cell line:HYT-1</th>\n",
              "      <th>acute myeloid leukemia (FAB M2) cell line:Kasumi-1</th>\n",
              "      <th>acute myeloid leukemia (FAB M2) cell line:Kasumi-6</th>\n",
              "      <th>acute myeloid leukemia (FAB M2) cell line:NKM-1</th>\n",
              "      <th>acute myeloid leukemia (FAB M3) cell line:HL60</th>\n",
              "      <th>acute myeloid leukemia (FAB M4) cell line:FKH-1</th>\n",
              "      <th>acute myeloid leukemia (FAB M4) cell line:HNT-34</th>\n",
              "      <th>acute myeloid leukemia (FAB M4eo) cell line:EoL-1</th>\n",
              "      <th>acute myeloid leukemia (FAB M4eo) cell line:EoL-3</th>\n",
              "      <th>acute myeloid leukemia (FAB M5) cell line:NOMO-1</th>\n",
              "      <th>acute myeloid leukemia (FAB M5) cell line:P31/FUJ</th>\n",
              "      <th>acute myeloid leukemia (FAB M5) cell line:THP-1 (fresh)</th>\n",
              "      <th>acute myeloid leukemia (FAB M5) cell line:THP-1 (revived)</th>\n",
              "      <th>acute myeloid leukemia (FAB M5) cell line:THP-1 (thawed)</th>\n",
              "      <th>acute myeloid leukemia (FAB M5) cell line:U-937 DE-4</th>\n",
              "      <th>acute myeloid leukemia (FAB M6) cell line:EEB</th>\n",
              "      <th>acute myeloid leukemia (FAB M6) cell line:F-36E</th>\n",
              "      <th>acute myeloid leukemia (FAB M6) cell line:F-36P</th>\n",
              "      <th>acute myeloid leukemia (FAB M7) cell line:M-MOK</th>\n",
              "      <th>acute myeloid leukemia (FAB M7) cell line:MKPL-1</th>\n",
              "      <th>adenocarcinoma cell line:IM95m</th>\n",
              "      <th>adrenal cortex adenocarcinoma cell line:SW-13</th>\n",
              "      <th>adult T-cell leukemia cell line:ATN-1</th>\n",
              "      <th>alveolar cell carcinoma cell line:SW 1573</th>\n",
              "      <th>anaplastic carcinoma cell line:8305C</th>\n",
              "      <th>anaplastic large cell lymphoma cell line:Ki-JK</th>\n",
              "      <th>anaplastic squamous cell carcinoma cell line:RPMI 2650</th>\n",
              "      <th>argyrophil small cell carcinoma cell line:TC-YIK</th>\n",
              "      <th>astrocytoma cell line:TM-31</th>\n",
              "      <th>b cell line:RPMI1788</th>\n",
              "      <th>B lymphoblastoid cell line: GM12878 ENCODE</th>\n",
              "      <th>basal cell carcinoma cell line:TE 354.T</th>\n",
              "      <th>bile duct carcinoma cell line:HuCCT1</th>\n",
              "      <th>...</th>\n",
              "      <th>submaxillary gland, adult</th>\n",
              "      <th>substantia nigra, adult</th>\n",
              "      <th>temporal lobe, adult</th>\n",
              "      <th>testis, adult</th>\n",
              "      <th>thalamus, adult</th>\n",
              "      <th>throat, adult</th>\n",
              "      <th>thymus, adult</th>\n",
              "      <th>thyroid, adult</th>\n",
              "      <th>tongue, adult</th>\n",
              "      <th>tonsil, adult</th>\n",
              "      <th>trachea, adult</th>\n",
              "      <th>uterus, adult</th>\n",
              "      <th>vagina, adult</th>\n",
              "      <th>vein, adult</th>\n",
              "      <th>brain, fetal</th>\n",
              "      <th>colon, fetal</th>\n",
              "      <th>diaphragm, fetal</th>\n",
              "      <th>duodenum, fetal</th>\n",
              "      <th>eye, fetal</th>\n",
              "      <th>heart, fetal</th>\n",
              "      <th>kidney, fetal</th>\n",
              "      <th>liver, fetal</th>\n",
              "      <th>lung, fetal</th>\n",
              "      <th>occipital lobe, fetal</th>\n",
              "      <th>parietal lobe, fetal</th>\n",
              "      <th>rectum, fetal</th>\n",
              "      <th>skeletal muscle, fetal</th>\n",
              "      <th>skin, fetal</th>\n",
              "      <th>small intestine, fetal</th>\n",
              "      <th>spinal cord, fetal</th>\n",
              "      <th>spleen, fetal</th>\n",
              "      <th>stomach, fetal</th>\n",
              "      <th>temporal lobe, fetal</th>\n",
              "      <th>throat, fetal</th>\n",
              "      <th>thymus, fetal</th>\n",
              "      <th>thyroid, fetal</th>\n",
              "      <th>tongue, fetal</th>\n",
              "      <th>trachea, fetal</th>\n",
              "      <th>umbilical cord, fetal</th>\n",
              "      <th>uterus, fetal</th>\n",
              "    </tr>\n",
              "    <tr>\n",
              "      <th>NCBI_GeneID</th>\n",
              "      <th></th>\n",
              "      <th></th>\n",
              "      <th></th>\n",
              "      <th></th>\n",
              "      <th></th>\n",
              "      <th></th>\n",
              "      <th></th>\n",
              "      <th></th>\n",
              "      <th></th>\n",
              "      <th></th>\n",
              "      <th></th>\n",
              "      <th></th>\n",
              "      <th></th>\n",
              "      <th></th>\n",
              "      <th></th>\n",
              "      <th></th>\n",
              "      <th></th>\n",
              "      <th></th>\n",
              "      <th></th>\n",
              "      <th></th>\n",
              "      <th></th>\n",
              "      <th></th>\n",
              "      <th></th>\n",
              "      <th></th>\n",
              "      <th></th>\n",
              "      <th></th>\n",
              "      <th></th>\n",
              "      <th></th>\n",
              "      <th></th>\n",
              "      <th></th>\n",
              "      <th></th>\n",
              "      <th></th>\n",
              "      <th></th>\n",
              "      <th></th>\n",
              "      <th></th>\n",
              "      <th></th>\n",
              "      <th></th>\n",
              "      <th></th>\n",
              "      <th></th>\n",
              "      <th></th>\n",
              "      <th></th>\n",
              "      <th></th>\n",
              "      <th></th>\n",
              "      <th></th>\n",
              "      <th></th>\n",
              "      <th></th>\n",
              "      <th></th>\n",
              "      <th></th>\n",
              "      <th></th>\n",
              "      <th></th>\n",
              "      <th></th>\n",
              "      <th></th>\n",
              "      <th></th>\n",
              "      <th></th>\n",
              "      <th></th>\n",
              "      <th></th>\n",
              "      <th></th>\n",
              "      <th></th>\n",
              "      <th></th>\n",
              "      <th></th>\n",
              "      <th></th>\n",
              "      <th></th>\n",
              "      <th></th>\n",
              "      <th></th>\n",
              "      <th></th>\n",
              "      <th></th>\n",
              "      <th></th>\n",
              "      <th></th>\n",
              "      <th></th>\n",
              "      <th></th>\n",
              "      <th></th>\n",
              "      <th></th>\n",
              "      <th></th>\n",
              "      <th></th>\n",
              "      <th></th>\n",
              "      <th></th>\n",
              "      <th></th>\n",
              "      <th></th>\n",
              "      <th></th>\n",
              "      <th></th>\n",
              "      <th></th>\n",
              "    </tr>\n",
              "  </thead>\n",
              "  <tbody>\n",
              "    <tr>\n",
              "      <th>2</th>\n",
              "      <td>0.000000</td>\n",
              "      <td>0.000000</td>\n",
              "      <td>0.253509</td>\n",
              "      <td>0.000000</td>\n",
              "      <td>0.000000</td>\n",
              "      <td>0.000000</td>\n",
              "      <td>0.000000</td>\n",
              "      <td>0.192003</td>\n",
              "      <td>0.000000</td>\n",
              "      <td>0.000000</td>\n",
              "      <td>0.000000</td>\n",
              "      <td>0.00000</td>\n",
              "      <td>0.000000</td>\n",
              "      <td>0.000000</td>\n",
              "      <td>0.000000</td>\n",
              "      <td>0.183820</td>\n",
              "      <td>0.000000</td>\n",
              "      <td>0.522958</td>\n",
              "      <td>0.479014</td>\n",
              "      <td>0.201860</td>\n",
              "      <td>0.511263</td>\n",
              "      <td>0.000000</td>\n",
              "      <td>2.14206</td>\n",
              "      <td>0.000000</td>\n",
              "      <td>0.000000</td>\n",
              "      <td>0.000000</td>\n",
              "      <td>0.000000</td>\n",
              "      <td>0.000000</td>\n",
              "      <td>0.000000</td>\n",
              "      <td>0.00000</td>\n",
              "      <td>0.000000</td>\n",
              "      <td>0.200994</td>\n",
              "      <td>0.000000</td>\n",
              "      <td>3.542956</td>\n",
              "      <td>0.000000</td>\n",
              "      <td>0.478475</td>\n",
              "      <td>0.000000</td>\n",
              "      <td>0.026301</td>\n",
              "      <td>0.483709</td>\n",
              "      <td>0.165291</td>\n",
              "      <td>...</td>\n",
              "      <td>4.587521</td>\n",
              "      <td>5.051373</td>\n",
              "      <td>4.952571</td>\n",
              "      <td>4.885223</td>\n",
              "      <td>4.463458</td>\n",
              "      <td>4.938796</td>\n",
              "      <td>3.467836</td>\n",
              "      <td>5.437813</td>\n",
              "      <td>5.089620</td>\n",
              "      <td>4.354767</td>\n",
              "      <td>6.062548</td>\n",
              "      <td>6.355300</td>\n",
              "      <td>6.336642</td>\n",
              "      <td>5.180200</td>\n",
              "      <td>3.759312</td>\n",
              "      <td>5.169089</td>\n",
              "      <td>5.484675</td>\n",
              "      <td>3.952168</td>\n",
              "      <td>5.221298</td>\n",
              "      <td>6.068228</td>\n",
              "      <td>5.601478</td>\n",
              "      <td>7.631180</td>\n",
              "      <td>7.070896</td>\n",
              "      <td>3.349055</td>\n",
              "      <td>2.758003</td>\n",
              "      <td>5.275575</td>\n",
              "      <td>5.681105</td>\n",
              "      <td>5.341781</td>\n",
              "      <td>4.710917</td>\n",
              "      <td>4.866842</td>\n",
              "      <td>6.097173</td>\n",
              "      <td>4.433888</td>\n",
              "      <td>4.049084</td>\n",
              "      <td>4.901967</td>\n",
              "      <td>4.269933</td>\n",
              "      <td>4.996801</td>\n",
              "      <td>5.502704</td>\n",
              "      <td>5.463231</td>\n",
              "      <td>5.491744</td>\n",
              "      <td>5.434895</td>\n",
              "    </tr>\n",
              "    <tr>\n",
              "      <th>9</th>\n",
              "      <td>1.164825</td>\n",
              "      <td>1.938123</td>\n",
              "      <td>2.237258</td>\n",
              "      <td>1.846191</td>\n",
              "      <td>2.061192</td>\n",
              "      <td>2.569925</td>\n",
              "      <td>1.384716</td>\n",
              "      <td>1.965507</td>\n",
              "      <td>2.013894</td>\n",
              "      <td>1.889482</td>\n",
              "      <td>1.585143</td>\n",
              "      <td>1.20902</td>\n",
              "      <td>1.254574</td>\n",
              "      <td>2.072035</td>\n",
              "      <td>2.067532</td>\n",
              "      <td>1.924569</td>\n",
              "      <td>2.055858</td>\n",
              "      <td>1.633558</td>\n",
              "      <td>2.696371</td>\n",
              "      <td>2.973748</td>\n",
              "      <td>2.603703</td>\n",
              "      <td>1.772356</td>\n",
              "      <td>2.14206</td>\n",
              "      <td>0.802393</td>\n",
              "      <td>1.938745</td>\n",
              "      <td>1.673339</td>\n",
              "      <td>1.340182</td>\n",
              "      <td>2.563178</td>\n",
              "      <td>0.114543</td>\n",
              "      <td>2.17487</td>\n",
              "      <td>0.250086</td>\n",
              "      <td>1.136186</td>\n",
              "      <td>2.292475</td>\n",
              "      <td>0.000000</td>\n",
              "      <td>2.869464</td>\n",
              "      <td>1.521569</td>\n",
              "      <td>1.492089</td>\n",
              "      <td>2.158408</td>\n",
              "      <td>2.098498</td>\n",
              "      <td>2.666560</td>\n",
              "      <td>...</td>\n",
              "      <td>0.865497</td>\n",
              "      <td>0.946523</td>\n",
              "      <td>0.185628</td>\n",
              "      <td>1.410244</td>\n",
              "      <td>0.623978</td>\n",
              "      <td>1.845434</td>\n",
              "      <td>1.850167</td>\n",
              "      <td>0.875568</td>\n",
              "      <td>1.342948</td>\n",
              "      <td>1.576722</td>\n",
              "      <td>2.785326</td>\n",
              "      <td>1.369605</td>\n",
              "      <td>1.097702</td>\n",
              "      <td>1.285523</td>\n",
              "      <td>0.000000</td>\n",
              "      <td>1.041368</td>\n",
              "      <td>0.957492</td>\n",
              "      <td>0.853576</td>\n",
              "      <td>0.643916</td>\n",
              "      <td>0.822633</td>\n",
              "      <td>1.147605</td>\n",
              "      <td>0.000000</td>\n",
              "      <td>1.686718</td>\n",
              "      <td>0.000000</td>\n",
              "      <td>0.000000</td>\n",
              "      <td>0.000000</td>\n",
              "      <td>0.770022</td>\n",
              "      <td>1.079376</td>\n",
              "      <td>2.131918</td>\n",
              "      <td>0.818884</td>\n",
              "      <td>0.934912</td>\n",
              "      <td>0.548316</td>\n",
              "      <td>1.189267</td>\n",
              "      <td>0.668987</td>\n",
              "      <td>2.033659</td>\n",
              "      <td>0.794215</td>\n",
              "      <td>0.000000</td>\n",
              "      <td>1.097265</td>\n",
              "      <td>1.207888</td>\n",
              "      <td>0.000000</td>\n",
              "    </tr>\n",
              "    <tr>\n",
              "      <th>10</th>\n",
              "      <td>0.000000</td>\n",
              "      <td>0.000000</td>\n",
              "      <td>0.000000</td>\n",
              "      <td>0.000000</td>\n",
              "      <td>0.000000</td>\n",
              "      <td>0.000000</td>\n",
              "      <td>0.000000</td>\n",
              "      <td>0.000000</td>\n",
              "      <td>0.000000</td>\n",
              "      <td>0.000000</td>\n",
              "      <td>0.205578</td>\n",
              "      <td>0.00000</td>\n",
              "      <td>0.000000</td>\n",
              "      <td>0.000000</td>\n",
              "      <td>0.000000</td>\n",
              "      <td>0.000000</td>\n",
              "      <td>0.000000</td>\n",
              "      <td>0.000000</td>\n",
              "      <td>0.000000</td>\n",
              "      <td>0.000000</td>\n",
              "      <td>0.000000</td>\n",
              "      <td>0.000000</td>\n",
              "      <td>0.00000</td>\n",
              "      <td>0.000000</td>\n",
              "      <td>0.000000</td>\n",
              "      <td>0.000000</td>\n",
              "      <td>0.000000</td>\n",
              "      <td>1.516373</td>\n",
              "      <td>0.000000</td>\n",
              "      <td>0.00000</td>\n",
              "      <td>0.000000</td>\n",
              "      <td>0.105538</td>\n",
              "      <td>0.000000</td>\n",
              "      <td>0.000000</td>\n",
              "      <td>0.000000</td>\n",
              "      <td>0.000000</td>\n",
              "      <td>0.000000</td>\n",
              "      <td>0.000000</td>\n",
              "      <td>0.000000</td>\n",
              "      <td>0.000000</td>\n",
              "      <td>...</td>\n",
              "      <td>0.000000</td>\n",
              "      <td>0.000000</td>\n",
              "      <td>0.065780</td>\n",
              "      <td>0.306097</td>\n",
              "      <td>0.000000</td>\n",
              "      <td>0.000000</td>\n",
              "      <td>0.062589</td>\n",
              "      <td>0.000000</td>\n",
              "      <td>0.000000</td>\n",
              "      <td>0.000000</td>\n",
              "      <td>0.000000</td>\n",
              "      <td>0.398082</td>\n",
              "      <td>0.000000</td>\n",
              "      <td>0.000000</td>\n",
              "      <td>0.000000</td>\n",
              "      <td>1.961545</td>\n",
              "      <td>0.589218</td>\n",
              "      <td>1.124030</td>\n",
              "      <td>0.000000</td>\n",
              "      <td>0.065023</td>\n",
              "      <td>0.580437</td>\n",
              "      <td>0.000000</td>\n",
              "      <td>0.000000</td>\n",
              "      <td>0.000000</td>\n",
              "      <td>0.000000</td>\n",
              "      <td>0.000000</td>\n",
              "      <td>0.000000</td>\n",
              "      <td>0.000000</td>\n",
              "      <td>2.996466</td>\n",
              "      <td>0.000000</td>\n",
              "      <td>0.121258</td>\n",
              "      <td>0.000000</td>\n",
              "      <td>1.308575</td>\n",
              "      <td>0.213549</td>\n",
              "      <td>0.000000</td>\n",
              "      <td>0.000000</td>\n",
              "      <td>0.000000</td>\n",
              "      <td>0.000000</td>\n",
              "      <td>1.207888</td>\n",
              "      <td>0.595420</td>\n",
              "    </tr>\n",
              "    <tr>\n",
              "      <th>12</th>\n",
              "      <td>0.000000</td>\n",
              "      <td>0.000000</td>\n",
              "      <td>0.000000</td>\n",
              "      <td>0.000000</td>\n",
              "      <td>0.000000</td>\n",
              "      <td>0.000000</td>\n",
              "      <td>0.000000</td>\n",
              "      <td>0.000000</td>\n",
              "      <td>0.000000</td>\n",
              "      <td>0.000000</td>\n",
              "      <td>0.000000</td>\n",
              "      <td>0.00000</td>\n",
              "      <td>0.000000</td>\n",
              "      <td>0.000000</td>\n",
              "      <td>0.000000</td>\n",
              "      <td>0.000000</td>\n",
              "      <td>0.000000</td>\n",
              "      <td>0.000000</td>\n",
              "      <td>0.000000</td>\n",
              "      <td>0.000000</td>\n",
              "      <td>0.000000</td>\n",
              "      <td>0.000000</td>\n",
              "      <td>0.00000</td>\n",
              "      <td>0.000000</td>\n",
              "      <td>0.000000</td>\n",
              "      <td>0.000000</td>\n",
              "      <td>0.000000</td>\n",
              "      <td>0.445597</td>\n",
              "      <td>0.114543</td>\n",
              "      <td>0.00000</td>\n",
              "      <td>0.000000</td>\n",
              "      <td>0.288127</td>\n",
              "      <td>0.000000</td>\n",
              "      <td>0.191550</td>\n",
              "      <td>0.000000</td>\n",
              "      <td>0.097370</td>\n",
              "      <td>0.000000</td>\n",
              "      <td>0.000000</td>\n",
              "      <td>1.413519</td>\n",
              "      <td>0.962269</td>\n",
              "      <td>...</td>\n",
              "      <td>3.940809</td>\n",
              "      <td>6.459911</td>\n",
              "      <td>3.786610</td>\n",
              "      <td>4.371095</td>\n",
              "      <td>6.380161</td>\n",
              "      <td>3.415307</td>\n",
              "      <td>0.771311</td>\n",
              "      <td>4.886065</td>\n",
              "      <td>3.548067</td>\n",
              "      <td>3.544104</td>\n",
              "      <td>8.425444</td>\n",
              "      <td>2.980768</td>\n",
              "      <td>6.113057</td>\n",
              "      <td>2.960929</td>\n",
              "      <td>3.293976</td>\n",
              "      <td>1.961545</td>\n",
              "      <td>1.612012</td>\n",
              "      <td>1.682263</td>\n",
              "      <td>5.272443</td>\n",
              "      <td>3.458523</td>\n",
              "      <td>4.913944</td>\n",
              "      <td>9.457395</td>\n",
              "      <td>4.513442</td>\n",
              "      <td>0.815523</td>\n",
              "      <td>0.436301</td>\n",
              "      <td>0.000000</td>\n",
              "      <td>1.499499</td>\n",
              "      <td>4.288886</td>\n",
              "      <td>1.087563</td>\n",
              "      <td>2.811705</td>\n",
              "      <td>4.696943</td>\n",
              "      <td>3.522386</td>\n",
              "      <td>1.363394</td>\n",
              "      <td>0.668987</td>\n",
              "      <td>3.504922</td>\n",
              "      <td>0.794215</td>\n",
              "      <td>1.756351</td>\n",
              "      <td>4.404723</td>\n",
              "      <td>5.002763</td>\n",
              "      <td>1.347625</td>\n",
              "    </tr>\n",
              "    <tr>\n",
              "      <th>13</th>\n",
              "      <td>0.000000</td>\n",
              "      <td>0.000000</td>\n",
              "      <td>0.000000</td>\n",
              "      <td>0.000000</td>\n",
              "      <td>0.000000</td>\n",
              "      <td>0.000000</td>\n",
              "      <td>0.000000</td>\n",
              "      <td>0.000000</td>\n",
              "      <td>0.000000</td>\n",
              "      <td>0.000000</td>\n",
              "      <td>0.000000</td>\n",
              "      <td>0.00000</td>\n",
              "      <td>0.000000</td>\n",
              "      <td>0.000000</td>\n",
              "      <td>0.000000</td>\n",
              "      <td>0.000000</td>\n",
              "      <td>0.000000</td>\n",
              "      <td>0.000000</td>\n",
              "      <td>0.000000</td>\n",
              "      <td>0.000000</td>\n",
              "      <td>0.000000</td>\n",
              "      <td>0.000000</td>\n",
              "      <td>0.00000</td>\n",
              "      <td>0.000000</td>\n",
              "      <td>0.000000</td>\n",
              "      <td>0.000000</td>\n",
              "      <td>0.000000</td>\n",
              "      <td>0.752756</td>\n",
              "      <td>0.000000</td>\n",
              "      <td>0.00000</td>\n",
              "      <td>0.000000</td>\n",
              "      <td>0.200994</td>\n",
              "      <td>0.000000</td>\n",
              "      <td>0.000000</td>\n",
              "      <td>0.000000</td>\n",
              "      <td>0.000000</td>\n",
              "      <td>0.000000</td>\n",
              "      <td>0.000000</td>\n",
              "      <td>0.000000</td>\n",
              "      <td>0.000000</td>\n",
              "      <td>...</td>\n",
              "      <td>0.000000</td>\n",
              "      <td>0.000000</td>\n",
              "      <td>0.000000</td>\n",
              "      <td>0.400734</td>\n",
              "      <td>0.000000</td>\n",
              "      <td>1.941694</td>\n",
              "      <td>0.062589</td>\n",
              "      <td>0.119820</td>\n",
              "      <td>2.528843</td>\n",
              "      <td>1.359986</td>\n",
              "      <td>0.306463</td>\n",
              "      <td>0.000000</td>\n",
              "      <td>0.000000</td>\n",
              "      <td>0.472389</td>\n",
              "      <td>0.000000</td>\n",
              "      <td>1.041368</td>\n",
              "      <td>0.000000</td>\n",
              "      <td>1.701228</td>\n",
              "      <td>0.643916</td>\n",
              "      <td>0.126075</td>\n",
              "      <td>0.273629</td>\n",
              "      <td>5.050068</td>\n",
              "      <td>3.189086</td>\n",
              "      <td>0.000000</td>\n",
              "      <td>0.000000</td>\n",
              "      <td>0.000000</td>\n",
              "      <td>0.770022</td>\n",
              "      <td>2.171494</td>\n",
              "      <td>4.147719</td>\n",
              "      <td>0.352525</td>\n",
              "      <td>0.959905</td>\n",
              "      <td>2.350839</td>\n",
              "      <td>1.605547</td>\n",
              "      <td>0.000000</td>\n",
              "      <td>0.221782</td>\n",
              "      <td>0.000000</td>\n",
              "      <td>2.563268</td>\n",
              "      <td>0.000000</td>\n",
              "      <td>1.739206</td>\n",
              "      <td>0.000000</td>\n",
              "    </tr>\n",
              "  </tbody>\n",
              "</table>\n",
              "<p>5 rows × 556 columns</p>\n",
              "</div>"
            ],
            "text/plain": [
              "             acantholytic squamous carcinoma cell line:HCC1806  ...  uterus, fetal\n",
              "NCBI_GeneID                                                     ...               \n",
              "2                                                     0.000000  ...       5.434895\n",
              "9                                                     1.164825  ...       0.000000\n",
              "10                                                    0.000000  ...       0.595420\n",
              "12                                                    0.000000  ...       1.347625\n",
              "13                                                    0.000000  ...       0.000000\n",
              "\n",
              "[5 rows x 556 columns]"
            ]
          },
          "metadata": {
            "tags": []
          },
          "execution_count": 10
        }
      ]
    },
    {
      "cell_type": "code",
      "metadata": {
        "id": "9AqzT5acqnod",
        "colab_type": "code",
        "outputId": "ee27a0fa-ddc8-44a4-cd18-31f2b72f2734",
        "colab": {
          "base_uri": "https://localhost:8080/",
          "height": 235
        }
      },
      "source": [
        "# 69, 514カラムを抽出する。\n",
        "df_cage_extracted = df_cage.loc[:,['colon carcinoma cell line:CACO-2', 'small intestine, adult']]\n",
        "df_cage_extracted.head()"
      ],
      "execution_count": 11,
      "outputs": [
        {
          "output_type": "execute_result",
          "data": {
            "text/html": [
              "<div>\n",
              "<style scoped>\n",
              "    .dataframe tbody tr th:only-of-type {\n",
              "        vertical-align: middle;\n",
              "    }\n",
              "\n",
              "    .dataframe tbody tr th {\n",
              "        vertical-align: top;\n",
              "    }\n",
              "\n",
              "    .dataframe thead th {\n",
              "        text-align: right;\n",
              "    }\n",
              "</style>\n",
              "<table border=\"1\" class=\"dataframe\">\n",
              "  <thead>\n",
              "    <tr style=\"text-align: right;\">\n",
              "      <th></th>\n",
              "      <th>colon carcinoma cell line:CACO-2</th>\n",
              "      <th>small intestine, adult</th>\n",
              "    </tr>\n",
              "    <tr>\n",
              "      <th>NCBI_GeneID</th>\n",
              "      <th></th>\n",
              "      <th></th>\n",
              "    </tr>\n",
              "  </thead>\n",
              "  <tbody>\n",
              "    <tr>\n",
              "      <th>2</th>\n",
              "      <td>0.000000</td>\n",
              "      <td>5.328502</td>\n",
              "    </tr>\n",
              "    <tr>\n",
              "      <th>9</th>\n",
              "      <td>2.264108</td>\n",
              "      <td>2.663829</td>\n",
              "    </tr>\n",
              "    <tr>\n",
              "      <th>10</th>\n",
              "      <td>0.448149</td>\n",
              "      <td>3.766171</td>\n",
              "    </tr>\n",
              "    <tr>\n",
              "      <th>12</th>\n",
              "      <td>0.991857</td>\n",
              "      <td>2.910402</td>\n",
              "    </tr>\n",
              "    <tr>\n",
              "      <th>13</th>\n",
              "      <td>0.353511</td>\n",
              "      <td>5.247834</td>\n",
              "    </tr>\n",
              "  </tbody>\n",
              "</table>\n",
              "</div>"
            ],
            "text/plain": [
              "             colon carcinoma cell line:CACO-2  small intestine, adult\n",
              "NCBI_GeneID                                                          \n",
              "2                                    0.000000                5.328502\n",
              "9                                    2.264108                2.663829\n",
              "10                                   0.448149                3.766171\n",
              "12                                   0.991857                2.910402\n",
              "13                                   0.353511                5.247834"
            ]
          },
          "metadata": {
            "tags": []
          },
          "execution_count": 11
        }
      ]
    },
    {
      "cell_type": "code",
      "metadata": {
        "id": "vvNkQ0KArU3C",
        "colab_type": "code",
        "colab": {}
      },
      "source": [
        "df_cage_extracted.to_csv('RefEx_1-69-514.txt', sep='\\t')"
      ],
      "execution_count": 0,
      "outputs": []
    },
    {
      "cell_type": "markdown",
      "metadata": {
        "id": "CpmzoZhqsF8n",
        "colab_type": "text"
      },
      "source": [
        "## IDによる連結\n",
        "\n",
        "### IDの包含関係\n",
        "\n",
        "KEGG Pathway ID 00020, 000620についても遺伝子リストを取得する。"
      ]
    },
    {
      "cell_type": "code",
      "metadata": {
        "id": "eMVKyuqlrihp",
        "colab_type": "code",
        "colab": {}
      },
      "source": [
        "pd.DataFrame(df.loc[df['KEGG Pathway ID'] == '00020', 'Gene name'].unique()).to_csv(\n",
        "    'genes_00020.txt', index=None, header=None)"
      ],
      "execution_count": 0,
      "outputs": []
    },
    {
      "cell_type": "code",
      "metadata": {
        "id": "KPQH7hY8scO3",
        "colab_type": "code",
        "colab": {}
      },
      "source": [
        "pd.DataFrame(df.loc[df['KEGG Pathway ID'] == '00620', 'Gene name'].unique()).to_csv(\n",
        "    'genes_00620.txt', index=None, header=None)"
      ],
      "execution_count": 0,
      "outputs": []
    },
    {
      "cell_type": "markdown",
      "metadata": {
        "id": "g30VMALSveY6",
        "colab_type": "text"
      },
      "source": [
        "#### 自主練習1\n",
        "出てくる回数をカウントせよ。"
      ]
    },
    {
      "cell_type": "markdown",
      "metadata": {
        "id": "DaOlzTlutBPU",
        "colab_type": "text"
      },
      "source": [
        "http://bioinformatics.psb.ugent.be/webtools/Venn/\n",
        "に投げると同じ結果が得られる。\n",
        "\n",
        "![Venn](https://github.com/yyoshiaki/drbonodojo_3-6/raw/master/img/venn_result19700.png)"
      ]
    },
    {
      "cell_type": "markdown",
      "metadata": {
        "id": "QIRSCteYw8ET",
        "colab_type": "text"
      },
      "source": [
        "Pythonの良い点は大概のタスクはライブラリがすでにあること。venn図ももちろんある。"
      ]
    },
    {
      "cell_type": "code",
      "metadata": {
        "id": "SzBwZwUOwJFD",
        "colab_type": "code",
        "colab": {}
      },
      "source": [
        "from matplotlib_venn import venn3"
      ],
      "execution_count": 0,
      "outputs": []
    },
    {
      "cell_type": "code",
      "metadata": {
        "id": "4pGKPZWxwJAB",
        "colab_type": "code",
        "colab": {}
      },
      "source": [
        "genes_00010 = set(df.loc[df['KEGG Pathway ID'] == '00010', 'Gene name'])\n",
        "genes_00020 = set(df.loc[df['KEGG Pathway ID'] == '00020', 'Gene name'])\n",
        "genes_00620 = set(df.loc[df['KEGG Pathway ID'] == '00620', 'Gene name'])"
      ],
      "execution_count": 0,
      "outputs": []
    },
    {
      "cell_type": "code",
      "metadata": {
        "id": "rsfnk_5OwI6t",
        "colab_type": "code",
        "outputId": "55faeca0-d859-4793-b160-a34d1b80a8a0",
        "colab": {
          "base_uri": "https://localhost:8080/",
          "height": 267
        }
      },
      "source": [
        "venn3([genes_00010, genes_00020, genes_00620], ['00010', '00020', '000620'])"
      ],
      "execution_count": 17,
      "outputs": [
        {
          "output_type": "execute_result",
          "data": {
            "text/plain": [
              "<matplotlib_venn._common.VennDiagram at 0x7fc4b1aebd30>"
            ]
          },
          "metadata": {
            "tags": []
          },
          "execution_count": 17
        },
        {
          "output_type": "display_data",
          "data": {
            "image/png": "[encoded data removed]",
            "text/plain": [
              "<Figure size 432x288 with 1 Axes>"
            ]
          },
          "metadata": {
            "tags": []
          }
        }
      ]
    },
    {
      "cell_type": "markdown",
      "metadata": {
        "id": "Ra9TKcdOoaEQ",
        "colab_type": "text"
      },
      "source": [
        "## データ連結の実際"
      ]
    },
    {
      "cell_type": "code",
      "metadata": {
        "id": "Je0sgOfes52g",
        "colab_type": "code",
        "outputId": "3aee35f0-712c-402c-c989-efd251f9081c",
        "colab": {
          "base_uri": "https://localhost:8080/",
          "height": 204
        }
      },
      "source": [
        "df_mart_export3 = pd.read_csv('https://raw.githubusercontent.com/bonohu/DrBonoDojo/master/3-6/mart_export3.txt', sep='\\t')\n",
        "df_mart_export3.head()"
      ],
      "execution_count": 18,
      "outputs": [
        {
          "output_type": "execute_result",
          "data": {
            "text/html": [
              "<div>\n",
              "<style scoped>\n",
              "    .dataframe tbody tr th:only-of-type {\n",
              "        vertical-align: middle;\n",
              "    }\n",
              "\n",
              "    .dataframe tbody tr th {\n",
              "        vertical-align: top;\n",
              "    }\n",
              "\n",
              "    .dataframe thead th {\n",
              "        text-align: right;\n",
              "    }\n",
              "</style>\n",
              "<table border=\"1\" class=\"dataframe\">\n",
              "  <thead>\n",
              "    <tr style=\"text-align: right;\">\n",
              "      <th></th>\n",
              "      <th>Gene name</th>\n",
              "      <th>NCBI gene ID</th>\n",
              "      <th>KEGG Pathway and Enzyme ID</th>\n",
              "    </tr>\n",
              "  </thead>\n",
              "  <tbody>\n",
              "    <tr>\n",
              "      <th>0</th>\n",
              "      <td>MT-ND1</td>\n",
              "      <td>4535.0</td>\n",
              "      <td>NaN</td>\n",
              "    </tr>\n",
              "    <tr>\n",
              "      <th>1</th>\n",
              "      <td>MT-ND2</td>\n",
              "      <td>4536.0</td>\n",
              "      <td>00190+1.6.5.3</td>\n",
              "    </tr>\n",
              "    <tr>\n",
              "      <th>2</th>\n",
              "      <td>MT-CO1</td>\n",
              "      <td>4512.0</td>\n",
              "      <td>00190+1.9.3.1</td>\n",
              "    </tr>\n",
              "    <tr>\n",
              "      <th>3</th>\n",
              "      <td>MT-CO2</td>\n",
              "      <td>4513.0</td>\n",
              "      <td>NaN</td>\n",
              "    </tr>\n",
              "    <tr>\n",
              "      <th>4</th>\n",
              "      <td>MT-ATP8</td>\n",
              "      <td>4509.0</td>\n",
              "      <td>NaN</td>\n",
              "    </tr>\n",
              "  </tbody>\n",
              "</table>\n",
              "</div>"
            ],
            "text/plain": [
              "  Gene name  NCBI gene ID KEGG Pathway and Enzyme ID\n",
              "0    MT-ND1        4535.0                        NaN\n",
              "1    MT-ND2        4536.0              00190+1.6.5.3\n",
              "2    MT-CO1        4512.0              00190+1.9.3.1\n",
              "3    MT-CO2        4513.0                        NaN\n",
              "4   MT-ATP8        4509.0                        NaN"
            ]
          },
          "metadata": {
            "tags": []
          },
          "execution_count": 18
        }
      ]
    },
    {
      "cell_type": "code",
      "metadata": {
        "id": "dkQu6dRQtBO-",
        "colab_type": "code",
        "outputId": "1bcf73b6-25b8-4d69-b479-a2e6cff2019d",
        "colab": {
          "base_uri": "https://localhost:8080/",
          "height": 204
        }
      },
      "source": [
        "# 欠損値を消しておく。\n",
        "df_mart_export3 = df_mart_export3.dropna(subset=['NCBI gene ID', 'KEGG Pathway and Enzyme ID'])\n",
        "df_mart_export3.head()"
      ],
      "execution_count": 19,
      "outputs": [
        {
          "output_type": "execute_result",
          "data": {
            "text/html": [
              "<div>\n",
              "<style scoped>\n",
              "    .dataframe tbody tr th:only-of-type {\n",
              "        vertical-align: middle;\n",
              "    }\n",
              "\n",
              "    .dataframe tbody tr th {\n",
              "        vertical-align: top;\n",
              "    }\n",
              "\n",
              "    .dataframe thead th {\n",
              "        text-align: right;\n",
              "    }\n",
              "</style>\n",
              "<table border=\"1\" class=\"dataframe\">\n",
              "  <thead>\n",
              "    <tr style=\"text-align: right;\">\n",
              "      <th></th>\n",
              "      <th>Gene name</th>\n",
              "      <th>NCBI gene ID</th>\n",
              "      <th>KEGG Pathway and Enzyme ID</th>\n",
              "    </tr>\n",
              "  </thead>\n",
              "  <tbody>\n",
              "    <tr>\n",
              "      <th>1</th>\n",
              "      <td>MT-ND2</td>\n",
              "      <td>4536.0</td>\n",
              "      <td>00190+1.6.5.3</td>\n",
              "    </tr>\n",
              "    <tr>\n",
              "      <th>2</th>\n",
              "      <td>MT-CO1</td>\n",
              "      <td>4512.0</td>\n",
              "      <td>00190+1.9.3.1</td>\n",
              "    </tr>\n",
              "    <tr>\n",
              "      <th>9</th>\n",
              "      <td>MT-ND4</td>\n",
              "      <td>4538.0</td>\n",
              "      <td>00190+1.6.5.3</td>\n",
              "    </tr>\n",
              "    <tr>\n",
              "      <th>10</th>\n",
              "      <td>MT-ND5</td>\n",
              "      <td>4540.0</td>\n",
              "      <td>00190+1.6.5.3</td>\n",
              "    </tr>\n",
              "    <tr>\n",
              "      <th>24</th>\n",
              "      <td>HMOX1</td>\n",
              "      <td>3162.0</td>\n",
              "      <td>00860+1.14.14.18</td>\n",
              "    </tr>\n",
              "  </tbody>\n",
              "</table>\n",
              "</div>"
            ],
            "text/plain": [
              "   Gene name  NCBI gene ID KEGG Pathway and Enzyme ID\n",
              "1     MT-ND2        4536.0              00190+1.6.5.3\n",
              "2     MT-CO1        4512.0              00190+1.9.3.1\n",
              "9     MT-ND4        4538.0              00190+1.6.5.3\n",
              "10    MT-ND5        4540.0              00190+1.6.5.3\n",
              "24     HMOX1        3162.0           00860+1.14.14.18"
            ]
          },
          "metadata": {
            "tags": []
          },
          "execution_count": 19
        }
      ]
    },
    {
      "cell_type": "code",
      "metadata": {
        "id": "aafmZLQgrjOW",
        "colab_type": "code",
        "outputId": "e3a7ef44-5373-4e38-b227-dcf78826c71d",
        "colab": {
          "base_uri": "https://localhost:8080/",
          "height": 204
        }
      },
      "source": [
        "df_mart_export3.sort_values(by='NCBI gene ID').head()"
      ],
      "execution_count": 20,
      "outputs": [
        {
          "output_type": "execute_result",
          "data": {
            "text/html": [
              "<div>\n",
              "<style scoped>\n",
              "    .dataframe tbody tr th:only-of-type {\n",
              "        vertical-align: middle;\n",
              "    }\n",
              "\n",
              "    .dataframe tbody tr th {\n",
              "        vertical-align: top;\n",
              "    }\n",
              "\n",
              "    .dataframe thead th {\n",
              "        text-align: right;\n",
              "    }\n",
              "</style>\n",
              "<table border=\"1\" class=\"dataframe\">\n",
              "  <thead>\n",
              "    <tr style=\"text-align: right;\">\n",
              "      <th></th>\n",
              "      <th>Gene name</th>\n",
              "      <th>NCBI gene ID</th>\n",
              "      <th>KEGG Pathway and Enzyme ID</th>\n",
              "    </tr>\n",
              "  </thead>\n",
              "  <tbody>\n",
              "    <tr>\n",
              "      <th>2910</th>\n",
              "      <td>NAT1</td>\n",
              "      <td>9.0</td>\n",
              "      <td>00983+2.3.1.5</td>\n",
              "    </tr>\n",
              "    <tr>\n",
              "      <th>2911</th>\n",
              "      <td>NAT1</td>\n",
              "      <td>9.0</td>\n",
              "      <td>00232+2.3.1.5</td>\n",
              "    </tr>\n",
              "    <tr>\n",
              "      <th>2912</th>\n",
              "      <td>NAT1</td>\n",
              "      <td>9.0</td>\n",
              "      <td>00633+2.3.1.5</td>\n",
              "    </tr>\n",
              "    <tr>\n",
              "      <th>3072</th>\n",
              "      <td>NAT2</td>\n",
              "      <td>10.0</td>\n",
              "      <td>00232+2.3.1.5</td>\n",
              "    </tr>\n",
              "    <tr>\n",
              "      <th>3073</th>\n",
              "      <td>NAT2</td>\n",
              "      <td>10.0</td>\n",
              "      <td>00633+2.3.1.5</td>\n",
              "    </tr>\n",
              "  </tbody>\n",
              "</table>\n",
              "</div>"
            ],
            "text/plain": [
              "     Gene name  NCBI gene ID KEGG Pathway and Enzyme ID\n",
              "2910      NAT1           9.0              00983+2.3.1.5\n",
              "2911      NAT1           9.0              00232+2.3.1.5\n",
              "2912      NAT1           9.0              00633+2.3.1.5\n",
              "3072      NAT2          10.0              00232+2.3.1.5\n",
              "3073      NAT2          10.0              00633+2.3.1.5"
            ]
          },
          "metadata": {
            "tags": []
          },
          "execution_count": 20
        }
      ]
    },
    {
      "cell_type": "code",
      "metadata": {
        "id": "m3t-uEDcsS-V",
        "colab_type": "code",
        "outputId": "819a79a1-a3c1-4495-d201-c14325c3a662",
        "colab": {
          "base_uri": "https://localhost:8080/",
          "height": 235
        }
      },
      "source": [
        "df_cage_extracted.head()"
      ],
      "execution_count": 21,
      "outputs": [
        {
          "output_type": "execute_result",
          "data": {
            "text/html": [
              "<div>\n",
              "<style scoped>\n",
              "    .dataframe tbody tr th:only-of-type {\n",
              "        vertical-align: middle;\n",
              "    }\n",
              "\n",
              "    .dataframe tbody tr th {\n",
              "        vertical-align: top;\n",
              "    }\n",
              "\n",
              "    .dataframe thead th {\n",
              "        text-align: right;\n",
              "    }\n",
              "</style>\n",
              "<table border=\"1\" class=\"dataframe\">\n",
              "  <thead>\n",
              "    <tr style=\"text-align: right;\">\n",
              "      <th></th>\n",
              "      <th>colon carcinoma cell line:CACO-2</th>\n",
              "      <th>small intestine, adult</th>\n",
              "    </tr>\n",
              "    <tr>\n",
              "      <th>NCBI_GeneID</th>\n",
              "      <th></th>\n",
              "      <th></th>\n",
              "    </tr>\n",
              "  </thead>\n",
              "  <tbody>\n",
              "    <tr>\n",
              "      <th>2</th>\n",
              "      <td>0.000000</td>\n",
              "      <td>5.328502</td>\n",
              "    </tr>\n",
              "    <tr>\n",
              "      <th>9</th>\n",
              "      <td>2.264108</td>\n",
              "      <td>2.663829</td>\n",
              "    </tr>\n",
              "    <tr>\n",
              "      <th>10</th>\n",
              "      <td>0.448149</td>\n",
              "      <td>3.766171</td>\n",
              "    </tr>\n",
              "    <tr>\n",
              "      <th>12</th>\n",
              "      <td>0.991857</td>\n",
              "      <td>2.910402</td>\n",
              "    </tr>\n",
              "    <tr>\n",
              "      <th>13</th>\n",
              "      <td>0.353511</td>\n",
              "      <td>5.247834</td>\n",
              "    </tr>\n",
              "  </tbody>\n",
              "</table>\n",
              "</div>"
            ],
            "text/plain": [
              "             colon carcinoma cell line:CACO-2  small intestine, adult\n",
              "NCBI_GeneID                                                          \n",
              "2                                    0.000000                5.328502\n",
              "9                                    2.264108                2.663829\n",
              "10                                   0.448149                3.766171\n",
              "12                                   0.991857                2.910402\n",
              "13                                   0.353511                5.247834"
            ]
          },
          "metadata": {
            "tags": []
          },
          "execution_count": 21
        }
      ]
    },
    {
      "cell_type": "code",
      "metadata": {
        "id": "TyqEkCbFpyvm",
        "colab_type": "code",
        "outputId": "9afc48c1-2b6b-4655-dfa9-0d390be27e36",
        "colab": {
          "base_uri": "https://localhost:8080/",
          "height": 235
        }
      },
      "source": [
        "# merge用に列（NCBI gene ID）を作る。\n",
        "df_cage_extracted['NCBI gene ID'] = df_cage_extracted.index\n",
        "df_cage_extracted.head()"
      ],
      "execution_count": 22,
      "outputs": [
        {
          "output_type": "execute_result",
          "data": {
            "text/html": [
              "<div>\n",
              "<style scoped>\n",
              "    .dataframe tbody tr th:only-of-type {\n",
              "        vertical-align: middle;\n",
              "    }\n",
              "\n",
              "    .dataframe tbody tr th {\n",
              "        vertical-align: top;\n",
              "    }\n",
              "\n",
              "    .dataframe thead th {\n",
              "        text-align: right;\n",
              "    }\n",
              "</style>\n",
              "<table border=\"1\" class=\"dataframe\">\n",
              "  <thead>\n",
              "    <tr style=\"text-align: right;\">\n",
              "      <th></th>\n",
              "      <th>colon carcinoma cell line:CACO-2</th>\n",
              "      <th>small intestine, adult</th>\n",
              "      <th>NCBI gene ID</th>\n",
              "    </tr>\n",
              "    <tr>\n",
              "      <th>NCBI_GeneID</th>\n",
              "      <th></th>\n",
              "      <th></th>\n",
              "      <th></th>\n",
              "    </tr>\n",
              "  </thead>\n",
              "  <tbody>\n",
              "    <tr>\n",
              "      <th>2</th>\n",
              "      <td>0.000000</td>\n",
              "      <td>5.328502</td>\n",
              "      <td>2</td>\n",
              "    </tr>\n",
              "    <tr>\n",
              "      <th>9</th>\n",
              "      <td>2.264108</td>\n",
              "      <td>2.663829</td>\n",
              "      <td>9</td>\n",
              "    </tr>\n",
              "    <tr>\n",
              "      <th>10</th>\n",
              "      <td>0.448149</td>\n",
              "      <td>3.766171</td>\n",
              "      <td>10</td>\n",
              "    </tr>\n",
              "    <tr>\n",
              "      <th>12</th>\n",
              "      <td>0.991857</td>\n",
              "      <td>2.910402</td>\n",
              "      <td>12</td>\n",
              "    </tr>\n",
              "    <tr>\n",
              "      <th>13</th>\n",
              "      <td>0.353511</td>\n",
              "      <td>5.247834</td>\n",
              "      <td>13</td>\n",
              "    </tr>\n",
              "  </tbody>\n",
              "</table>\n",
              "</div>"
            ],
            "text/plain": [
              "             colon carcinoma cell line:CACO-2  ...  NCBI gene ID\n",
              "NCBI_GeneID                                    ...              \n",
              "2                                    0.000000  ...             2\n",
              "9                                    2.264108  ...             9\n",
              "10                                   0.448149  ...            10\n",
              "12                                   0.991857  ...            12\n",
              "13                                   0.353511  ...            13\n",
              "\n",
              "[5 rows x 3 columns]"
            ]
          },
          "metadata": {
            "tags": []
          },
          "execution_count": 22
        }
      ]
    },
    {
      "cell_type": "code",
      "metadata": {
        "id": "bwx86DfsrdXd",
        "colab_type": "code",
        "outputId": "4e16e501-fcb3-43eb-c7bf-5697d17547c3",
        "colab": {
          "base_uri": "https://localhost:8080/",
          "height": 703
        }
      },
      "source": [
        "df_merged = pd.merge(df_mart_export3, df_cage_extracted, on='NCBI gene ID')\n",
        "df_merged = df_merged.sort_values(by=\"NCBI gene ID\")\n",
        "df_merged.head(20)"
      ],
      "execution_count": 23,
      "outputs": [
        {
          "output_type": "execute_result",
          "data": {
            "text/html": [
              "<div>\n",
              "<style scoped>\n",
              "    .dataframe tbody tr th:only-of-type {\n",
              "        vertical-align: middle;\n",
              "    }\n",
              "\n",
              "    .dataframe tbody tr th {\n",
              "        vertical-align: top;\n",
              "    }\n",
              "\n",
              "    .dataframe thead th {\n",
              "        text-align: right;\n",
              "    }\n",
              "</style>\n",
              "<table border=\"1\" class=\"dataframe\">\n",
              "  <thead>\n",
              "    <tr style=\"text-align: right;\">\n",
              "      <th></th>\n",
              "      <th>Gene name</th>\n",
              "      <th>NCBI gene ID</th>\n",
              "      <th>KEGG Pathway and Enzyme ID</th>\n",
              "      <th>colon carcinoma cell line:CACO-2</th>\n",
              "      <th>small intestine, adult</th>\n",
              "    </tr>\n",
              "  </thead>\n",
              "  <tbody>\n",
              "    <tr>\n",
              "      <th>335</th>\n",
              "      <td>NAT1</td>\n",
              "      <td>9.0</td>\n",
              "      <td>00983+2.3.1.5</td>\n",
              "      <td>2.264108</td>\n",
              "      <td>2.663829</td>\n",
              "    </tr>\n",
              "    <tr>\n",
              "      <th>336</th>\n",
              "      <td>NAT1</td>\n",
              "      <td>9.0</td>\n",
              "      <td>00232+2.3.1.5</td>\n",
              "      <td>2.264108</td>\n",
              "      <td>2.663829</td>\n",
              "    </tr>\n",
              "    <tr>\n",
              "      <th>337</th>\n",
              "      <td>NAT1</td>\n",
              "      <td>9.0</td>\n",
              "      <td>00633+2.3.1.5</td>\n",
              "      <td>2.264108</td>\n",
              "      <td>2.663829</td>\n",
              "    </tr>\n",
              "    <tr>\n",
              "      <th>348</th>\n",
              "      <td>NAT2</td>\n",
              "      <td>10.0</td>\n",
              "      <td>00983+2.3.1.5</td>\n",
              "      <td>0.448149</td>\n",
              "      <td>3.766171</td>\n",
              "    </tr>\n",
              "    <tr>\n",
              "      <th>349</th>\n",
              "      <td>NAT2</td>\n",
              "      <td>10.0</td>\n",
              "      <td>00232+2.3.1.5</td>\n",
              "      <td>0.448149</td>\n",
              "      <td>3.766171</td>\n",
              "    </tr>\n",
              "    <tr>\n",
              "      <th>350</th>\n",
              "      <td>NAT2</td>\n",
              "      <td>10.0</td>\n",
              "      <td>00633+2.3.1.5</td>\n",
              "      <td>0.448149</td>\n",
              "      <td>3.766171</td>\n",
              "    </tr>\n",
              "    <tr>\n",
              "      <th>470</th>\n",
              "      <td>AARS</td>\n",
              "      <td>16.0</td>\n",
              "      <td>00970+6.1.1.7</td>\n",
              "      <td>4.413534</td>\n",
              "      <td>3.497334</td>\n",
              "    </tr>\n",
              "    <tr>\n",
              "      <th>1374</th>\n",
              "      <td>ABAT</td>\n",
              "      <td>18.0</td>\n",
              "      <td>00410+2.6.1.19</td>\n",
              "      <td>3.437472</td>\n",
              "      <td>3.370442</td>\n",
              "    </tr>\n",
              "    <tr>\n",
              "      <th>1376</th>\n",
              "      <td>ABAT</td>\n",
              "      <td>18.0</td>\n",
              "      <td>00640+2.6.1.19</td>\n",
              "      <td>3.437472</td>\n",
              "      <td>3.370442</td>\n",
              "    </tr>\n",
              "    <tr>\n",
              "      <th>1377</th>\n",
              "      <td>ABAT</td>\n",
              "      <td>18.0</td>\n",
              "      <td>00650+2.6.1.19</td>\n",
              "      <td>3.437472</td>\n",
              "      <td>3.370442</td>\n",
              "    </tr>\n",
              "    <tr>\n",
              "      <th>1375</th>\n",
              "      <td>ABAT</td>\n",
              "      <td>18.0</td>\n",
              "      <td>00250+2.6.1.19</td>\n",
              "      <td>3.437472</td>\n",
              "      <td>3.370442</td>\n",
              "    </tr>\n",
              "    <tr>\n",
              "      <th>1929</th>\n",
              "      <td>ABL1</td>\n",
              "      <td>25.0</td>\n",
              "      <td>04660+2.7.10.2</td>\n",
              "      <td>1.829387</td>\n",
              "      <td>2.567958</td>\n",
              "    </tr>\n",
              "    <tr>\n",
              "      <th>2575</th>\n",
              "      <td>AOC1</td>\n",
              "      <td>26.0</td>\n",
              "      <td>00960+1.4.3.21</td>\n",
              "      <td>1.708975</td>\n",
              "      <td>6.260478</td>\n",
              "    </tr>\n",
              "    <tr>\n",
              "      <th>2576</th>\n",
              "      <td>AOC1</td>\n",
              "      <td>26.0</td>\n",
              "      <td>00410+1.4.3.21</td>\n",
              "      <td>1.708975</td>\n",
              "      <td>6.260478</td>\n",
              "    </tr>\n",
              "    <tr>\n",
              "      <th>2577</th>\n",
              "      <td>AOC1</td>\n",
              "      <td>26.0</td>\n",
              "      <td>00360+1.4.3.21</td>\n",
              "      <td>1.708975</td>\n",
              "      <td>6.260478</td>\n",
              "    </tr>\n",
              "    <tr>\n",
              "      <th>2578</th>\n",
              "      <td>AOC1</td>\n",
              "      <td>26.0</td>\n",
              "      <td>00260+1.4.3.21</td>\n",
              "      <td>1.708975</td>\n",
              "      <td>6.260478</td>\n",
              "    </tr>\n",
              "    <tr>\n",
              "      <th>2579</th>\n",
              "      <td>AOC1</td>\n",
              "      <td>26.0</td>\n",
              "      <td>00950+1.4.3.21</td>\n",
              "      <td>1.708975</td>\n",
              "      <td>6.260478</td>\n",
              "    </tr>\n",
              "    <tr>\n",
              "      <th>2580</th>\n",
              "      <td>AOC1</td>\n",
              "      <td>26.0</td>\n",
              "      <td>00350+1.4.3.21</td>\n",
              "      <td>1.708975</td>\n",
              "      <td>6.260478</td>\n",
              "    </tr>\n",
              "    <tr>\n",
              "      <th>2747</th>\n",
              "      <td>ABL2</td>\n",
              "      <td>27.0</td>\n",
              "      <td>04660+2.7.10.2</td>\n",
              "      <td>1.851822</td>\n",
              "      <td>2.200122</td>\n",
              "    </tr>\n",
              "    <tr>\n",
              "      <th>2188</th>\n",
              "      <td>ABR</td>\n",
              "      <td>29.0</td>\n",
              "      <td>05165+2.7.11.1</td>\n",
              "      <td>2.532978</td>\n",
              "      <td>3.492649</td>\n",
              "    </tr>\n",
              "  </tbody>\n",
              "</table>\n",
              "</div>"
            ],
            "text/plain": [
              "     Gene name  ...  small intestine, adult\n",
              "335       NAT1  ...                2.663829\n",
              "336       NAT1  ...                2.663829\n",
              "337       NAT1  ...                2.663829\n",
              "348       NAT2  ...                3.766171\n",
              "349       NAT2  ...                3.766171\n",
              "350       NAT2  ...                3.766171\n",
              "470       AARS  ...                3.497334\n",
              "1374      ABAT  ...                3.370442\n",
              "1376      ABAT  ...                3.370442\n",
              "1377      ABAT  ...                3.370442\n",
              "1375      ABAT  ...                3.370442\n",
              "1929      ABL1  ...                2.567958\n",
              "2575      AOC1  ...                6.260478\n",
              "2576      AOC1  ...                6.260478\n",
              "2577      AOC1  ...                6.260478\n",
              "2578      AOC1  ...                6.260478\n",
              "2579      AOC1  ...                6.260478\n",
              "2580      AOC1  ...                6.260478\n",
              "2747      ABL2  ...                2.200122\n",
              "2188       ABR  ...                3.492649\n",
              "\n",
              "[20 rows x 5 columns]"
            ]
          },
          "metadata": {
            "tags": []
          },
          "execution_count": 23
        }
      ]
    },
    {
      "cell_type": "code",
      "metadata": {
        "id": "rjnkEAHBsldS",
        "colab_type": "code",
        "outputId": "25761485-7d3c-4101-e550-2b2336fda8e7",
        "colab": {
          "base_uri": "https://localhost:8080/",
          "height": 393
        }
      },
      "source": [
        "df_merged[df_merged[\"KEGG Pathway and Enzyme ID\"].str.startswith(\"00010+\")].sort_values(by=\"colon carcinoma cell line:CACO-2\", \n",
        "                                                                                        ascending=False).head(10)"
      ],
      "execution_count": 24,
      "outputs": [
        {
          "output_type": "execute_result",
          "data": {
            "text/html": [
              "<div>\n",
              "<style scoped>\n",
              "    .dataframe tbody tr th:only-of-type {\n",
              "        vertical-align: middle;\n",
              "    }\n",
              "\n",
              "    .dataframe tbody tr th {\n",
              "        vertical-align: top;\n",
              "    }\n",
              "\n",
              "    .dataframe thead th {\n",
              "        text-align: right;\n",
              "    }\n",
              "</style>\n",
              "<table border=\"1\" class=\"dataframe\">\n",
              "  <thead>\n",
              "    <tr style=\"text-align: right;\">\n",
              "      <th></th>\n",
              "      <th>Gene name</th>\n",
              "      <th>NCBI gene ID</th>\n",
              "      <th>KEGG Pathway and Enzyme ID</th>\n",
              "      <th>colon carcinoma cell line:CACO-2</th>\n",
              "      <th>small intestine, adult</th>\n",
              "    </tr>\n",
              "  </thead>\n",
              "  <tbody>\n",
              "    <tr>\n",
              "      <th>56</th>\n",
              "      <td>GAPDH</td>\n",
              "      <td>2597.0</td>\n",
              "      <td>00010+1.2.1.12</td>\n",
              "      <td>7.911370</td>\n",
              "      <td>7.217761</td>\n",
              "    </tr>\n",
              "    <tr>\n",
              "      <th>1133</th>\n",
              "      <td>LDHB</td>\n",
              "      <td>3945.0</td>\n",
              "      <td>00010+1.1.1.27</td>\n",
              "      <td>7.196754</td>\n",
              "      <td>4.336981</td>\n",
              "    </tr>\n",
              "    <tr>\n",
              "      <th>2096</th>\n",
              "      <td>ENO1</td>\n",
              "      <td>2023.0</td>\n",
              "      <td>00010+4.2.1.11</td>\n",
              "      <td>7.083896</td>\n",
              "      <td>6.227354</td>\n",
              "    </tr>\n",
              "    <tr>\n",
              "      <th>1438</th>\n",
              "      <td>LDHA</td>\n",
              "      <td>3939.0</td>\n",
              "      <td>00010+1.1.1.27</td>\n",
              "      <td>6.737518</td>\n",
              "      <td>7.251760</td>\n",
              "    </tr>\n",
              "    <tr>\n",
              "      <th>2532</th>\n",
              "      <td>PKM</td>\n",
              "      <td>5315.0</td>\n",
              "      <td>00010+2.7.1.40</td>\n",
              "      <td>6.703426</td>\n",
              "      <td>5.677099</td>\n",
              "    </tr>\n",
              "    <tr>\n",
              "      <th>28</th>\n",
              "      <td>ALDOA</td>\n",
              "      <td>226.0</td>\n",
              "      <td>00010+4.1.2.13</td>\n",
              "      <td>6.023212</td>\n",
              "      <td>6.221699</td>\n",
              "    </tr>\n",
              "    <tr>\n",
              "      <th>2627</th>\n",
              "      <td>PGK1</td>\n",
              "      <td>5230.0</td>\n",
              "      <td>00010+2.7.2.3</td>\n",
              "      <td>5.996850</td>\n",
              "      <td>5.563040</td>\n",
              "    </tr>\n",
              "    <tr>\n",
              "      <th>171</th>\n",
              "      <td>GPI</td>\n",
              "      <td>2821.0</td>\n",
              "      <td>00010+5.3.1.9</td>\n",
              "      <td>5.616561</td>\n",
              "      <td>5.692047</td>\n",
              "    </tr>\n",
              "    <tr>\n",
              "      <th>479</th>\n",
              "      <td>PFKP</td>\n",
              "      <td>5214.0</td>\n",
              "      <td>00010+2.7.1.11</td>\n",
              "      <td>4.795863</td>\n",
              "      <td>4.210196</td>\n",
              "    </tr>\n",
              "    <tr>\n",
              "      <th>1590</th>\n",
              "      <td>PDHA1</td>\n",
              "      <td>5160.0</td>\n",
              "      <td>00010+1.2.4.1</td>\n",
              "      <td>4.497248</td>\n",
              "      <td>4.109022</td>\n",
              "    </tr>\n",
              "  </tbody>\n",
              "</table>\n",
              "</div>"
            ],
            "text/plain": [
              "     Gene name  ...  small intestine, adult\n",
              "56       GAPDH  ...                7.217761\n",
              "1133      LDHB  ...                4.336981\n",
              "2096      ENO1  ...                6.227354\n",
              "1438      LDHA  ...                7.251760\n",
              "2532       PKM  ...                5.677099\n",
              "28       ALDOA  ...                6.221699\n",
              "2627      PGK1  ...                5.563040\n",
              "171        GPI  ...                5.692047\n",
              "479       PFKP  ...                4.210196\n",
              "1590     PDHA1  ...                4.109022\n",
              "\n",
              "[10 rows x 5 columns]"
            ]
          },
          "metadata": {
            "tags": []
          },
          "execution_count": 24
        }
      ]
    },
    {
      "cell_type": "markdown",
      "metadata": {
        "id": "Aa0xL6NevKA1",
        "colab_type": "text"
      },
      "source": [
        "#### 自主練習2\n",
        "\n",
        "00010+ または 00020+を抜き出せ。"
      ]
    },
    {
      "cell_type": "markdown",
      "metadata": {
        "id": "QYl53nyev6Ha",
        "colab_type": "text"
      },
      "source": [
        "## 連結するための処理\n"
      ]
    },
    {
      "cell_type": "code",
      "metadata": {
        "id": "Q6oseqhzuNFa",
        "colab_type": "code",
        "outputId": "e88cad85-6696-4327-d304-2ffb88a8e6f1",
        "colab": {
          "base_uri": "https://localhost:8080/",
          "height": 204
        }
      },
      "source": [
        "df_TD = pd.read_csv('https://raw.githubusercontent.com/bonohu/DrBonoDojo/master/3-6/Enolase_C-IACV01.txt', header=None)\n",
        "df_TD.columns = ['ID']\n",
        "df_TD"
      ],
      "execution_count": 25,
      "outputs": [
        {
          "output_type": "execute_result",
          "data": {
            "text/html": [
              "<div>\n",
              "<style scoped>\n",
              "    .dataframe tbody tr th:only-of-type {\n",
              "        vertical-align: middle;\n",
              "    }\n",
              "\n",
              "    .dataframe tbody tr th {\n",
              "        vertical-align: top;\n",
              "    }\n",
              "\n",
              "    .dataframe thead th {\n",
              "        text-align: right;\n",
              "    }\n",
              "</style>\n",
              "<table border=\"1\" class=\"dataframe\">\n",
              "  <thead>\n",
              "    <tr style=\"text-align: right;\">\n",
              "      <th></th>\n",
              "      <th>ID</th>\n",
              "    </tr>\n",
              "  </thead>\n",
              "  <tbody>\n",
              "    <tr>\n",
              "      <th>0</th>\n",
              "      <td>IACV01121558.1.p2</td>\n",
              "    </tr>\n",
              "    <tr>\n",
              "      <th>1</th>\n",
              "      <td>IACV01121559.1.p2</td>\n",
              "    </tr>\n",
              "    <tr>\n",
              "      <th>2</th>\n",
              "      <td>IACV01093882.1.p2</td>\n",
              "    </tr>\n",
              "    <tr>\n",
              "      <th>3</th>\n",
              "      <td>IACV01087655.1.p1</td>\n",
              "    </tr>\n",
              "    <tr>\n",
              "      <th>4</th>\n",
              "      <td>IACV01121563.1.p1</td>\n",
              "    </tr>\n",
              "  </tbody>\n",
              "</table>\n",
              "</div>"
            ],
            "text/plain": [
              "                  ID\n",
              "0  IACV01121558.1.p2\n",
              "1  IACV01121559.1.p2\n",
              "2  IACV01093882.1.p2\n",
              "3  IACV01087655.1.p1\n",
              "4  IACV01121563.1.p1"
            ]
          },
          "metadata": {
            "tags": []
          },
          "execution_count": 25
        }
      ]
    },
    {
      "cell_type": "code",
      "metadata": {
        "id": "QFcokcHNwTgP",
        "colab_type": "code",
        "outputId": "7f64d526-b69a-4e2b-fd50-5360894e0a98",
        "colab": {
          "base_uri": "https://localhost:8080/",
          "height": 119
        }
      },
      "source": [
        "df_TD['ID'].str.split('.p').str.get(0)"
      ],
      "execution_count": 26,
      "outputs": [
        {
          "output_type": "execute_result",
          "data": {
            "text/plain": [
              "0    IACV01121558.1\n",
              "1    IACV01121559.1\n",
              "2    IACV01093882.1\n",
              "3    IACV01087655.1\n",
              "4    IACV01121563.1\n",
              "Name: ID, dtype: object"
            ]
          },
          "metadata": {
            "tags": []
          },
          "execution_count": 26
        }
      ]
    },
    {
      "cell_type": "markdown",
      "metadata": {
        "id": "p2q9UeZCyQL7",
        "colab_type": "text"
      },
      "source": [
        "fastaは少しめんどくさい構造をしているのでbiopythonやscikit-bioを使うのもおすすめ。"
      ]
    },
    {
      "cell_type": "code",
      "metadata": {
        "id": "oZDEghgtylqa",
        "colab_type": "code",
        "outputId": "3b32524f-b8cd-4c41-e17d-6b01c54f91fe",
        "colab": {
          "base_uri": "https://localhost:8080/",
          "height": 309
        }
      },
      "source": [
        "# IACV01.1.fsa_nt.transdecoder.pep.gzをダウンロード。\n",
        "! wget https://github.com/bonohu/DrBonoDojo/raw/master/3-6/IACV01.1.fsa_nt.transdecoder.pep.gz"
      ],
      "execution_count": 27,
      "outputs": [
        {
          "output_type": "stream",
          "text": [
            "--2019-10-17 12:55:36--  https://github.com/bonohu/DrBonoDojo/raw/master/3-6/IACV01.1.fsa_nt.transdecoder.pep.gz\n",
            "Resolving github.com (github.com)... 140.82.114.4\n",
            "Connecting to github.com (github.com)|140.82.114.4|:443... connected.\n",
            "HTTP request sent, awaiting response... 302 Found\n",
            "Location: https://raw.githubusercontent.com/bonohu/DrBonoDojo/master/3-6/IACV01.1.fsa_nt.transdecoder.pep.gz [following]\n",
            "--2019-10-17 12:55:37--  https://raw.githubusercontent.com/bonohu/DrBonoDojo/master/3-6/IACV01.1.fsa_nt.transdecoder.pep.gz\n",
            "Resolving raw.githubusercontent.com (raw.githubusercontent.com)... 151.101.0.133, 151.101.64.133, 151.101.128.133, ...\n",
            "Connecting to raw.githubusercontent.com (raw.githubusercontent.com)|151.101.0.133|:443... connected.\n",
            "HTTP request sent, awaiting response... 200 OK\n",
            "Length: 6121309 (5.8M) [application/octet-stream]\n",
            "Saving to: ‘IACV01.1.fsa_nt.transdecoder.pep.gz’\n",
            "\n",
            "IACV01.1.fsa_nt.tra 100%[===================>]   5.84M  --.-KB/s    in 0.07s   \n",
            "\n",
            "2019-10-17 12:55:37 (82.8 MB/s) - ‘IACV01.1.fsa_nt.transdecoder.pep.gz’ saved [6121309/6121309]\n",
            "\n"
          ],
          "name": "stdout"
        }
      ]
    },
    {
      "cell_type": "code",
      "metadata": {
        "id": "jfvgY2ZC72p0",
        "colab_type": "code",
        "colab": {}
      },
      "source": [
        "! gunzip IACV01.1.fsa_nt.transdecoder.pep.gz"
      ],
      "execution_count": 0,
      "outputs": []
    },
    {
      "cell_type": "code",
      "metadata": {
        "id": "cFtfZD83zXAZ",
        "colab_type": "code",
        "outputId": "b9829288-98d6-42d2-9941-2e049af1800a",
        "colab": {
          "base_uri": "https://localhost:8080/",
          "height": 394
        }
      },
      "source": [
        "with open('IACV01.1.fsa_nt.transdecoder.pep', 'r') as f:\n",
        "    line = f.readline() # 1行を文字列として読み込む(改行文字も含まれる)\n",
        "    l = 0\n",
        "    while line:\n",
        "        print(line, end=\"\")\n",
        "        line = f.readline()\n",
        "        l += 1\n",
        "        if l > 20: # 長いので20行で終了する。\n",
        "          break"
      ],
      "execution_count": 29,
      "outputs": [
        {
          "output_type": "stream",
          "text": [
            ">IACV01000035.1.p1 GENE.IACV01000035.1~~IACV01000035.1.p1  ORF type:5prime_partial len:122 (+),score=43.87 IACV01000035.1:1-366(+)\n",
            "TKTLWVTKVEKFIDYRVTATLEVKNCVPSEFKFPQCQKIHHPPAPHPHPQPHLHPHPPTR\n",
            "PHKPTSYRPPQHQGNVHYEVPYHDEEPTAEQPAEATHDQKDEKQWVEPNLQPIVDDVFYK\n",
            "V*\n",
            ">IACV01000039.1.p1 GENE.IACV01000039.1~~IACV01000039.1.p1  ORF type:internal len:110 (+),score=30.88 IACV01000039.1:1-327(+)\n",
            "PECLDGALTEALAERFDNEPEDMDVDTIHAEVEKVIVGLSASRWAPEGDLGTAPPPASKP\n",
            "PPKPSPSAQSAGDTAPQPLGSRFQILADVGETAQDPPPQPTQRKIAPTR\n",
            ">IACV01000055.1.p1 GENE.IACV01000055.1~~IACV01000055.1.p1  ORF type:internal len:105 (-),score=24.26 IACV01000055.1:2-313(-)\n",
            "GCAPASALSPEAWPSGLSYKNIGKGNMFPQQHRHCPQPLLLAIRVEHTSLDNGDIVDGAV\n",
            "IGGGGHESHALDGGEASLDPAKDGVLAVKPWSRSESDEELGAVC\n",
            ">IACV01000066.1.p1 GENE.IACV01000066.1~~IACV01000066.1.p1  ORF type:3prime_partial len:134 (-),score=1.60 IACV01000066.1:2-400(-)\n",
            "MFPSDRTSDIIDFPGNTVKVLWNKGKNEYTWDCDSLVQRGKIPQKNIVHIIPGPTPEASN\n",
            "KLQPYSCFQLFFSDDIMSTILVHTSSEITRQRILYSTNFKANLSDTSIIELKAQLGIQVL\n",
            "SAALKDNHITTEI\n",
            ">IACV01000067.1.p1 GENE.IACV01000067.1~~IACV01000067.1.p1  ORF type:internal len:128 (-),score=29.07 IACV01000067.1:2-382(-)\n",
            "GHSIGHAIEAILAPQLLHGEAIAIGMVKEAELARFLGVLRPHAVARLTKCIAAFGLPTSL\n",
            "RDARVVKLTAGKQCHVREMLQKMSVDKKNDGSKKKIVLLSAIGKTYESKASVVADRTVEM\n",
            "ILGSSVL\n",
            ">IACV01000070.1.p1 GENE.IACV01000070.1~~IACV01000070.1.p1  ORF type:5prime_partial len:129 (+),score=18.31 IACV01000070.1:1-387(+)\n",
            "VEMTPVKHVSETCDSREAVSETSIIDFKKALSDLRNEILEGQAVLKDSLKSCHDKLDANS\n",
            "TLLSKQEKLIETQQEIIKALQSENESLKQKVSDLTLRCDDLEQYGRRNTVEIQGIPMTEA\n"
          ],
          "name": "stdout"
        }
      ]
    },
    {
      "cell_type": "code",
      "metadata": {
        "id": "9rxGfns6zIKS",
        "colab_type": "code",
        "outputId": "1c08d062-8a97-4627-ee9f-f8d2a7d2e98f",
        "colab": {
          "base_uri": "https://localhost:8080/",
          "height": 207
        }
      },
      "source": [
        "!perl -pe 's/^\\>(\\w+)\\.p\\d+/\\>$1/' IACV01.1.fsa_nt.transdecoder.pep | head"
      ],
      "execution_count": 30,
      "outputs": [
        {
          "output_type": "stream",
          "text": [
            ">IACV01000035.1.p1 GENE.IACV01000035.1~~IACV01000035.1.p1  ORF type:5prime_partial len:122 (+),score=43.87 IACV01000035.1:1-366(+)\n",
            "TKTLWVTKVEKFIDYRVTATLEVKNCVPSEFKFPQCQKIHHPPAPHPHPQPHLHPHPPTR\n",
            "PHKPTSYRPPQHQGNVHYEVPYHDEEPTAEQPAEATHDQKDEKQWVEPNLQPIVDDVFYK\n",
            "V*\n",
            ">IACV01000039.1.p1 GENE.IACV01000039.1~~IACV01000039.1.p1  ORF type:internal len:110 (+),score=30.88 IACV01000039.1:1-327(+)\n",
            "PECLDGALTEALAERFDNEPEDMDVDTIHAEVEKVIVGLSASRWAPEGDLGTAPPPASKP\n",
            "PPKPSPSAQSAGDTAPQPLGSRFQILADVGETAQDPPPQPTQRKIAPTR\n",
            ">IACV01000055.1.p1 GENE.IACV01000055.1~~IACV01000055.1.p1  ORF type:internal len:105 (-),score=24.26 IACV01000055.1:2-313(-)\n",
            "GCAPASALSPEAWPSGLSYKNIGKGNMFPQQHRHCPQPLLLAIRVEHTSLDNGDIVDGAV\n",
            "IGGGGHESHALDGGEASLDPAKDGVLAVKPWSRSESDEELGAVC\n"
          ],
          "name": "stdout"
        }
      ]
    },
    {
      "cell_type": "code",
      "metadata": {
        "id": "ORsFL9TQ9PVO",
        "colab_type": "code",
        "outputId": "f00281ce-b35e-4c5a-a96a-6fe21817934f",
        "colab": {
          "base_uri": "https://localhost:8080/",
          "height": 207
        }
      },
      "source": [
        "!head IACV01.1.fsa_nt.transdecoder.pep"
      ],
      "execution_count": 31,
      "outputs": [
        {
          "output_type": "stream",
          "text": [
            ">IACV01000035.1.p1 GENE.IACV01000035.1~~IACV01000035.1.p1  ORF type:5prime_partial len:122 (+),score=43.87 IACV01000035.1:1-366(+)\n",
            "TKTLWVTKVEKFIDYRVTATLEVKNCVPSEFKFPQCQKIHHPPAPHPHPQPHLHPHPPTR\n",
            "PHKPTSYRPPQHQGNVHYEVPYHDEEPTAEQPAEATHDQKDEKQWVEPNLQPIVDDVFYK\n",
            "V*\n",
            ">IACV01000039.1.p1 GENE.IACV01000039.1~~IACV01000039.1.p1  ORF type:internal len:110 (+),score=30.88 IACV01000039.1:1-327(+)\n",
            "PECLDGALTEALAERFDNEPEDMDVDTIHAEVEKVIVGLSASRWAPEGDLGTAPPPASKP\n",
            "PPKPSPSAQSAGDTAPQPLGSRFQILADVGETAQDPPPQPTQRKIAPTR\n",
            ">IACV01000055.1.p1 GENE.IACV01000055.1~~IACV01000055.1.p1  ORF type:internal len:105 (-),score=24.26 IACV01000055.1:2-313(-)\n",
            "GCAPASALSPEAWPSGLSYKNIGKGNMFPQQHRHCPQPLLLAIRVEHTSLDNGDIVDGAV\n",
            "IGGGGHESHALDGGEASLDPAKDGVLAVKPWSRSESDEELGAVC\n"
          ],
          "name": "stdout"
        }
      ]
    },
    {
      "cell_type": "markdown",
      "metadata": {
        "id": "la97F_ewC1K3",
        "colab_type": "text"
      },
      "source": [
        "## 1対多のデータ処理\n",
        "\n",
        "重複がないことをその都度確認するのは重要。"
      ]
    },
    {
      "cell_type": "code",
      "metadata": {
        "id": "5n8yl47n9RCK",
        "colab_type": "code",
        "outputId": "5455b16d-729c-4985-ba36-0058c1ec4a56",
        "colab": {
          "base_uri": "https://localhost:8080/",
          "height": 34
        }
      },
      "source": [
        "df_cage_extracted['NCBI gene ID'].is_unique"
      ],
      "execution_count": 32,
      "outputs": [
        {
          "output_type": "execute_result",
          "data": {
            "text/plain": [
              "True"
            ]
          },
          "metadata": {
            "tags": []
          },
          "execution_count": 32
        }
      ]
    },
    {
      "cell_type": "code",
      "metadata": {
        "id": "a_o9tAhNGP0f",
        "colab_type": "code",
        "outputId": "a61ef5ed-2066-4034-f81e-7532ad308911",
        "colab": {
          "base_uri": "https://localhost:8080/",
          "height": 224
        }
      },
      "source": [
        "!pip install sparqldataframe"
      ],
      "execution_count": 33,
      "outputs": [
        {
          "output_type": "stream",
          "text": [
            "Requirement already satisfied: sparqldataframe in /usr/local/lib/python3.6/dist-packages (0.1.0)\n",
            "Requirement already satisfied: requests in /usr/local/lib/python3.6/dist-packages (from sparqldataframe) (2.21.0)\n",
            "Requirement already satisfied: pandas in /usr/local/lib/python3.6/dist-packages (from sparqldataframe) (0.24.2)\n",
            "Requirement already satisfied: urllib3<1.25,>=1.21.1 in /usr/local/lib/python3.6/dist-packages (from requests->sparqldataframe) (1.24.3)\n",
            "Requirement already satisfied: certifi>=2017.4.17 in /usr/local/lib/python3.6/dist-packages (from requests->sparqldataframe) (2019.9.11)\n",
            "Requirement already satisfied: chardet<3.1.0,>=3.0.2 in /usr/local/lib/python3.6/dist-packages (from requests->sparqldataframe) (3.0.4)\n",
            "Requirement already satisfied: idna<2.9,>=2.5 in /usr/local/lib/python3.6/dist-packages (from requests->sparqldataframe) (2.8)\n",
            "Requirement already satisfied: python-dateutil>=2.5.0 in /usr/local/lib/python3.6/dist-packages (from pandas->sparqldataframe) (2.5.3)\n",
            "Requirement already satisfied: pytz>=2011k in /usr/local/lib/python3.6/dist-packages (from pandas->sparqldataframe) (2018.9)\n",
            "Requirement already satisfied: numpy>=1.12.0 in /usr/local/lib/python3.6/dist-packages (from pandas->sparqldataframe) (1.16.5)\n",
            "Requirement already satisfied: six>=1.5 in /usr/local/lib/python3.6/dist-packages (from python-dateutil>=2.5.0->pandas->sparqldataframe) (1.12.0)\n"
          ],
          "name": "stdout"
        }
      ]
    },
    {
      "cell_type": "code",
      "metadata": {
        "id": "QOQsEISjGVD2",
        "colab_type": "code",
        "outputId": "4dcd94f1-d069-4267-b02b-997a17f98365",
        "colab": {
          "base_uri": "https://localhost:8080/",
          "height": 54
        }
      },
      "source": [
        "!pip install simplejson"
      ],
      "execution_count": 34,
      "outputs": [
        {
          "output_type": "stream",
          "text": [
            "Requirement already satisfied: simplejson in /usr/local/lib/python3.6/dist-packages (3.16.0)\n"
          ],
          "name": "stdout"
        }
      ]
    },
    {
      "cell_type": "code",
      "metadata": {
        "id": "-r44zSIAIZT3",
        "colab_type": "code",
        "outputId": "d0d09896-8364-4f31-d227-fe0163051414",
        "colab": {
          "base_uri": "https://localhost:8080/",
          "height": 309
        }
      },
      "source": [
        "!wget https://github.com/bonohu/DrBonoDojo/raw/master/3-6/taxonomy.rq"
      ],
      "execution_count": 35,
      "outputs": [
        {
          "output_type": "stream",
          "text": [
            "--2019-10-17 12:55:49--  https://github.com/bonohu/DrBonoDojo/raw/master/3-6/taxonomy.rq\n",
            "Resolving github.com (github.com)... 140.82.114.4\n",
            "Connecting to github.com (github.com)|140.82.114.4|:443... connected.\n",
            "HTTP request sent, awaiting response... 302 Found\n",
            "Location: https://raw.githubusercontent.com/bonohu/DrBonoDojo/master/3-6/taxonomy.rq [following]\n",
            "--2019-10-17 12:55:50--  https://raw.githubusercontent.com/bonohu/DrBonoDojo/master/3-6/taxonomy.rq\n",
            "Resolving raw.githubusercontent.com (raw.githubusercontent.com)... 151.101.0.133, 151.101.64.133, 151.101.128.133, ...\n",
            "Connecting to raw.githubusercontent.com (raw.githubusercontent.com)|151.101.0.133|:443... connected.\n",
            "HTTP request sent, awaiting response... 200 OK\n",
            "Length: 956 [text/plain]\n",
            "Saving to: ‘taxonomy.rq.1’\n",
            "\n",
            "\rtaxonomy.rq.1         0%[                    ]       0  --.-KB/s               \rtaxonomy.rq.1       100%[===================>]     956  --.-KB/s    in 0s      \n",
            "\n",
            "2019-10-17 12:55:50 (113 MB/s) - ‘taxonomy.rq.1’ saved [956/956]\n",
            "\n"
          ],
          "name": "stdout"
        }
      ]
    },
    {
      "cell_type": "code",
      "metadata": {
        "id": "SV2tJs4hIZJT",
        "colab_type": "code",
        "outputId": "7cac21cf-b97c-4a2c-d65d-aacd974e225d",
        "colab": {
          "base_uri": "https://localhost:8080/",
          "height": 700
        }
      },
      "source": [
        "!curl -F query=@taxonomy.rq -H \"Accept: application/sparql-results+xml\" http://togogenome.org/sparql"
      ],
      "execution_count": 36,
      "outputs": [
        {
          "output_type": "stream",
          "text": [
            "<sparql xmlns=\"http://www.w3.org/2005/sparql-results#\" xmlns:xsi=\"http://www.w3.org/2001/XMLSchema-instance\" xsi:schemaLocation=\"http://www.w3.org/2001/sw/DataAccess/rf1/result2.xsd\">\n",
            " <head>\n",
            "  <variable name=\"taxonid\"/>\n",
            "  <variable name=\"species\"/>\n",
            "  <variable name=\"order\"/>\n",
            "  <variable name=\"family\"/>\n",
            "  <variable name=\"subfamily\"/>\n",
            " </head>\n",
            " <results distinct=\"false\" ordered=\"true\">\n",
            "  <result>\n",
            "   <binding name=\"taxonid\"><literal datatype=\"http://www.w3.org/2001/XMLSchema#integer\">10090</literal></binding>\n",
            "   <binding name=\"species\"><literal>Mus musculus</literal></binding>\n",
            "   <binding name=\"order\"><literal>Rodentia</literal></binding>\n",
            "   <binding name=\"family\"><literal>Muridae</literal></binding>\n",
            "   <binding name=\"subfamily\"><literal>Murinae</literal></binding>\n",
            "  </result>\n",
            "  <result>\n",
            "   <binding name=\"taxonid\"><literal datatype=\"http://www.w3.org/2001/XMLSchema#integer\">7091</literal></binding>\n",
            "   <binding name=\"species\"><literal>Bombyx mori</literal></binding>\n",
            "   <binding name=\"order\"><literal>Lepidoptera</literal></binding>\n",
            "   <binding name=\"family\"><literal>Bombycidae</literal></binding>\n",
            "   <binding name=\"subfamily\"><literal>Bombycinae</literal></binding>\n",
            "  </result>\n",
            "  <result>\n",
            "   <binding name=\"taxonid\"><literal datatype=\"http://www.w3.org/2001/XMLSchema#integer\">9606</literal></binding>\n",
            "   <binding name=\"species\"><literal>Homo sapiens</literal></binding>\n",
            "   <binding name=\"order\"><literal>Primates</literal></binding>\n",
            "   <binding name=\"family\"><literal>Hominidae</literal></binding>\n",
            "   <binding name=\"subfamily\"><literal>Homininae</literal></binding>\n",
            "  </result>\n",
            "  <result>\n",
            "   <binding name=\"taxonid\"><literal datatype=\"http://www.w3.org/2001/XMLSchema#integer\">29053</literal></binding>\n",
            "   <binding name=\"species\"><literal>Copidosoma floridanum</literal></binding>\n",
            "   <binding name=\"order\"><literal>Hymenoptera</literal></binding>\n",
            "   <binding name=\"family\"><literal>Encyrtidae</literal></binding>\n",
            "   <binding name=\"subfamily\"><literal>Encyrtinae</literal></binding>\n",
            "  </result>\n",
            " </results>\n",
            "</sparql>"
          ],
          "name": "stdout"
        }
      ]
    },
    {
      "cell_type": "code",
      "metadata": {
        "id": "tXB9peDgDIjG",
        "colab_type": "code",
        "colab": {}
      },
      "source": [
        "import sparqldataframe\n",
        "\n",
        "sparql_query = \"\"\" \n",
        "select distinct ?taxonid ?species ?order ?family ?subfamily\n",
        "where {\n",
        "  graph <http://togogenome.org/graph/taxonomy> {\n",
        "    ?sp a <http://ddbj.nig.ac.jp/ontologies/taxonomy/Taxon> .\n",
        "    ?sp <http://purl.org/dc/terms/identifier> ?taxonid .\n",
        "    ?sp rdfs:label ?species .\n",
        "    filter(?taxonid IN(9606, 10090, 7091, 29053))\n",
        "    ?sp rdfs:subClassOf+ ?parentsf .\n",
        "    ?parentsf rdfs:label ?subfamily;\n",
        "      <http://ddbj.nig.ac.jp/ontologies/taxonomy/rank> ?taxranksf .\n",
        "    ?taxranksf rdfs:label ?ranksf .\n",
        "    filter(?ranksf = \"subfamily\")\n",
        "    ?parentsf rdfs:subClassOf+ ?parentfm .\n",
        "    ?parentfm rdfs:label ?family;\n",
        "      <http://ddbj.nig.ac.jp/ontologies/taxonomy/rank> ?taxrankfm .\n",
        "    ?taxrankfm rdfs:label ?rankfm .\n",
        "    filter(?rankfm = \"family\")\n",
        "    ?parentfm rdfs:subClassOf+ ?parentod .\n",
        "    ?parentod rdfs:label ?order;\n",
        "      <http://ddbj.nig.ac.jp/ontologies/taxonomy/rank> ?taxrankod .\n",
        "    ?taxrankod rdfs:label ?rankod .\n",
        "    filter(?rankod = \"order\")\n",
        "  }\n",
        "}\n",
        "\"\"\"\n",
        "df = sparqldataframe.query(\"http://togogenome.org/sparql\", sparql_query)"
      ],
      "execution_count": 0,
      "outputs": []
    },
    {
      "cell_type": "code",
      "metadata": {
        "id": "tsAISYD9GN97",
        "colab_type": "code",
        "colab": {
          "base_uri": "https://localhost:8080/",
          "height": 173
        },
        "outputId": "c3cf7500-5772-40a3-a240-2682cfa66be3"
      },
      "source": [
        "df"
      ],
      "execution_count": 38,
      "outputs": [
        {
          "output_type": "execute_result",
          "data": {
            "text/html": [
              "<div>\n",
              "<style scoped>\n",
              "    .dataframe tbody tr th:only-of-type {\n",
              "        vertical-align: middle;\n",
              "    }\n",
              "\n",
              "    .dataframe tbody tr th {\n",
              "        vertical-align: top;\n",
              "    }\n",
              "\n",
              "    .dataframe thead th {\n",
              "        text-align: right;\n",
              "    }\n",
              "</style>\n",
              "<table border=\"1\" class=\"dataframe\">\n",
              "  <thead>\n",
              "    <tr style=\"text-align: right;\">\n",
              "      <th></th>\n",
              "      <th>taxonid</th>\n",
              "      <th>species</th>\n",
              "      <th>order</th>\n",
              "      <th>family</th>\n",
              "      <th>subfamily</th>\n",
              "    </tr>\n",
              "  </thead>\n",
              "  <tbody>\n",
              "    <tr>\n",
              "      <th>0</th>\n",
              "      <td>10090</td>\n",
              "      <td>Mus musculus</td>\n",
              "      <td>Rodentia</td>\n",
              "      <td>Muridae</td>\n",
              "      <td>Murinae</td>\n",
              "    </tr>\n",
              "    <tr>\n",
              "      <th>1</th>\n",
              "      <td>7091</td>\n",
              "      <td>Bombyx mori</td>\n",
              "      <td>Lepidoptera</td>\n",
              "      <td>Bombycidae</td>\n",
              "      <td>Bombycinae</td>\n",
              "    </tr>\n",
              "    <tr>\n",
              "      <th>2</th>\n",
              "      <td>9606</td>\n",
              "      <td>Homo sapiens</td>\n",
              "      <td>Primates</td>\n",
              "      <td>Hominidae</td>\n",
              "      <td>Homininae</td>\n",
              "    </tr>\n",
              "    <tr>\n",
              "      <th>3</th>\n",
              "      <td>29053</td>\n",
              "      <td>Copidosoma floridanum</td>\n",
              "      <td>Hymenoptera</td>\n",
              "      <td>Encyrtidae</td>\n",
              "      <td>Encyrtinae</td>\n",
              "    </tr>\n",
              "  </tbody>\n",
              "</table>\n",
              "</div>"
            ],
            "text/plain": [
              "  taxonid                species        order      family   subfamily\n",
              "0   10090           Mus musculus     Rodentia     Muridae     Murinae\n",
              "1    7091            Bombyx mori  Lepidoptera  Bombycidae  Bombycinae\n",
              "2    9606           Homo sapiens     Primates   Hominidae   Homininae\n",
              "3   29053  Copidosoma floridanum  Hymenoptera  Encyrtidae  Encyrtinae"
            ]
          },
          "metadata": {
            "tags": []
          },
          "execution_count": 38
        }
      ]
    },
    {
      "cell_type": "code",
      "metadata": {
        "id": "VXvZqBAKGZL-",
        "colab_type": "code",
        "colab": {}
      },
      "source": [
        ""
      ],
      "execution_count": 0,
      "outputs": []
    }
  ]
}