{
  "nbformat": 4,
  "nbformat_minor": 0,
  "metadata": {
    "colab": {
      "name": "drbonodojo3-6.ipynb",
      "provenance": [],
      "collapsed_sections": [],
      "toc_visible": true,
      "include_colab_link": true
    },
    "kernelspec": {
      "name": "python3",
      "display_name": "Python 3"
    }
  },
  "cells": [
    {
      "cell_type": "markdown",
      "metadata": {
        "id": "view-in-github",
        "colab_type": "text"
      },
      "source": [
        "<a href=\"https://colab.research.google.com/github/yyoshiaki/drbonodojo_3-6/blob/master/drbonodojo3_6.ipynb\" target=\"_parent\"><img src=\"https://colab.research.google.com/assets/colab-badge.svg\" alt=\"Open In Colab\"/></a>"
      ]
    },
    {
      "cell_type": "markdown",
      "metadata": {
        "id": "2rogApceeGuk",
        "colab_type": "text"
      },
      "source": [
        "# 3.6 データ統合解析"
      ]
    },
    {
      "cell_type": "markdown",
      "metadata": {
        "id": "VB6kx7CqeK5Q",
        "colab_type": "text"
      },
      "source": [
        "## リファレンスデータセット"
      ]
    },
    {
      "cell_type": "markdown",
      "metadata": {
        "id": "NweXo6T4hjqU",
        "colab_type": "text"
      },
      "source": [
        "### 遺伝子アノテーションデータ\n",
        "\n",
        "p172〜にならってBiomartからKEGG Pathway and Enzyme IDとGene nameを抽出し、glycolysis(KEGG Pathway ID 00010)の遺伝子を抜き出す。せっかくなのでPythonでやってみよう！\n",
        "\n",
        "最新版ではGRCh38.p13になっていた。\n",
        "\n",
        "![image.png](https://github.com/yyoshiaki/drbonodojo_3-6/raw/master/img/biomart.png)"
      ]
    },
    {
      "cell_type": "code",
      "metadata": {
        "id": "cOBJYyDcUMIU",
        "colab_type": "code",
        "colab": {}
      },
      "source": [
        "# pandasというデータフレーム処理のライブラリを読み込む。もっともよく使うライブラリ。\n",
        "import pandas as pd"
      ],
      "execution_count": 0,
      "outputs": []
    },
    {
      "cell_type": "code",
      "metadata": {
        "id": "SkjA02aWWL43",
        "colab_type": "code",
        "outputId": "d1015e40-dde2-4e77-9127-581f340d2e0a",
        "colab": {
          "base_uri": "https://localhost:8080/",
          "height": 198
        }
      },
      "source": [
        "# mart_export.txtをdfという変数に格納。\n",
        "df = pd.read_csv('https://raw.githubusercontent.com/yyoshiaki/drbonodojo_3-6/master/mart_export.txt', sep='\\t')\n",
        "df.head()"
      ],
      "execution_count": 0,
      "outputs": [
        {
          "output_type": "execute_result",
          "data": {
            "text/html": [
              "<div>\n",
              "<style scoped>\n",
              "    .dataframe tbody tr th:only-of-type {\n",
              "        vertical-align: middle;\n",
              "    }\n",
              "\n",
              "    .dataframe tbody tr th {\n",
              "        vertical-align: top;\n",
              "    }\n",
              "\n",
              "    .dataframe thead th {\n",
              "        text-align: right;\n",
              "    }\n",
              "</style>\n",
              "<table border=\"1\" class=\"dataframe\">\n",
              "  <thead>\n",
              "    <tr style=\"text-align: right;\">\n",
              "      <th></th>\n",
              "      <th>KEGG Pathway and Enzyme ID</th>\n",
              "      <th>Gene name</th>\n",
              "    </tr>\n",
              "  </thead>\n",
              "  <tbody>\n",
              "    <tr>\n",
              "      <th>0</th>\n",
              "      <td>NaN</td>\n",
              "      <td>MT-ND1</td>\n",
              "    </tr>\n",
              "    <tr>\n",
              "      <th>1</th>\n",
              "      <td>00190+7.1.1.2</td>\n",
              "      <td>MT-ND2</td>\n",
              "    </tr>\n",
              "    <tr>\n",
              "      <th>2</th>\n",
              "      <td>00190+1.9.3.1</td>\n",
              "      <td>MT-CO1</td>\n",
              "    </tr>\n",
              "    <tr>\n",
              "      <th>3</th>\n",
              "      <td>NaN</td>\n",
              "      <td>MT-CO2</td>\n",
              "    </tr>\n",
              "    <tr>\n",
              "      <th>4</th>\n",
              "      <td>NaN</td>\n",
              "      <td>MT-ATP8</td>\n",
              "    </tr>\n",
              "  </tbody>\n",
              "</table>\n",
              "</div>"
            ],
            "text/plain": [
              "  KEGG Pathway and Enzyme ID Gene name\n",
              "0                        NaN    MT-ND1\n",
              "1              00190+7.1.1.2    MT-ND2\n",
              "2              00190+1.9.3.1    MT-CO1\n",
              "3                        NaN    MT-CO2\n",
              "4                        NaN   MT-ATP8"
            ]
          },
          "metadata": {
            "tags": []
          },
          "execution_count": 76
        }
      ]
    },
    {
      "cell_type": "code",
      "metadata": {
        "id": "5K0yQ1vtZMvm",
        "colab_type": "code",
        "outputId": "d3e2d08c-821d-4eed-8e21-a236c89311a3",
        "colab": {
          "base_uri": "https://localhost:8080/",
          "height": 198
        }
      },
      "source": [
        "# タブで始まる（pandasだと読み込み時にNanになる）行を削除。\n",
        "df = df.dropna(subset=['KEGG Pathway and Enzyme ID'])\n",
        "df.head()"
      ],
      "execution_count": 0,
      "outputs": [
        {
          "output_type": "execute_result",
          "data": {
            "text/html": [
              "<div>\n",
              "<style scoped>\n",
              "    .dataframe tbody tr th:only-of-type {\n",
              "        vertical-align: middle;\n",
              "    }\n",
              "\n",
              "    .dataframe tbody tr th {\n",
              "        vertical-align: top;\n",
              "    }\n",
              "\n",
              "    .dataframe thead th {\n",
              "        text-align: right;\n",
              "    }\n",
              "</style>\n",
              "<table border=\"1\" class=\"dataframe\">\n",
              "  <thead>\n",
              "    <tr style=\"text-align: right;\">\n",
              "      <th></th>\n",
              "      <th>KEGG Pathway and Enzyme ID</th>\n",
              "      <th>Gene name</th>\n",
              "    </tr>\n",
              "  </thead>\n",
              "  <tbody>\n",
              "    <tr>\n",
              "      <th>1</th>\n",
              "      <td>00190+7.1.1.2</td>\n",
              "      <td>MT-ND2</td>\n",
              "    </tr>\n",
              "    <tr>\n",
              "      <th>2</th>\n",
              "      <td>00190+1.9.3.1</td>\n",
              "      <td>MT-CO1</td>\n",
              "    </tr>\n",
              "    <tr>\n",
              "      <th>9</th>\n",
              "      <td>00190+7.1.1.2</td>\n",
              "      <td>MT-ND4</td>\n",
              "    </tr>\n",
              "    <tr>\n",
              "      <th>10</th>\n",
              "      <td>00190+7.1.1.2</td>\n",
              "      <td>MT-ND5</td>\n",
              "    </tr>\n",
              "    <tr>\n",
              "      <th>173</th>\n",
              "      <td>00240+2.7.4.6</td>\n",
              "      <td>NME8</td>\n",
              "    </tr>\n",
              "  </tbody>\n",
              "</table>\n",
              "</div>"
            ],
            "text/plain": [
              "    KEGG Pathway and Enzyme ID Gene name\n",
              "1                00190+7.1.1.2    MT-ND2\n",
              "2                00190+1.9.3.1    MT-CO1\n",
              "9                00190+7.1.1.2    MT-ND4\n",
              "10               00190+7.1.1.2    MT-ND5\n",
              "173              00240+2.7.4.6      NME8"
            ]
          },
          "metadata": {
            "tags": []
          },
          "execution_count": 77
        }
      ]
    },
    {
      "cell_type": "code",
      "metadata": {
        "id": "ui9uSKFkZMrJ",
        "colab_type": "code",
        "outputId": "21abb4b5-0dc1-448c-eec1-d26fcdb07005",
        "colab": {
          "base_uri": "https://localhost:8080/",
          "height": 198
        }
      },
      "source": [
        "# プラス記号をsplitする。\n",
        "df = pd.concat([df, df['KEGG Pathway and Enzyme ID'].str.split('+', expand=True)[[0,1]]], axis=1)\n",
        "df.head()"
      ],
      "execution_count": 0,
      "outputs": [
        {
          "output_type": "execute_result",
          "data": {
            "text/html": [
              "<div>\n",
              "<style scoped>\n",
              "    .dataframe tbody tr th:only-of-type {\n",
              "        vertical-align: middle;\n",
              "    }\n",
              "\n",
              "    .dataframe tbody tr th {\n",
              "        vertical-align: top;\n",
              "    }\n",
              "\n",
              "    .dataframe thead th {\n",
              "        text-align: right;\n",
              "    }\n",
              "</style>\n",
              "<table border=\"1\" class=\"dataframe\">\n",
              "  <thead>\n",
              "    <tr style=\"text-align: right;\">\n",
              "      <th></th>\n",
              "      <th>KEGG Pathway and Enzyme ID</th>\n",
              "      <th>Gene name</th>\n",
              "      <th>0</th>\n",
              "      <th>1</th>\n",
              "    </tr>\n",
              "  </thead>\n",
              "  <tbody>\n",
              "    <tr>\n",
              "      <th>1</th>\n",
              "      <td>00190+7.1.1.2</td>\n",
              "      <td>MT-ND2</td>\n",
              "      <td>00190</td>\n",
              "      <td>7.1.1.2</td>\n",
              "    </tr>\n",
              "    <tr>\n",
              "      <th>2</th>\n",
              "      <td>00190+1.9.3.1</td>\n",
              "      <td>MT-CO1</td>\n",
              "      <td>00190</td>\n",
              "      <td>1.9.3.1</td>\n",
              "    </tr>\n",
              "    <tr>\n",
              "      <th>9</th>\n",
              "      <td>00190+7.1.1.2</td>\n",
              "      <td>MT-ND4</td>\n",
              "      <td>00190</td>\n",
              "      <td>7.1.1.2</td>\n",
              "    </tr>\n",
              "    <tr>\n",
              "      <th>10</th>\n",
              "      <td>00190+7.1.1.2</td>\n",
              "      <td>MT-ND5</td>\n",
              "      <td>00190</td>\n",
              "      <td>7.1.1.2</td>\n",
              "    </tr>\n",
              "    <tr>\n",
              "      <th>173</th>\n",
              "      <td>00240+2.7.4.6</td>\n",
              "      <td>NME8</td>\n",
              "      <td>00240</td>\n",
              "      <td>2.7.4.6</td>\n",
              "    </tr>\n",
              "  </tbody>\n",
              "</table>\n",
              "</div>"
            ],
            "text/plain": [
              "    KEGG Pathway and Enzyme ID Gene name      0        1\n",
              "1                00190+7.1.1.2    MT-ND2  00190  7.1.1.2\n",
              "2                00190+1.9.3.1    MT-CO1  00190  1.9.3.1\n",
              "9                00190+7.1.1.2    MT-ND4  00190  7.1.1.2\n",
              "10               00190+7.1.1.2    MT-ND5  00190  7.1.1.2\n",
              "173              00240+2.7.4.6      NME8  00240  2.7.4.6"
            ]
          },
          "metadata": {
            "tags": []
          },
          "execution_count": 78
        }
      ]
    },
    {
      "cell_type": "code",
      "metadata": {
        "id": "4ZDN3NzOa-ot",
        "colab_type": "code",
        "outputId": "598984d9-5c63-4ee5-916e-a386bbb13051",
        "colab": {
          "base_uri": "https://localhost:8080/",
          "height": 198
        }
      },
      "source": [
        "# 列を整理する。\n",
        "df.columns = ['KEGG Pathway and Enzyme ID', 'Gene name', 'KEGG Pathway ID', 'Enzyme ID']\n",
        "df = df[['KEGG Pathway ID', 'Enzyme ID', 'Gene name']]\n",
        "df.head()"
      ],
      "execution_count": 0,
      "outputs": [
        {
          "output_type": "execute_result",
          "data": {
            "text/html": [
              "<div>\n",
              "<style scoped>\n",
              "    .dataframe tbody tr th:only-of-type {\n",
              "        vertical-align: middle;\n",
              "    }\n",
              "\n",
              "    .dataframe tbody tr th {\n",
              "        vertical-align: top;\n",
              "    }\n",
              "\n",
              "    .dataframe thead th {\n",
              "        text-align: right;\n",
              "    }\n",
              "</style>\n",
              "<table border=\"1\" class=\"dataframe\">\n",
              "  <thead>\n",
              "    <tr style=\"text-align: right;\">\n",
              "      <th></th>\n",
              "      <th>KEGG Pathway ID</th>\n",
              "      <th>Enzyme ID</th>\n",
              "      <th>Gene name</th>\n",
              "    </tr>\n",
              "  </thead>\n",
              "  <tbody>\n",
              "    <tr>\n",
              "      <th>1</th>\n",
              "      <td>00190</td>\n",
              "      <td>7.1.1.2</td>\n",
              "      <td>MT-ND2</td>\n",
              "    </tr>\n",
              "    <tr>\n",
              "      <th>2</th>\n",
              "      <td>00190</td>\n",
              "      <td>1.9.3.1</td>\n",
              "      <td>MT-CO1</td>\n",
              "    </tr>\n",
              "    <tr>\n",
              "      <th>9</th>\n",
              "      <td>00190</td>\n",
              "      <td>7.1.1.2</td>\n",
              "      <td>MT-ND4</td>\n",
              "    </tr>\n",
              "    <tr>\n",
              "      <th>10</th>\n",
              "      <td>00190</td>\n",
              "      <td>7.1.1.2</td>\n",
              "      <td>MT-ND5</td>\n",
              "    </tr>\n",
              "    <tr>\n",
              "      <th>173</th>\n",
              "      <td>00240</td>\n",
              "      <td>2.7.4.6</td>\n",
              "      <td>NME8</td>\n",
              "    </tr>\n",
              "  </tbody>\n",
              "</table>\n",
              "</div>"
            ],
            "text/plain": [
              "    KEGG Pathway ID Enzyme ID Gene name\n",
              "1             00190   7.1.1.2    MT-ND2\n",
              "2             00190   1.9.3.1    MT-CO1\n",
              "9             00190   7.1.1.2    MT-ND4\n",
              "10            00190   7.1.1.2    MT-ND5\n",
              "173           00240   2.7.4.6      NME8"
            ]
          },
          "metadata": {
            "tags": []
          },
          "execution_count": 79
        }
      ]
    },
    {
      "cell_type": "code",
      "metadata": {
        "id": "fYowLRBuZMg8",
        "colab_type": "code",
        "outputId": "6f469795-fc5b-46f7-dc77-cbf908ba1bbd",
        "colab": {
          "base_uri": "https://localhost:8080/",
          "height": 198
        }
      },
      "source": [
        "# 00010で始まる行だけ抜き出して第2列でソートし、df_glycolysisという変数に格納。\n",
        "df_glycolysis = df[df['KEGG Pathway ID'] == '00010'].sort_values(by='Enzyme ID')\n",
        "df_glycolysis.head()"
      ],
      "execution_count": 0,
      "outputs": [
        {
          "output_type": "execute_result",
          "data": {
            "text/html": [
              "<div>\n",
              "<style scoped>\n",
              "    .dataframe tbody tr th:only-of-type {\n",
              "        vertical-align: middle;\n",
              "    }\n",
              "\n",
              "    .dataframe tbody tr th {\n",
              "        vertical-align: top;\n",
              "    }\n",
              "\n",
              "    .dataframe thead th {\n",
              "        text-align: right;\n",
              "    }\n",
              "</style>\n",
              "<table border=\"1\" class=\"dataframe\">\n",
              "  <thead>\n",
              "    <tr style=\"text-align: right;\">\n",
              "      <th></th>\n",
              "      <th>KEGG Pathway ID</th>\n",
              "      <th>Enzyme ID</th>\n",
              "      <th>Gene name</th>\n",
              "    </tr>\n",
              "  </thead>\n",
              "  <tbody>\n",
              "    <tr>\n",
              "      <th>24838</th>\n",
              "      <td>00010</td>\n",
              "      <td>1.1.1.1</td>\n",
              "      <td>ADH5</td>\n",
              "    </tr>\n",
              "    <tr>\n",
              "      <th>37909</th>\n",
              "      <td>00010</td>\n",
              "      <td>1.1.1.1</td>\n",
              "      <td>ADH7</td>\n",
              "    </tr>\n",
              "    <tr>\n",
              "      <th>37896</th>\n",
              "      <td>00010</td>\n",
              "      <td>1.1.1.1</td>\n",
              "      <td>ADH7</td>\n",
              "    </tr>\n",
              "    <tr>\n",
              "      <th>37861</th>\n",
              "      <td>00010</td>\n",
              "      <td>1.1.1.1</td>\n",
              "      <td>ADH7</td>\n",
              "    </tr>\n",
              "    <tr>\n",
              "      <th>37840</th>\n",
              "      <td>00010</td>\n",
              "      <td>1.1.1.1</td>\n",
              "      <td>ADH7</td>\n",
              "    </tr>\n",
              "  </tbody>\n",
              "</table>\n",
              "</div>"
            ],
            "text/plain": [
              "      KEGG Pathway ID Enzyme ID Gene name\n",
              "24838           00010   1.1.1.1      ADH5\n",
              "37909           00010   1.1.1.1      ADH7\n",
              "37896           00010   1.1.1.1      ADH7\n",
              "37861           00010   1.1.1.1      ADH7\n",
              "37840           00010   1.1.1.1      ADH7"
            ]
          },
          "metadata": {
            "tags": []
          },
          "execution_count": 80
        }
      ]
    },
    {
      "cell_type": "code",
      "metadata": {
        "id": "l-hzz8_DcZzE",
        "colab_type": "code",
        "outputId": "7ab0677c-aaf9-4480-a9b6-fb215ab28f28",
        "colab": {
          "base_uri": "https://localhost:8080/",
          "height": 163
        }
      },
      "source": [
        "# 重複を削除して遺伝子名を抽出。\n",
        "df_glycolysis['Gene name'].unique()"
      ],
      "execution_count": 0,
      "outputs": [
        {
          "output_type": "execute_result",
          "data": {
            "text/plain": [
              "array(['ADH5', 'ADH7', 'ADH4', 'LDHA', 'LDHAL6A', 'LDHC', 'LDHB',\n",
              "       'LDHAL6B', 'GAPDH', 'GAPDHS', 'PDHA1', 'PDHB', 'PDHA2', 'DLD',\n",
              "       'DLAT', 'HK3', 'GCK', 'HK1', 'HKDC1', 'HK2', 'PFKM', 'PFKP',\n",
              "       'PFKL', 'PKM', 'PKLR', 'PGK1', 'PGK2', 'FBP1', 'FBP2', 'G6PC2',\n",
              "       'G6PC3', 'G6PC', 'PCK2', 'PCK1', 'ALDOB', 'ALDOA', 'ALDOC',\n",
              "       'AC093512.2', 'ENO2', 'ENO3', 'ENO4', 'ENO1', 'GALM', 'TPI1',\n",
              "       'GPI', 'AC092073.1', 'BPGM', 'PGAM4', 'PGAM1', 'PGAM2', 'ACSS1',\n",
              "       'ACSS3', 'AACS', 'ACSS2'], dtype=object)"
            ]
          },
          "metadata": {
            "tags": []
          },
          "execution_count": 81
        }
      ]
    },
    {
      "cell_type": "code",
      "metadata": {
        "id": "txKSvDkbck1s",
        "colab_type": "code",
        "outputId": "b18c5fca-47f1-4a41-f627-2a6a9269c1b0",
        "colab": {
          "base_uri": "https://localhost:8080/",
          "height": 999
        }
      },
      "source": [
        "# 抜き出した遺伝子を表示\n",
        "for g in df_glycolysis['Gene name'].unique():\n",
        "  print(g)"
      ],
      "execution_count": 0,
      "outputs": [
        {
          "output_type": "stream",
          "text": [
            "ADH5\n",
            "ADH7\n",
            "ADH4\n",
            "LDHA\n",
            "LDHAL6A\n",
            "LDHC\n",
            "LDHB\n",
            "LDHAL6B\n",
            "GAPDH\n",
            "GAPDHS\n",
            "PDHA1\n",
            "PDHB\n",
            "PDHA2\n",
            "DLD\n",
            "DLAT\n",
            "HK3\n",
            "GCK\n",
            "HK1\n",
            "HKDC1\n",
            "HK2\n",
            "PFKM\n",
            "PFKP\n",
            "PFKL\n",
            "PKM\n",
            "PKLR\n",
            "PGK1\n",
            "PGK2\n",
            "FBP1\n",
            "FBP2\n",
            "G6PC2\n",
            "G6PC3\n",
            "G6PC\n",
            "PCK2\n",
            "PCK1\n",
            "ALDOB\n",
            "ALDOA\n",
            "ALDOC\n",
            "AC093512.2\n",
            "ENO2\n",
            "ENO3\n",
            "ENO4\n",
            "ENO1\n",
            "GALM\n",
            "TPI1\n",
            "GPI\n",
            "AC092073.1\n",
            "BPGM\n",
            "PGAM4\n",
            "PGAM1\n",
            "PGAM2\n",
            "ACSS1\n",
            "ACSS3\n",
            "AACS\n",
            "ACSS2\n"
          ],
          "name": "stdout"
        }
      ]
    },
    {
      "cell_type": "code",
      "metadata": {
        "id": "9LE2SC2lc0Rw",
        "colab_type": "code",
        "colab": {}
      },
      "source": [
        "# 抜き出した遺伝子を保存。\n",
        "pd.DataFrame(df_glycolysis['Gene name'].unique()).to_csv('genes_00010.txt', index=None, header=None)"
      ],
      "execution_count": 0,
      "outputs": []
    },
    {
      "cell_type": "markdown",
      "metadata": {
        "id": "bUODyf_VrU1w",
        "colab_type": "text"
      },
      "source": [
        "### 遺伝子発現のリファレンスデータセット\n",
        "\n",
        "RefExからヒトのCAGEデータを取得してみる。"
      ]
    },
    {
      "cell_type": "code",
      "metadata": {
        "id": "Nu7n9syOd08s",
        "colab_type": "code",
        "outputId": "866b3667-a73b-47f2-e2f3-6959432514b0",
        "colab": {
          "base_uri": "https://localhost:8080/",
          "height": 398
        }
      },
      "source": [
        "df_cage = pd.read_csv('https://refex.dbcls.jp/download/RefEx_expression_CAGE_all_human_PRJDB1099.tsv.zip',\n",
        "                      sep='\\t', index_col=0)\n",
        "df_cage.head()"
      ],
      "execution_count": 0,
      "outputs": [
        {
          "output_type": "execute_result",
          "data": {
            "text/html": [
              "<div>\n",
              "<style scoped>\n",
              "    .dataframe tbody tr th:only-of-type {\n",
              "        vertical-align: middle;\n",
              "    }\n",
              "\n",
              "    .dataframe tbody tr th {\n",
              "        vertical-align: top;\n",
              "    }\n",
              "\n",
              "    .dataframe thead th {\n",
              "        text-align: right;\n",
              "    }\n",
              "</style>\n",
              "<table border=\"1\" class=\"dataframe\">\n",
              "  <thead>\n",
              "    <tr style=\"text-align: right;\">\n",
              "      <th></th>\n",
              "      <th>acantholytic squamous carcinoma cell line:HCC1806</th>\n",
              "      <th>acute lymphoblastic leukemia (B-ALL) cell line:BALL-1</th>\n",
              "      <th>acute lymphoblastic leukemia (B-ALL) cell line:NALM-6</th>\n",
              "      <th>acute lymphoblastic leukemia (T-ALL) cell line:HPB-ALL</th>\n",
              "      <th>acute lymphoblastic leukemia (T-ALL) cell line:Jurkat</th>\n",
              "      <th>acute myeloid leukemia (FAB M0) cell line:Kasumi-3</th>\n",
              "      <th>acute myeloid leukemia (FAB M0) cell line:KG-1</th>\n",
              "      <th>acute myeloid leukemia (FAB M1) cell line:HYT-1</th>\n",
              "      <th>acute myeloid leukemia (FAB M2) cell line:Kasumi-1</th>\n",
              "      <th>acute myeloid leukemia (FAB M2) cell line:Kasumi-6</th>\n",
              "      <th>acute myeloid leukemia (FAB M2) cell line:NKM-1</th>\n",
              "      <th>acute myeloid leukemia (FAB M3) cell line:HL60</th>\n",
              "      <th>acute myeloid leukemia (FAB M4) cell line:FKH-1</th>\n",
              "      <th>acute myeloid leukemia (FAB M4) cell line:HNT-34</th>\n",
              "      <th>acute myeloid leukemia (FAB M4eo) cell line:EoL-1</th>\n",
              "      <th>acute myeloid leukemia (FAB M4eo) cell line:EoL-3</th>\n",
              "      <th>acute myeloid leukemia (FAB M5) cell line:NOMO-1</th>\n",
              "      <th>acute myeloid leukemia (FAB M5) cell line:P31/FUJ</th>\n",
              "      <th>acute myeloid leukemia (FAB M5) cell line:THP-1 (fresh)</th>\n",
              "      <th>acute myeloid leukemia (FAB M5) cell line:THP-1 (revived)</th>\n",
              "      <th>acute myeloid leukemia (FAB M5) cell line:THP-1 (thawed)</th>\n",
              "      <th>acute myeloid leukemia (FAB M5) cell line:U-937 DE-4</th>\n",
              "      <th>acute myeloid leukemia (FAB M6) cell line:EEB</th>\n",
              "      <th>acute myeloid leukemia (FAB M6) cell line:F-36E</th>\n",
              "      <th>acute myeloid leukemia (FAB M6) cell line:F-36P</th>\n",
              "      <th>acute myeloid leukemia (FAB M7) cell line:M-MOK</th>\n",
              "      <th>acute myeloid leukemia (FAB M7) cell line:MKPL-1</th>\n",
              "      <th>adenocarcinoma cell line:IM95m</th>\n",
              "      <th>adrenal cortex adenocarcinoma cell line:SW-13</th>\n",
              "      <th>adult T-cell leukemia cell line:ATN-1</th>\n",
              "      <th>alveolar cell carcinoma cell line:SW 1573</th>\n",
              "      <th>anaplastic carcinoma cell line:8305C</th>\n",
              "      <th>anaplastic large cell lymphoma cell line:Ki-JK</th>\n",
              "      <th>anaplastic squamous cell carcinoma cell line:RPMI 2650</th>\n",
              "      <th>argyrophil small cell carcinoma cell line:TC-YIK</th>\n",
              "      <th>astrocytoma cell line:TM-31</th>\n",
              "      <th>b cell line:RPMI1788</th>\n",
              "      <th>B lymphoblastoid cell line: GM12878 ENCODE</th>\n",
              "      <th>basal cell carcinoma cell line:TE 354.T</th>\n",
              "      <th>bile duct carcinoma cell line:HuCCT1</th>\n",
              "      <th>...</th>\n",
              "      <th>submaxillary gland, adult</th>\n",
              "      <th>substantia nigra, adult</th>\n",
              "      <th>temporal lobe, adult</th>\n",
              "      <th>testis, adult</th>\n",
              "      <th>thalamus, adult</th>\n",
              "      <th>throat, adult</th>\n",
              "      <th>thymus, adult</th>\n",
              "      <th>thyroid, adult</th>\n",
              "      <th>tongue, adult</th>\n",
              "      <th>tonsil, adult</th>\n",
              "      <th>trachea, adult</th>\n",
              "      <th>uterus, adult</th>\n",
              "      <th>vagina, adult</th>\n",
              "      <th>vein, adult</th>\n",
              "      <th>brain, fetal</th>\n",
              "      <th>colon, fetal</th>\n",
              "      <th>diaphragm, fetal</th>\n",
              "      <th>duodenum, fetal</th>\n",
              "      <th>eye, fetal</th>\n",
              "      <th>heart, fetal</th>\n",
              "      <th>kidney, fetal</th>\n",
              "      <th>liver, fetal</th>\n",
              "      <th>lung, fetal</th>\n",
              "      <th>occipital lobe, fetal</th>\n",
              "      <th>parietal lobe, fetal</th>\n",
              "      <th>rectum, fetal</th>\n",
              "      <th>skeletal muscle, fetal</th>\n",
              "      <th>skin, fetal</th>\n",
              "      <th>small intestine, fetal</th>\n",
              "      <th>spinal cord, fetal</th>\n",
              "      <th>spleen, fetal</th>\n",
              "      <th>stomach, fetal</th>\n",
              "      <th>temporal lobe, fetal</th>\n",
              "      <th>throat, fetal</th>\n",
              "      <th>thymus, fetal</th>\n",
              "      <th>thyroid, fetal</th>\n",
              "      <th>tongue, fetal</th>\n",
              "      <th>trachea, fetal</th>\n",
              "      <th>umbilical cord, fetal</th>\n",
              "      <th>uterus, fetal</th>\n",
              "    </tr>\n",
              "    <tr>\n",
              "      <th>NCBI_GeneID</th>\n",
              "      <th></th>\n",
              "      <th></th>\n",
              "      <th></th>\n",
              "      <th></th>\n",
              "      <th></th>\n",
              "      <th></th>\n",
              "      <th></th>\n",
              "      <th></th>\n",
              "      <th></th>\n",
              "      <th></th>\n",
              "      <th></th>\n",
              "      <th></th>\n",
              "      <th></th>\n",
              "      <th></th>\n",
              "      <th></th>\n",
              "      <th></th>\n",
              "      <th></th>\n",
              "      <th></th>\n",
              "      <th></th>\n",
              "      <th></th>\n",
              "      <th></th>\n",
              "      <th></th>\n",
              "      <th></th>\n",
              "      <th></th>\n",
              "      <th></th>\n",
              "      <th></th>\n",
              "      <th></th>\n",
              "      <th></th>\n",
              "      <th></th>\n",
              "      <th></th>\n",
              "      <th></th>\n",
              "      <th></th>\n",
              "      <th></th>\n",
              "      <th></th>\n",
              "      <th></th>\n",
              "      <th></th>\n",
              "      <th></th>\n",
              "      <th></th>\n",
              "      <th></th>\n",
              "      <th></th>\n",
              "      <th></th>\n",
              "      <th></th>\n",
              "      <th></th>\n",
              "      <th></th>\n",
              "      <th></th>\n",
              "      <th></th>\n",
              "      <th></th>\n",
              "      <th></th>\n",
              "      <th></th>\n",
              "      <th></th>\n",
              "      <th></th>\n",
              "      <th></th>\n",
              "      <th></th>\n",
              "      <th></th>\n",
              "      <th></th>\n",
              "      <th></th>\n",
              "      <th></th>\n",
              "      <th></th>\n",
              "      <th></th>\n",
              "      <th></th>\n",
              "      <th></th>\n",
              "      <th></th>\n",
              "      <th></th>\n",
              "      <th></th>\n",
              "      <th></th>\n",
              "      <th></th>\n",
              "      <th></th>\n",
              "      <th></th>\n",
              "      <th></th>\n",
              "      <th></th>\n",
              "      <th></th>\n",
              "      <th></th>\n",
              "      <th></th>\n",
              "      <th></th>\n",
              "      <th></th>\n",
              "      <th></th>\n",
              "      <th></th>\n",
              "      <th></th>\n",
              "      <th></th>\n",
              "      <th></th>\n",
              "      <th></th>\n",
              "    </tr>\n",
              "  </thead>\n",
              "  <tbody>\n",
              "    <tr>\n",
              "      <th>2</th>\n",
              "      <td>0.000000</td>\n",
              "      <td>0.000000</td>\n",
              "      <td>0.253509</td>\n",
              "      <td>0.000000</td>\n",
              "      <td>0.000000</td>\n",
              "      <td>0.000000</td>\n",
              "      <td>0.000000</td>\n",
              "      <td>0.192003</td>\n",
              "      <td>0.000000</td>\n",
              "      <td>0.000000</td>\n",
              "      <td>0.000000</td>\n",
              "      <td>0.00000</td>\n",
              "      <td>0.000000</td>\n",
              "      <td>0.000000</td>\n",
              "      <td>0.000000</td>\n",
              "      <td>0.183820</td>\n",
              "      <td>0.000000</td>\n",
              "      <td>0.522958</td>\n",
              "      <td>0.479014</td>\n",
              "      <td>0.201860</td>\n",
              "      <td>0.511263</td>\n",
              "      <td>0.000000</td>\n",
              "      <td>2.14206</td>\n",
              "      <td>0.000000</td>\n",
              "      <td>0.000000</td>\n",
              "      <td>0.000000</td>\n",
              "      <td>0.000000</td>\n",
              "      <td>0.000000</td>\n",
              "      <td>0.000000</td>\n",
              "      <td>0.00000</td>\n",
              "      <td>0.000000</td>\n",
              "      <td>0.200994</td>\n",
              "      <td>0.000000</td>\n",
              "      <td>3.542956</td>\n",
              "      <td>0.000000</td>\n",
              "      <td>0.478475</td>\n",
              "      <td>0.000000</td>\n",
              "      <td>0.026301</td>\n",
              "      <td>0.483709</td>\n",
              "      <td>0.165291</td>\n",
              "      <td>...</td>\n",
              "      <td>4.587521</td>\n",
              "      <td>5.051373</td>\n",
              "      <td>4.952571</td>\n",
              "      <td>4.885223</td>\n",
              "      <td>4.463458</td>\n",
              "      <td>4.938796</td>\n",
              "      <td>3.467836</td>\n",
              "      <td>5.437813</td>\n",
              "      <td>5.089620</td>\n",
              "      <td>4.354767</td>\n",
              "      <td>6.062548</td>\n",
              "      <td>6.355300</td>\n",
              "      <td>6.336642</td>\n",
              "      <td>5.180200</td>\n",
              "      <td>3.759312</td>\n",
              "      <td>5.169089</td>\n",
              "      <td>5.484675</td>\n",
              "      <td>3.952168</td>\n",
              "      <td>5.221298</td>\n",
              "      <td>6.068228</td>\n",
              "      <td>5.601478</td>\n",
              "      <td>7.631180</td>\n",
              "      <td>7.070896</td>\n",
              "      <td>3.349055</td>\n",
              "      <td>2.758003</td>\n",
              "      <td>5.275575</td>\n",
              "      <td>5.681105</td>\n",
              "      <td>5.341781</td>\n",
              "      <td>4.710917</td>\n",
              "      <td>4.866842</td>\n",
              "      <td>6.097173</td>\n",
              "      <td>4.433888</td>\n",
              "      <td>4.049084</td>\n",
              "      <td>4.901967</td>\n",
              "      <td>4.269933</td>\n",
              "      <td>4.996801</td>\n",
              "      <td>5.502704</td>\n",
              "      <td>5.463231</td>\n",
              "      <td>5.491744</td>\n",
              "      <td>5.434895</td>\n",
              "    </tr>\n",
              "    <tr>\n",
              "      <th>9</th>\n",
              "      <td>1.164825</td>\n",
              "      <td>1.938123</td>\n",
              "      <td>2.237258</td>\n",
              "      <td>1.846191</td>\n",
              "      <td>2.061192</td>\n",
              "      <td>2.569925</td>\n",
              "      <td>1.384716</td>\n",
              "      <td>1.965507</td>\n",
              "      <td>2.013894</td>\n",
              "      <td>1.889482</td>\n",
              "      <td>1.585143</td>\n",
              "      <td>1.20902</td>\n",
              "      <td>1.254574</td>\n",
              "      <td>2.072035</td>\n",
              "      <td>2.067532</td>\n",
              "      <td>1.924569</td>\n",
              "      <td>2.055858</td>\n",
              "      <td>1.633558</td>\n",
              "      <td>2.696371</td>\n",
              "      <td>2.973748</td>\n",
              "      <td>2.603703</td>\n",
              "      <td>1.772356</td>\n",
              "      <td>2.14206</td>\n",
              "      <td>0.802393</td>\n",
              "      <td>1.938745</td>\n",
              "      <td>1.673339</td>\n",
              "      <td>1.340182</td>\n",
              "      <td>2.563178</td>\n",
              "      <td>0.114543</td>\n",
              "      <td>2.17487</td>\n",
              "      <td>0.250086</td>\n",
              "      <td>1.136186</td>\n",
              "      <td>2.292475</td>\n",
              "      <td>0.000000</td>\n",
              "      <td>2.869464</td>\n",
              "      <td>1.521569</td>\n",
              "      <td>1.492089</td>\n",
              "      <td>2.158408</td>\n",
              "      <td>2.098498</td>\n",
              "      <td>2.666560</td>\n",
              "      <td>...</td>\n",
              "      <td>0.865497</td>\n",
              "      <td>0.946523</td>\n",
              "      <td>0.185628</td>\n",
              "      <td>1.410244</td>\n",
              "      <td>0.623978</td>\n",
              "      <td>1.845434</td>\n",
              "      <td>1.850167</td>\n",
              "      <td>0.875568</td>\n",
              "      <td>1.342948</td>\n",
              "      <td>1.576722</td>\n",
              "      <td>2.785326</td>\n",
              "      <td>1.369605</td>\n",
              "      <td>1.097702</td>\n",
              "      <td>1.285523</td>\n",
              "      <td>0.000000</td>\n",
              "      <td>1.041368</td>\n",
              "      <td>0.957492</td>\n",
              "      <td>0.853576</td>\n",
              "      <td>0.643916</td>\n",
              "      <td>0.822633</td>\n",
              "      <td>1.147605</td>\n",
              "      <td>0.000000</td>\n",
              "      <td>1.686718</td>\n",
              "      <td>0.000000</td>\n",
              "      <td>0.000000</td>\n",
              "      <td>0.000000</td>\n",
              "      <td>0.770022</td>\n",
              "      <td>1.079376</td>\n",
              "      <td>2.131918</td>\n",
              "      <td>0.818884</td>\n",
              "      <td>0.934912</td>\n",
              "      <td>0.548316</td>\n",
              "      <td>1.189267</td>\n",
              "      <td>0.668987</td>\n",
              "      <td>2.033659</td>\n",
              "      <td>0.794215</td>\n",
              "      <td>0.000000</td>\n",
              "      <td>1.097265</td>\n",
              "      <td>1.207888</td>\n",
              "      <td>0.000000</td>\n",
              "    </tr>\n",
              "    <tr>\n",
              "      <th>10</th>\n",
              "      <td>0.000000</td>\n",
              "      <td>0.000000</td>\n",
              "      <td>0.000000</td>\n",
              "      <td>0.000000</td>\n",
              "      <td>0.000000</td>\n",
              "      <td>0.000000</td>\n",
              "      <td>0.000000</td>\n",
              "      <td>0.000000</td>\n",
              "      <td>0.000000</td>\n",
              "      <td>0.000000</td>\n",
              "      <td>0.205578</td>\n",
              "      <td>0.00000</td>\n",
              "      <td>0.000000</td>\n",
              "      <td>0.000000</td>\n",
              "      <td>0.000000</td>\n",
              "      <td>0.000000</td>\n",
              "      <td>0.000000</td>\n",
              "      <td>0.000000</td>\n",
              "      <td>0.000000</td>\n",
              "      <td>0.000000</td>\n",
              "      <td>0.000000</td>\n",
              "      <td>0.000000</td>\n",
              "      <td>0.00000</td>\n",
              "      <td>0.000000</td>\n",
              "      <td>0.000000</td>\n",
              "      <td>0.000000</td>\n",
              "      <td>0.000000</td>\n",
              "      <td>1.516373</td>\n",
              "      <td>0.000000</td>\n",
              "      <td>0.00000</td>\n",
              "      <td>0.000000</td>\n",
              "      <td>0.105538</td>\n",
              "      <td>0.000000</td>\n",
              "      <td>0.000000</td>\n",
              "      <td>0.000000</td>\n",
              "      <td>0.000000</td>\n",
              "      <td>0.000000</td>\n",
              "      <td>0.000000</td>\n",
              "      <td>0.000000</td>\n",
              "      <td>0.000000</td>\n",
              "      <td>...</td>\n",
              "      <td>0.000000</td>\n",
              "      <td>0.000000</td>\n",
              "      <td>0.065780</td>\n",
              "      <td>0.306097</td>\n",
              "      <td>0.000000</td>\n",
              "      <td>0.000000</td>\n",
              "      <td>0.062589</td>\n",
              "      <td>0.000000</td>\n",
              "      <td>0.000000</td>\n",
              "      <td>0.000000</td>\n",
              "      <td>0.000000</td>\n",
              "      <td>0.398082</td>\n",
              "      <td>0.000000</td>\n",
              "      <td>0.000000</td>\n",
              "      <td>0.000000</td>\n",
              "      <td>1.961545</td>\n",
              "      <td>0.589218</td>\n",
              "      <td>1.124030</td>\n",
              "      <td>0.000000</td>\n",
              "      <td>0.065023</td>\n",
              "      <td>0.580437</td>\n",
              "      <td>0.000000</td>\n",
              "      <td>0.000000</td>\n",
              "      <td>0.000000</td>\n",
              "      <td>0.000000</td>\n",
              "      <td>0.000000</td>\n",
              "      <td>0.000000</td>\n",
              "      <td>0.000000</td>\n",
              "      <td>2.996466</td>\n",
              "      <td>0.000000</td>\n",
              "      <td>0.121258</td>\n",
              "      <td>0.000000</td>\n",
              "      <td>1.308575</td>\n",
              "      <td>0.213549</td>\n",
              "      <td>0.000000</td>\n",
              "      <td>0.000000</td>\n",
              "      <td>0.000000</td>\n",
              "      <td>0.000000</td>\n",
              "      <td>1.207888</td>\n",
              "      <td>0.595420</td>\n",
              "    </tr>\n",
              "    <tr>\n",
              "      <th>12</th>\n",
              "      <td>0.000000</td>\n",
              "      <td>0.000000</td>\n",
              "      <td>0.000000</td>\n",
              "      <td>0.000000</td>\n",
              "      <td>0.000000</td>\n",
              "      <td>0.000000</td>\n",
              "      <td>0.000000</td>\n",
              "      <td>0.000000</td>\n",
              "      <td>0.000000</td>\n",
              "      <td>0.000000</td>\n",
              "      <td>0.000000</td>\n",
              "      <td>0.00000</td>\n",
              "      <td>0.000000</td>\n",
              "      <td>0.000000</td>\n",
              "      <td>0.000000</td>\n",
              "      <td>0.000000</td>\n",
              "      <td>0.000000</td>\n",
              "      <td>0.000000</td>\n",
              "      <td>0.000000</td>\n",
              "      <td>0.000000</td>\n",
              "      <td>0.000000</td>\n",
              "      <td>0.000000</td>\n",
              "      <td>0.00000</td>\n",
              "      <td>0.000000</td>\n",
              "      <td>0.000000</td>\n",
              "      <td>0.000000</td>\n",
              "      <td>0.000000</td>\n",
              "      <td>0.445597</td>\n",
              "      <td>0.114543</td>\n",
              "      <td>0.00000</td>\n",
              "      <td>0.000000</td>\n",
              "      <td>0.288127</td>\n",
              "      <td>0.000000</td>\n",
              "      <td>0.191550</td>\n",
              "      <td>0.000000</td>\n",
              "      <td>0.097370</td>\n",
              "      <td>0.000000</td>\n",
              "      <td>0.000000</td>\n",
              "      <td>1.413519</td>\n",
              "      <td>0.962269</td>\n",
              "      <td>...</td>\n",
              "      <td>3.940809</td>\n",
              "      <td>6.459911</td>\n",
              "      <td>3.786610</td>\n",
              "      <td>4.371095</td>\n",
              "      <td>6.380161</td>\n",
              "      <td>3.415307</td>\n",
              "      <td>0.771311</td>\n",
              "      <td>4.886065</td>\n",
              "      <td>3.548067</td>\n",
              "      <td>3.544104</td>\n",
              "      <td>8.425444</td>\n",
              "      <td>2.980768</td>\n",
              "      <td>6.113057</td>\n",
              "      <td>2.960929</td>\n",
              "      <td>3.293976</td>\n",
              "      <td>1.961545</td>\n",
              "      <td>1.612012</td>\n",
              "      <td>1.682263</td>\n",
              "      <td>5.272443</td>\n",
              "      <td>3.458523</td>\n",
              "      <td>4.913944</td>\n",
              "      <td>9.457395</td>\n",
              "      <td>4.513442</td>\n",
              "      <td>0.815523</td>\n",
              "      <td>0.436301</td>\n",
              "      <td>0.000000</td>\n",
              "      <td>1.499499</td>\n",
              "      <td>4.288886</td>\n",
              "      <td>1.087563</td>\n",
              "      <td>2.811705</td>\n",
              "      <td>4.696943</td>\n",
              "      <td>3.522386</td>\n",
              "      <td>1.363394</td>\n",
              "      <td>0.668987</td>\n",
              "      <td>3.504922</td>\n",
              "      <td>0.794215</td>\n",
              "      <td>1.756351</td>\n",
              "      <td>4.404723</td>\n",
              "      <td>5.002763</td>\n",
              "      <td>1.347625</td>\n",
              "    </tr>\n",
              "    <tr>\n",
              "      <th>13</th>\n",
              "      <td>0.000000</td>\n",
              "      <td>0.000000</td>\n",
              "      <td>0.000000</td>\n",
              "      <td>0.000000</td>\n",
              "      <td>0.000000</td>\n",
              "      <td>0.000000</td>\n",
              "      <td>0.000000</td>\n",
              "      <td>0.000000</td>\n",
              "      <td>0.000000</td>\n",
              "      <td>0.000000</td>\n",
              "      <td>0.000000</td>\n",
              "      <td>0.00000</td>\n",
              "      <td>0.000000</td>\n",
              "      <td>0.000000</td>\n",
              "      <td>0.000000</td>\n",
              "      <td>0.000000</td>\n",
              "      <td>0.000000</td>\n",
              "      <td>0.000000</td>\n",
              "      <td>0.000000</td>\n",
              "      <td>0.000000</td>\n",
              "      <td>0.000000</td>\n",
              "      <td>0.000000</td>\n",
              "      <td>0.00000</td>\n",
              "      <td>0.000000</td>\n",
              "      <td>0.000000</td>\n",
              "      <td>0.000000</td>\n",
              "      <td>0.000000</td>\n",
              "      <td>0.752756</td>\n",
              "      <td>0.000000</td>\n",
              "      <td>0.00000</td>\n",
              "      <td>0.000000</td>\n",
              "      <td>0.200994</td>\n",
              "      <td>0.000000</td>\n",
              "      <td>0.000000</td>\n",
              "      <td>0.000000</td>\n",
              "      <td>0.000000</td>\n",
              "      <td>0.000000</td>\n",
              "      <td>0.000000</td>\n",
              "      <td>0.000000</td>\n",
              "      <td>0.000000</td>\n",
              "      <td>...</td>\n",
              "      <td>0.000000</td>\n",
              "      <td>0.000000</td>\n",
              "      <td>0.000000</td>\n",
              "      <td>0.400734</td>\n",
              "      <td>0.000000</td>\n",
              "      <td>1.941694</td>\n",
              "      <td>0.062589</td>\n",
              "      <td>0.119820</td>\n",
              "      <td>2.528843</td>\n",
              "      <td>1.359986</td>\n",
              "      <td>0.306463</td>\n",
              "      <td>0.000000</td>\n",
              "      <td>0.000000</td>\n",
              "      <td>0.472389</td>\n",
              "      <td>0.000000</td>\n",
              "      <td>1.041368</td>\n",
              "      <td>0.000000</td>\n",
              "      <td>1.701228</td>\n",
              "      <td>0.643916</td>\n",
              "      <td>0.126075</td>\n",
              "      <td>0.273629</td>\n",
              "      <td>5.050068</td>\n",
              "      <td>3.189086</td>\n",
              "      <td>0.000000</td>\n",
              "      <td>0.000000</td>\n",
              "      <td>0.000000</td>\n",
              "      <td>0.770022</td>\n",
              "      <td>2.171494</td>\n",
              "      <td>4.147719</td>\n",
              "      <td>0.352525</td>\n",
              "      <td>0.959905</td>\n",
              "      <td>2.350839</td>\n",
              "      <td>1.605547</td>\n",
              "      <td>0.000000</td>\n",
              "      <td>0.221782</td>\n",
              "      <td>0.000000</td>\n",
              "      <td>2.563268</td>\n",
              "      <td>0.000000</td>\n",
              "      <td>1.739206</td>\n",
              "      <td>0.000000</td>\n",
              "    </tr>\n",
              "  </tbody>\n",
              "</table>\n",
              "<p>5 rows × 556 columns</p>\n",
              "</div>"
            ],
            "text/plain": [
              "             acantholytic squamous carcinoma cell line:HCC1806  ...  uterus, fetal\n",
              "NCBI_GeneID                                                     ...               \n",
              "2                                                     0.000000  ...       5.434895\n",
              "9                                                     1.164825  ...       0.000000\n",
              "10                                                    0.000000  ...       0.595420\n",
              "12                                                    0.000000  ...       1.347625\n",
              "13                                                    0.000000  ...       0.000000\n",
              "\n",
              "[5 rows x 556 columns]"
            ]
          },
          "metadata": {
            "tags": []
          },
          "execution_count": 84
        }
      ]
    },
    {
      "cell_type": "code",
      "metadata": {
        "id": "9AqzT5acqnod",
        "colab_type": "code",
        "outputId": "e7636881-1879-4786-9467-65ddd62ef422",
        "colab": {
          "base_uri": "https://localhost:8080/",
          "height": 228
        }
      },
      "source": [
        "# 69, 514カラムを抽出する。\n",
        "df_cage_extracted = df_cage.loc[:,['colon carcinoma cell line:CACO-2', 'small intestine, adult']]\n",
        "df_cage_extracted.head()"
      ],
      "execution_count": 0,
      "outputs": [
        {
          "output_type": "execute_result",
          "data": {
            "text/html": [
              "<div>\n",
              "<style scoped>\n",
              "    .dataframe tbody tr th:only-of-type {\n",
              "        vertical-align: middle;\n",
              "    }\n",
              "\n",
              "    .dataframe tbody tr th {\n",
              "        vertical-align: top;\n",
              "    }\n",
              "\n",
              "    .dataframe thead th {\n",
              "        text-align: right;\n",
              "    }\n",
              "</style>\n",
              "<table border=\"1\" class=\"dataframe\">\n",
              "  <thead>\n",
              "    <tr style=\"text-align: right;\">\n",
              "      <th></th>\n",
              "      <th>colon carcinoma cell line:CACO-2</th>\n",
              "      <th>small intestine, adult</th>\n",
              "    </tr>\n",
              "    <tr>\n",
              "      <th>NCBI_GeneID</th>\n",
              "      <th></th>\n",
              "      <th></th>\n",
              "    </tr>\n",
              "  </thead>\n",
              "  <tbody>\n",
              "    <tr>\n",
              "      <th>2</th>\n",
              "      <td>0.000000</td>\n",
              "      <td>5.328502</td>\n",
              "    </tr>\n",
              "    <tr>\n",
              "      <th>9</th>\n",
              "      <td>2.264108</td>\n",
              "      <td>2.663829</td>\n",
              "    </tr>\n",
              "    <tr>\n",
              "      <th>10</th>\n",
              "      <td>0.448149</td>\n",
              "      <td>3.766171</td>\n",
              "    </tr>\n",
              "    <tr>\n",
              "      <th>12</th>\n",
              "      <td>0.991857</td>\n",
              "      <td>2.910402</td>\n",
              "    </tr>\n",
              "    <tr>\n",
              "      <th>13</th>\n",
              "      <td>0.353511</td>\n",
              "      <td>5.247834</td>\n",
              "    </tr>\n",
              "  </tbody>\n",
              "</table>\n",
              "</div>"
            ],
            "text/plain": [
              "             colon carcinoma cell line:CACO-2  small intestine, adult\n",
              "NCBI_GeneID                                                          \n",
              "2                                    0.000000                5.328502\n",
              "9                                    2.264108                2.663829\n",
              "10                                   0.448149                3.766171\n",
              "12                                   0.991857                2.910402\n",
              "13                                   0.353511                5.247834"
            ]
          },
          "metadata": {
            "tags": []
          },
          "execution_count": 85
        }
      ]
    },
    {
      "cell_type": "code",
      "metadata": {
        "id": "vvNkQ0KArU3C",
        "colab_type": "code",
        "colab": {}
      },
      "source": [
        "df_cage_extracted.to_csv('RefEx_1-69-514.txt', sep='\\t')"
      ],
      "execution_count": 0,
      "outputs": []
    },
    {
      "cell_type": "markdown",
      "metadata": {
        "id": "CpmzoZhqsF8n",
        "colab_type": "text"
      },
      "source": [
        "## IDによる連結\n",
        "\n",
        "### IDの包含関係\n",
        "\n",
        "KEGG Pathway ID 00020, 000620についても遺伝子リストを取得する。"
      ]
    },
    {
      "cell_type": "code",
      "metadata": {
        "id": "eMVKyuqlrihp",
        "colab_type": "code",
        "colab": {}
      },
      "source": [
        "pd.DataFrame(df.loc[df['KEGG Pathway ID'] == '00020', 'Gene name'].unique()).to_csv(\n",
        "    'genes_00020.txt', index=None, header=None)"
      ],
      "execution_count": 0,
      "outputs": []
    },
    {
      "cell_type": "code",
      "metadata": {
        "id": "KPQH7hY8scO3",
        "colab_type": "code",
        "colab": {}
      },
      "source": [
        "pd.DataFrame(df.loc[df['KEGG Pathway ID'] == '00620', 'Gene name'].unique()).to_csv(\n",
        "    'genes_00620.txt', index=None, header=None)"
      ],
      "execution_count": 0,
      "outputs": []
    },
    {
      "cell_type": "markdown",
      "metadata": {
        "id": "g30VMALSveY6",
        "colab_type": "text"
      },
      "source": [
        "#### 自主練習1\n",
        "出てくる回数をカウントせよ。"
      ]
    },
    {
      "cell_type": "markdown",
      "metadata": {
        "id": "DaOlzTlutBPU",
        "colab_type": "text"
      },
      "source": [
        "http://bioinformatics.psb.ugent.be/webtools/Venn/\n",
        "に投げると同じ結果が得られる。\n",
        "\n",
        "![Venn](https://github.com/yyoshiaki/drbonodojo_3-6/raw/master/img/venn_result19700.png)"
      ]
    },
    {
      "cell_type": "markdown",
      "metadata": {
        "id": "QIRSCteYw8ET",
        "colab_type": "text"
      },
      "source": [
        "Pythonの良い点は大概のタスクはライブラリがすでにあること。venn図ももちろんある。"
      ]
    },
    {
      "cell_type": "code",
      "metadata": {
        "id": "SzBwZwUOwJFD",
        "colab_type": "code",
        "colab": {}
      },
      "source": [
        "from matplotlib_venn import venn3"
      ],
      "execution_count": 0,
      "outputs": []
    },
    {
      "cell_type": "code",
      "metadata": {
        "id": "4pGKPZWxwJAB",
        "colab_type": "code",
        "colab": {}
      },
      "source": [
        "genes_00010 = set(df.loc[df['KEGG Pathway ID'] == '00010', 'Gene name'])\n",
        "genes_00020 = set(df.loc[df['KEGG Pathway ID'] == '00020', 'Gene name'])\n",
        "genes_00620 = set(df.loc[df['KEGG Pathway ID'] == '00620', 'Gene name'])"
      ],
      "execution_count": 0,
      "outputs": []
    },
    {
      "cell_type": "code",
      "metadata": {
        "id": "rsfnk_5OwI6t",
        "colab_type": "code",
        "outputId": "6c6fb736-b78b-4ee0-94e7-e4d64da5a24e",
        "colab": {
          "base_uri": "https://localhost:8080/",
          "height": 268
        }
      },
      "source": [
        "venn3([genes_00010, genes_00020, genes_00620], ['00010', '00020', '000620'])"
      ],
      "execution_count": 0,
      "outputs": [
        {
          "output_type": "execute_result",
          "data": {
            "text/plain": [
              "<matplotlib_venn._common.VennDiagram at 0x7fad1cd1fc88>"
            ]
          },
          "metadata": {
            "tags": []
          },
          "execution_count": 17
        },
        {
          "output_type": "display_data",
          "data": {
            "image/png": "[encoded data removed]",
            "text/plain": [
              "<Figure size 432x288 with 1 Axes>"
            ]
          },
          "metadata": {
            "tags": []
          }
        }
      ]
    },
    {
      "cell_type": "markdown",
      "metadata": {
        "id": "Ra9TKcdOoaEQ",
        "colab_type": "text"
      },
      "source": [
        "## データ連結の実際"
      ]
    },
    {
      "cell_type": "code",
      "metadata": {
        "id": "Je0sgOfes52g",
        "colab_type": "code",
        "outputId": "162674f8-934f-419d-a59e-412dab098076",
        "colab": {
          "base_uri": "https://localhost:8080/",
          "height": 198
        }
      },
      "source": [
        "df_mart_export3 = pd.read_csv('https://raw.githubusercontent.com/bonohu/DrBonoDojo/master/3-6/mart_export3.txt', sep='\\t')\n",
        "df_mart_export3.head()"
      ],
      "execution_count": 0,
      "outputs": [
        {
          "output_type": "execute_result",
          "data": {
            "text/html": [
              "<div>\n",
              "<style scoped>\n",
              "    .dataframe tbody tr th:only-of-type {\n",
              "        vertical-align: middle;\n",
              "    }\n",
              "\n",
              "    .dataframe tbody tr th {\n",
              "        vertical-align: top;\n",
              "    }\n",
              "\n",
              "    .dataframe thead th {\n",
              "        text-align: right;\n",
              "    }\n",
              "</style>\n",
              "<table border=\"1\" class=\"dataframe\">\n",
              "  <thead>\n",
              "    <tr style=\"text-align: right;\">\n",
              "      <th></th>\n",
              "      <th>Gene name</th>\n",
              "      <th>NCBI gene ID</th>\n",
              "      <th>KEGG Pathway and Enzyme ID</th>\n",
              "    </tr>\n",
              "  </thead>\n",
              "  <tbody>\n",
              "    <tr>\n",
              "      <th>0</th>\n",
              "      <td>MT-ND1</td>\n",
              "      <td>4535.0</td>\n",
              "      <td>NaN</td>\n",
              "    </tr>\n",
              "    <tr>\n",
              "      <th>1</th>\n",
              "      <td>MT-ND2</td>\n",
              "      <td>4536.0</td>\n",
              "      <td>00190+1.6.5.3</td>\n",
              "    </tr>\n",
              "    <tr>\n",
              "      <th>2</th>\n",
              "      <td>MT-CO1</td>\n",
              "      <td>4512.0</td>\n",
              "      <td>00190+1.9.3.1</td>\n",
              "    </tr>\n",
              "    <tr>\n",
              "      <th>3</th>\n",
              "      <td>MT-CO2</td>\n",
              "      <td>4513.0</td>\n",
              "      <td>NaN</td>\n",
              "    </tr>\n",
              "    <tr>\n",
              "      <th>4</th>\n",
              "      <td>MT-ATP8</td>\n",
              "      <td>4509.0</td>\n",
              "      <td>NaN</td>\n",
              "    </tr>\n",
              "  </tbody>\n",
              "</table>\n",
              "</div>"
            ],
            "text/plain": [
              "  Gene name  NCBI gene ID KEGG Pathway and Enzyme ID\n",
              "0    MT-ND1        4535.0                        NaN\n",
              "1    MT-ND2        4536.0              00190+1.6.5.3\n",
              "2    MT-CO1        4512.0              00190+1.9.3.1\n",
              "3    MT-CO2        4513.0                        NaN\n",
              "4   MT-ATP8        4509.0                        NaN"
            ]
          },
          "metadata": {
            "tags": []
          },
          "execution_count": 18
        }
      ]
    },
    {
      "cell_type": "code",
      "metadata": {
        "id": "dkQu6dRQtBO-",
        "colab_type": "code",
        "outputId": "540a02cd-43ef-40fa-e19a-e3fc1e8cb30b",
        "colab": {
          "base_uri": "https://localhost:8080/",
          "height": 198
        }
      },
      "source": [
        "# 欠損値を消しておく。\n",
        "df_mart_export3 = df_mart_export3.dropna(subset=['NCBI gene ID', 'KEGG Pathway and Enzyme ID'])\n",
        "df_mart_export3.head()"
      ],
      "execution_count": 0,
      "outputs": [
        {
          "output_type": "execute_result",
          "data": {
            "text/html": [
              "<div>\n",
              "<style scoped>\n",
              "    .dataframe tbody tr th:only-of-type {\n",
              "        vertical-align: middle;\n",
              "    }\n",
              "\n",
              "    .dataframe tbody tr th {\n",
              "        vertical-align: top;\n",
              "    }\n",
              "\n",
              "    .dataframe thead th {\n",
              "        text-align: right;\n",
              "    }\n",
              "</style>\n",
              "<table border=\"1\" class=\"dataframe\">\n",
              "  <thead>\n",
              "    <tr style=\"text-align: right;\">\n",
              "      <th></th>\n",
              "      <th>Gene name</th>\n",
              "      <th>NCBI gene ID</th>\n",
              "      <th>KEGG Pathway and Enzyme ID</th>\n",
              "    </tr>\n",
              "  </thead>\n",
              "  <tbody>\n",
              "    <tr>\n",
              "      <th>1</th>\n",
              "      <td>MT-ND2</td>\n",
              "      <td>4536.0</td>\n",
              "      <td>00190+1.6.5.3</td>\n",
              "    </tr>\n",
              "    <tr>\n",
              "      <th>2</th>\n",
              "      <td>MT-CO1</td>\n",
              "      <td>4512.0</td>\n",
              "      <td>00190+1.9.3.1</td>\n",
              "    </tr>\n",
              "    <tr>\n",
              "      <th>9</th>\n",
              "      <td>MT-ND4</td>\n",
              "      <td>4538.0</td>\n",
              "      <td>00190+1.6.5.3</td>\n",
              "    </tr>\n",
              "    <tr>\n",
              "      <th>10</th>\n",
              "      <td>MT-ND5</td>\n",
              "      <td>4540.0</td>\n",
              "      <td>00190+1.6.5.3</td>\n",
              "    </tr>\n",
              "    <tr>\n",
              "      <th>24</th>\n",
              "      <td>HMOX1</td>\n",
              "      <td>3162.0</td>\n",
              "      <td>00860+1.14.14.18</td>\n",
              "    </tr>\n",
              "  </tbody>\n",
              "</table>\n",
              "</div>"
            ],
            "text/plain": [
              "   Gene name  NCBI gene ID KEGG Pathway and Enzyme ID\n",
              "1     MT-ND2        4536.0              00190+1.6.5.3\n",
              "2     MT-CO1        4512.0              00190+1.9.3.1\n",
              "9     MT-ND4        4538.0              00190+1.6.5.3\n",
              "10    MT-ND5        4540.0              00190+1.6.5.3\n",
              "24     HMOX1        3162.0           00860+1.14.14.18"
            ]
          },
          "metadata": {
            "tags": []
          },
          "execution_count": 19
        }
      ]
    },
    {
      "cell_type": "code",
      "metadata": {
        "id": "aafmZLQgrjOW",
        "colab_type": "code",
        "outputId": "64c65324-8912-464c-8f7f-37951806d23b",
        "colab": {
          "base_uri": "https://localhost:8080/",
          "height": 198
        }
      },
      "source": [
        "df_mart_export3.sort_values(by='NCBI gene ID').head()"
      ],
      "execution_count": 0,
      "outputs": [
        {
          "output_type": "execute_result",
          "data": {
            "text/html": [
              "<div>\n",
              "<style scoped>\n",
              "    .dataframe tbody tr th:only-of-type {\n",
              "        vertical-align: middle;\n",
              "    }\n",
              "\n",
              "    .dataframe tbody tr th {\n",
              "        vertical-align: top;\n",
              "    }\n",
              "\n",
              "    .dataframe thead th {\n",
              "        text-align: right;\n",
              "    }\n",
              "</style>\n",
              "<table border=\"1\" class=\"dataframe\">\n",
              "  <thead>\n",
              "    <tr style=\"text-align: right;\">\n",
              "      <th></th>\n",
              "      <th>Gene name</th>\n",
              "      <th>NCBI gene ID</th>\n",
              "      <th>KEGG Pathway and Enzyme ID</th>\n",
              "    </tr>\n",
              "  </thead>\n",
              "  <tbody>\n",
              "    <tr>\n",
              "      <th>2910</th>\n",
              "      <td>NAT1</td>\n",
              "      <td>9.0</td>\n",
              "      <td>00983+2.3.1.5</td>\n",
              "    </tr>\n",
              "    <tr>\n",
              "      <th>2911</th>\n",
              "      <td>NAT1</td>\n",
              "      <td>9.0</td>\n",
              "      <td>00232+2.3.1.5</td>\n",
              "    </tr>\n",
              "    <tr>\n",
              "      <th>2912</th>\n",
              "      <td>NAT1</td>\n",
              "      <td>9.0</td>\n",
              "      <td>00633+2.3.1.5</td>\n",
              "    </tr>\n",
              "    <tr>\n",
              "      <th>3072</th>\n",
              "      <td>NAT2</td>\n",
              "      <td>10.0</td>\n",
              "      <td>00232+2.3.1.5</td>\n",
              "    </tr>\n",
              "    <tr>\n",
              "      <th>3073</th>\n",
              "      <td>NAT2</td>\n",
              "      <td>10.0</td>\n",
              "      <td>00633+2.3.1.5</td>\n",
              "    </tr>\n",
              "  </tbody>\n",
              "</table>\n",
              "</div>"
            ],
            "text/plain": [
              "     Gene name  NCBI gene ID KEGG Pathway and Enzyme ID\n",
              "2910      NAT1           9.0              00983+2.3.1.5\n",
              "2911      NAT1           9.0              00232+2.3.1.5\n",
              "2912      NAT1           9.0              00633+2.3.1.5\n",
              "3072      NAT2          10.0              00232+2.3.1.5\n",
              "3073      NAT2          10.0              00633+2.3.1.5"
            ]
          },
          "metadata": {
            "tags": []
          },
          "execution_count": 20
        }
      ]
    },
    {
      "cell_type": "code",
      "metadata": {
        "id": "m3t-uEDcsS-V",
        "colab_type": "code",
        "outputId": "a4d07652-7882-4cae-f844-10479894e7ab",
        "colab": {
          "base_uri": "https://localhost:8080/",
          "height": 228
        }
      },
      "source": [
        "df_cage_extracted.head()"
      ],
      "execution_count": 0,
      "outputs": [
        {
          "output_type": "execute_result",
          "data": {
            "text/html": [
              "<div>\n",
              "<style scoped>\n",
              "    .dataframe tbody tr th:only-of-type {\n",
              "        vertical-align: middle;\n",
              "    }\n",
              "\n",
              "    .dataframe tbody tr th {\n",
              "        vertical-align: top;\n",
              "    }\n",
              "\n",
              "    .dataframe thead th {\n",
              "        text-align: right;\n",
              "    }\n",
              "</style>\n",
              "<table border=\"1\" class=\"dataframe\">\n",
              "  <thead>\n",
              "    <tr style=\"text-align: right;\">\n",
              "      <th></th>\n",
              "      <th>colon carcinoma cell line:CACO-2</th>\n",
              "      <th>small intestine, adult</th>\n",
              "    </tr>\n",
              "    <tr>\n",
              "      <th>NCBI_GeneID</th>\n",
              "      <th></th>\n",
              "      <th></th>\n",
              "    </tr>\n",
              "  </thead>\n",
              "  <tbody>\n",
              "    <tr>\n",
              "      <th>2</th>\n",
              "      <td>0.000000</td>\n",
              "      <td>5.328502</td>\n",
              "    </tr>\n",
              "    <tr>\n",
              "      <th>9</th>\n",
              "      <td>2.264108</td>\n",
              "      <td>2.663829</td>\n",
              "    </tr>\n",
              "    <tr>\n",
              "      <th>10</th>\n",
              "      <td>0.448149</td>\n",
              "      <td>3.766171</td>\n",
              "    </tr>\n",
              "    <tr>\n",
              "      <th>12</th>\n",
              "      <td>0.991857</td>\n",
              "      <td>2.910402</td>\n",
              "    </tr>\n",
              "    <tr>\n",
              "      <th>13</th>\n",
              "      <td>0.353511</td>\n",
              "      <td>5.247834</td>\n",
              "    </tr>\n",
              "  </tbody>\n",
              "</table>\n",
              "</div>"
            ],
            "text/plain": [
              "             colon carcinoma cell line:CACO-2  small intestine, adult\n",
              "NCBI_GeneID                                                          \n",
              "2                                    0.000000                5.328502\n",
              "9                                    2.264108                2.663829\n",
              "10                                   0.448149                3.766171\n",
              "12                                   0.991857                2.910402\n",
              "13                                   0.353511                5.247834"
            ]
          },
          "metadata": {
            "tags": []
          },
          "execution_count": 21
        }
      ]
    },
    {
      "cell_type": "code",
      "metadata": {
        "id": "TyqEkCbFpyvm",
        "colab_type": "code",
        "outputId": "1e687902-2a3c-4713-9f39-bd9d53fc0efb",
        "colab": {
          "base_uri": "https://localhost:8080/",
          "height": 228
        }
      },
      "source": [
        "# merge用に列（NCBI gene ID）を作る。\n",
        "df_cage_extracted['NCBI gene ID'] = df_cage_extracted.index\n",
        "df_cage_extracted.head()"
      ],
      "execution_count": 0,
      "outputs": [
        {
          "output_type": "execute_result",
          "data": {
            "text/html": [
              "<div>\n",
              "<style scoped>\n",
              "    .dataframe tbody tr th:only-of-type {\n",
              "        vertical-align: middle;\n",
              "    }\n",
              "\n",
              "    .dataframe tbody tr th {\n",
              "        vertical-align: top;\n",
              "    }\n",
              "\n",
              "    .dataframe thead th {\n",
              "        text-align: right;\n",
              "    }\n",
              "</style>\n",
              "<table border=\"1\" class=\"dataframe\">\n",
              "  <thead>\n",
              "    <tr style=\"text-align: right;\">\n",
              "      <th></th>\n",
              "      <th>colon carcinoma cell line:CACO-2</th>\n",
              "      <th>small intestine, adult</th>\n",
              "      <th>NCBI gene ID</th>\n",
              "    </tr>\n",
              "    <tr>\n",
              "      <th>NCBI_GeneID</th>\n",
              "      <th></th>\n",
              "      <th></th>\n",
              "      <th></th>\n",
              "    </tr>\n",
              "  </thead>\n",
              "  <tbody>\n",
              "    <tr>\n",
              "      <th>2</th>\n",
              "      <td>0.000000</td>\n",
              "      <td>5.328502</td>\n",
              "      <td>2</td>\n",
              "    </tr>\n",
              "    <tr>\n",
              "      <th>9</th>\n",
              "      <td>2.264108</td>\n",
              "      <td>2.663829</td>\n",
              "      <td>9</td>\n",
              "    </tr>\n",
              "    <tr>\n",
              "      <th>10</th>\n",
              "      <td>0.448149</td>\n",
              "      <td>3.766171</td>\n",
              "      <td>10</td>\n",
              "    </tr>\n",
              "    <tr>\n",
              "      <th>12</th>\n",
              "      <td>0.991857</td>\n",
              "      <td>2.910402</td>\n",
              "      <td>12</td>\n",
              "    </tr>\n",
              "    <tr>\n",
              "      <th>13</th>\n",
              "      <td>0.353511</td>\n",
              "      <td>5.247834</td>\n",
              "      <td>13</td>\n",
              "    </tr>\n",
              "  </tbody>\n",
              "</table>\n",
              "</div>"
            ],
            "text/plain": [
              "             colon carcinoma cell line:CACO-2  ...  NCBI gene ID\n",
              "NCBI_GeneID                                    ...              \n",
              "2                                    0.000000  ...             2\n",
              "9                                    2.264108  ...             9\n",
              "10                                   0.448149  ...            10\n",
              "12                                   0.991857  ...            12\n",
              "13                                   0.353511  ...            13\n",
              "\n",
              "[5 rows x 3 columns]"
            ]
          },
          "metadata": {
            "tags": []
          },
          "execution_count": 22
        }
      ]
    },
    {
      "cell_type": "code",
      "metadata": {
        "id": "bwx86DfsrdXd",
        "colab_type": "code",
        "outputId": "2c62677a-c9c6-4a88-81b5-d391da285c2e",
        "colab": {
          "base_uri": "https://localhost:8080/",
          "height": 648
        }
      },
      "source": [
        "df_merged = pd.merge(df_mart_export3, df_cage_extracted, on='NCBI gene ID')\n",
        "df_merged = df_merged.sort_values(by=\"NCBI gene ID\")\n",
        "df_merged.head(20)"
      ],
      "execution_count": 0,
      "outputs": [
        {
          "output_type": "execute_result",
          "data": {
            "text/html": [
              "<div>\n",
              "<style scoped>\n",
              "    .dataframe tbody tr th:only-of-type {\n",
              "        vertical-align: middle;\n",
              "    }\n",
              "\n",
              "    .dataframe tbody tr th {\n",
              "        vertical-align: top;\n",
              "    }\n",
              "\n",
              "    .dataframe thead th {\n",
              "        text-align: right;\n",
              "    }\n",
              "</style>\n",
              "<table border=\"1\" class=\"dataframe\">\n",
              "  <thead>\n",
              "    <tr style=\"text-align: right;\">\n",
              "      <th></th>\n",
              "      <th>Gene name</th>\n",
              "      <th>NCBI gene ID</th>\n",
              "      <th>KEGG Pathway and Enzyme ID</th>\n",
              "      <th>colon carcinoma cell line:CACO-2</th>\n",
              "      <th>small intestine, adult</th>\n",
              "    </tr>\n",
              "  </thead>\n",
              "  <tbody>\n",
              "    <tr>\n",
              "      <th>335</th>\n",
              "      <td>NAT1</td>\n",
              "      <td>9.0</td>\n",
              "      <td>00983+2.3.1.5</td>\n",
              "      <td>2.264108</td>\n",
              "      <td>2.663829</td>\n",
              "    </tr>\n",
              "    <tr>\n",
              "      <th>336</th>\n",
              "      <td>NAT1</td>\n",
              "      <td>9.0</td>\n",
              "      <td>00232+2.3.1.5</td>\n",
              "      <td>2.264108</td>\n",
              "      <td>2.663829</td>\n",
              "    </tr>\n",
              "    <tr>\n",
              "      <th>337</th>\n",
              "      <td>NAT1</td>\n",
              "      <td>9.0</td>\n",
              "      <td>00633+2.3.1.5</td>\n",
              "      <td>2.264108</td>\n",
              "      <td>2.663829</td>\n",
              "    </tr>\n",
              "    <tr>\n",
              "      <th>348</th>\n",
              "      <td>NAT2</td>\n",
              "      <td>10.0</td>\n",
              "      <td>00983+2.3.1.5</td>\n",
              "      <td>0.448149</td>\n",
              "      <td>3.766171</td>\n",
              "    </tr>\n",
              "    <tr>\n",
              "      <th>349</th>\n",
              "      <td>NAT2</td>\n",
              "      <td>10.0</td>\n",
              "      <td>00232+2.3.1.5</td>\n",
              "      <td>0.448149</td>\n",
              "      <td>3.766171</td>\n",
              "    </tr>\n",
              "    <tr>\n",
              "      <th>350</th>\n",
              "      <td>NAT2</td>\n",
              "      <td>10.0</td>\n",
              "      <td>00633+2.3.1.5</td>\n",
              "      <td>0.448149</td>\n",
              "      <td>3.766171</td>\n",
              "    </tr>\n",
              "    <tr>\n",
              "      <th>470</th>\n",
              "      <td>AARS</td>\n",
              "      <td>16.0</td>\n",
              "      <td>00970+6.1.1.7</td>\n",
              "      <td>4.413534</td>\n",
              "      <td>3.497334</td>\n",
              "    </tr>\n",
              "    <tr>\n",
              "      <th>1374</th>\n",
              "      <td>ABAT</td>\n",
              "      <td>18.0</td>\n",
              "      <td>00410+2.6.1.19</td>\n",
              "      <td>3.437472</td>\n",
              "      <td>3.370442</td>\n",
              "    </tr>\n",
              "    <tr>\n",
              "      <th>1376</th>\n",
              "      <td>ABAT</td>\n",
              "      <td>18.0</td>\n",
              "      <td>00640+2.6.1.19</td>\n",
              "      <td>3.437472</td>\n",
              "      <td>3.370442</td>\n",
              "    </tr>\n",
              "    <tr>\n",
              "      <th>1377</th>\n",
              "      <td>ABAT</td>\n",
              "      <td>18.0</td>\n",
              "      <td>00650+2.6.1.19</td>\n",
              "      <td>3.437472</td>\n",
              "      <td>3.370442</td>\n",
              "    </tr>\n",
              "    <tr>\n",
              "      <th>1375</th>\n",
              "      <td>ABAT</td>\n",
              "      <td>18.0</td>\n",
              "      <td>00250+2.6.1.19</td>\n",
              "      <td>3.437472</td>\n",
              "      <td>3.370442</td>\n",
              "    </tr>\n",
              "    <tr>\n",
              "      <th>1929</th>\n",
              "      <td>ABL1</td>\n",
              "      <td>25.0</td>\n",
              "      <td>04660+2.7.10.2</td>\n",
              "      <td>1.829387</td>\n",
              "      <td>2.567958</td>\n",
              "    </tr>\n",
              "    <tr>\n",
              "      <th>2575</th>\n",
              "      <td>AOC1</td>\n",
              "      <td>26.0</td>\n",
              "      <td>00960+1.4.3.21</td>\n",
              "      <td>1.708975</td>\n",
              "      <td>6.260478</td>\n",
              "    </tr>\n",
              "    <tr>\n",
              "      <th>2576</th>\n",
              "      <td>AOC1</td>\n",
              "      <td>26.0</td>\n",
              "      <td>00410+1.4.3.21</td>\n",
              "      <td>1.708975</td>\n",
              "      <td>6.260478</td>\n",
              "    </tr>\n",
              "    <tr>\n",
              "      <th>2577</th>\n",
              "      <td>AOC1</td>\n",
              "      <td>26.0</td>\n",
              "      <td>00360+1.4.3.21</td>\n",
              "      <td>1.708975</td>\n",
              "      <td>6.260478</td>\n",
              "    </tr>\n",
              "    <tr>\n",
              "      <th>2578</th>\n",
              "      <td>AOC1</td>\n",
              "      <td>26.0</td>\n",
              "      <td>00260+1.4.3.21</td>\n",
              "      <td>1.708975</td>\n",
              "      <td>6.260478</td>\n",
              "    </tr>\n",
              "    <tr>\n",
              "      <th>2579</th>\n",
              "      <td>AOC1</td>\n",
              "      <td>26.0</td>\n",
              "      <td>00950+1.4.3.21</td>\n",
              "      <td>1.708975</td>\n",
              "      <td>6.260478</td>\n",
              "    </tr>\n",
              "    <tr>\n",
              "      <th>2580</th>\n",
              "      <td>AOC1</td>\n",
              "      <td>26.0</td>\n",
              "      <td>00350+1.4.3.21</td>\n",
              "      <td>1.708975</td>\n",
              "      <td>6.260478</td>\n",
              "    </tr>\n",
              "    <tr>\n",
              "      <th>2747</th>\n",
              "      <td>ABL2</td>\n",
              "      <td>27.0</td>\n",
              "      <td>04660+2.7.10.2</td>\n",
              "      <td>1.851822</td>\n",
              "      <td>2.200122</td>\n",
              "    </tr>\n",
              "    <tr>\n",
              "      <th>2188</th>\n",
              "      <td>ABR</td>\n",
              "      <td>29.0</td>\n",
              "      <td>05165+2.7.11.1</td>\n",
              "      <td>2.532978</td>\n",
              "      <td>3.492649</td>\n",
              "    </tr>\n",
              "  </tbody>\n",
              "</table>\n",
              "</div>"
            ],
            "text/plain": [
              "     Gene name  ...  small intestine, adult\n",
              "335       NAT1  ...                2.663829\n",
              "336       NAT1  ...                2.663829\n",
              "337       NAT1  ...                2.663829\n",
              "348       NAT2  ...                3.766171\n",
              "349       NAT2  ...                3.766171\n",
              "350       NAT2  ...                3.766171\n",
              "470       AARS  ...                3.497334\n",
              "1374      ABAT  ...                3.370442\n",
              "1376      ABAT  ...                3.370442\n",
              "1377      ABAT  ...                3.370442\n",
              "1375      ABAT  ...                3.370442\n",
              "1929      ABL1  ...                2.567958\n",
              "2575      AOC1  ...                6.260478\n",
              "2576      AOC1  ...                6.260478\n",
              "2577      AOC1  ...                6.260478\n",
              "2578      AOC1  ...                6.260478\n",
              "2579      AOC1  ...                6.260478\n",
              "2580      AOC1  ...                6.260478\n",
              "2747      ABL2  ...                2.200122\n",
              "2188       ABR  ...                3.492649\n",
              "\n",
              "[20 rows x 5 columns]"
            ]
          },
          "metadata": {
            "tags": []
          },
          "execution_count": 23
        }
      ]
    },
    {
      "cell_type": "code",
      "metadata": {
        "id": "rjnkEAHBsldS",
        "colab_type": "code",
        "outputId": "27a72833-a2a1-42f3-d99c-e0fe487a359b",
        "colab": {
          "base_uri": "https://localhost:8080/",
          "height": 348
        }
      },
      "source": [
        "df_merged[df_merged[\"KEGG Pathway and Enzyme ID\"].str.startswith(\"00010+\")].sort_values(by=\"colon carcinoma cell line:CACO-2\", \n",
        "                                                                                        ascending=False).head(10)"
      ],
      "execution_count": 0,
      "outputs": [
        {
          "output_type": "execute_result",
          "data": {
            "text/html": [
              "<div>\n",
              "<style scoped>\n",
              "    .dataframe tbody tr th:only-of-type {\n",
              "        vertical-align: middle;\n",
              "    }\n",
              "\n",
              "    .dataframe tbody tr th {\n",
              "        vertical-align: top;\n",
              "    }\n",
              "\n",
              "    .dataframe thead th {\n",
              "        text-align: right;\n",
              "    }\n",
              "</style>\n",
              "<table border=\"1\" class=\"dataframe\">\n",
              "  <thead>\n",
              "    <tr style=\"text-align: right;\">\n",
              "      <th></th>\n",
              "      <th>Gene name</th>\n",
              "      <th>NCBI gene ID</th>\n",
              "      <th>KEGG Pathway and Enzyme ID</th>\n",
              "      <th>colon carcinoma cell line:CACO-2</th>\n",
              "      <th>small intestine, adult</th>\n",
              "    </tr>\n",
              "  </thead>\n",
              "  <tbody>\n",
              "    <tr>\n",
              "      <th>56</th>\n",
              "      <td>GAPDH</td>\n",
              "      <td>2597.0</td>\n",
              "      <td>00010+1.2.1.12</td>\n",
              "      <td>7.911370</td>\n",
              "      <td>7.217761</td>\n",
              "    </tr>\n",
              "    <tr>\n",
              "      <th>1133</th>\n",
              "      <td>LDHB</td>\n",
              "      <td>3945.0</td>\n",
              "      <td>00010+1.1.1.27</td>\n",
              "      <td>7.196754</td>\n",
              "      <td>4.336981</td>\n",
              "    </tr>\n",
              "    <tr>\n",
              "      <th>2096</th>\n",
              "      <td>ENO1</td>\n",
              "      <td>2023.0</td>\n",
              "      <td>00010+4.2.1.11</td>\n",
              "      <td>7.083896</td>\n",
              "      <td>6.227354</td>\n",
              "    </tr>\n",
              "    <tr>\n",
              "      <th>1438</th>\n",
              "      <td>LDHA</td>\n",
              "      <td>3939.0</td>\n",
              "      <td>00010+1.1.1.27</td>\n",
              "      <td>6.737518</td>\n",
              "      <td>7.251760</td>\n",
              "    </tr>\n",
              "    <tr>\n",
              "      <th>2532</th>\n",
              "      <td>PKM</td>\n",
              "      <td>5315.0</td>\n",
              "      <td>00010+2.7.1.40</td>\n",
              "      <td>6.703426</td>\n",
              "      <td>5.677099</td>\n",
              "    </tr>\n",
              "    <tr>\n",
              "      <th>28</th>\n",
              "      <td>ALDOA</td>\n",
              "      <td>226.0</td>\n",
              "      <td>00010+4.1.2.13</td>\n",
              "      <td>6.023212</td>\n",
              "      <td>6.221699</td>\n",
              "    </tr>\n",
              "    <tr>\n",
              "      <th>2627</th>\n",
              "      <td>PGK1</td>\n",
              "      <td>5230.0</td>\n",
              "      <td>00010+2.7.2.3</td>\n",
              "      <td>5.996850</td>\n",
              "      <td>5.563040</td>\n",
              "    </tr>\n",
              "    <tr>\n",
              "      <th>171</th>\n",
              "      <td>GPI</td>\n",
              "      <td>2821.0</td>\n",
              "      <td>00010+5.3.1.9</td>\n",
              "      <td>5.616561</td>\n",
              "      <td>5.692047</td>\n",
              "    </tr>\n",
              "    <tr>\n",
              "      <th>479</th>\n",
              "      <td>PFKP</td>\n",
              "      <td>5214.0</td>\n",
              "      <td>00010+2.7.1.11</td>\n",
              "      <td>4.795863</td>\n",
              "      <td>4.210196</td>\n",
              "    </tr>\n",
              "    <tr>\n",
              "      <th>1590</th>\n",
              "      <td>PDHA1</td>\n",
              "      <td>5160.0</td>\n",
              "      <td>00010+1.2.4.1</td>\n",
              "      <td>4.497248</td>\n",
              "      <td>4.109022</td>\n",
              "    </tr>\n",
              "  </tbody>\n",
              "</table>\n",
              "</div>"
            ],
            "text/plain": [
              "     Gene name  ...  small intestine, adult\n",
              "56       GAPDH  ...                7.217761\n",
              "1133      LDHB  ...                4.336981\n",
              "2096      ENO1  ...                6.227354\n",
              "1438      LDHA  ...                7.251760\n",
              "2532       PKM  ...                5.677099\n",
              "28       ALDOA  ...                6.221699\n",
              "2627      PGK1  ...                5.563040\n",
              "171        GPI  ...                5.692047\n",
              "479       PFKP  ...                4.210196\n",
              "1590     PDHA1  ...                4.109022\n",
              "\n",
              "[10 rows x 5 columns]"
            ]
          },
          "metadata": {
            "tags": []
          },
          "execution_count": 36
        }
      ]
    },
    {
      "cell_type": "markdown",
      "metadata": {
        "id": "Aa0xL6NevKA1",
        "colab_type": "text"
      },
      "source": [
        "#### 自主練習2\n",
        "\n",
        "00010+ または 00020+を抜き出せ。"
      ]
    },
    {
      "cell_type": "markdown",
      "metadata": {
        "id": "QYl53nyev6Ha",
        "colab_type": "text"
      },
      "source": [
        "## 連結するための処理\n"
      ]
    },
    {
      "cell_type": "code",
      "metadata": {
        "id": "Q6oseqhzuNFa",
        "colab_type": "code",
        "outputId": "dc82f1a6-9767-47ee-f5d5-58d24eea4d50",
        "colab": {
          "base_uri": "https://localhost:8080/",
          "height": 198
        }
      },
      "source": [
        "df_TD = pd.read_csv('https://raw.githubusercontent.com/bonohu/DrBonoDojo/master/3-6/Enolase_C-IACV01.txt', header=None)\n",
        "df_TD.columns = ['ID']\n",
        "df_TD"
      ],
      "execution_count": 0,
      "outputs": [
        {
          "output_type": "execute_result",
          "data": {
            "text/html": [
              "<div>\n",
              "<style scoped>\n",
              "    .dataframe tbody tr th:only-of-type {\n",
              "        vertical-align: middle;\n",
              "    }\n",
              "\n",
              "    .dataframe tbody tr th {\n",
              "        vertical-align: top;\n",
              "    }\n",
              "\n",
              "    .dataframe thead th {\n",
              "        text-align: right;\n",
              "    }\n",
              "</style>\n",
              "<table border=\"1\" class=\"dataframe\">\n",
              "  <thead>\n",
              "    <tr style=\"text-align: right;\">\n",
              "      <th></th>\n",
              "      <th>ID</th>\n",
              "    </tr>\n",
              "  </thead>\n",
              "  <tbody>\n",
              "    <tr>\n",
              "      <th>0</th>\n",
              "      <td>IACV01121558.1.p2</td>\n",
              "    </tr>\n",
              "    <tr>\n",
              "      <th>1</th>\n",
              "      <td>IACV01121559.1.p2</td>\n",
              "    </tr>\n",
              "    <tr>\n",
              "      <th>2</th>\n",
              "      <td>IACV01093882.1.p2</td>\n",
              "    </tr>\n",
              "    <tr>\n",
              "      <th>3</th>\n",
              "      <td>IACV01087655.1.p1</td>\n",
              "    </tr>\n",
              "    <tr>\n",
              "      <th>4</th>\n",
              "      <td>IACV01121563.1.p1</td>\n",
              "    </tr>\n",
              "  </tbody>\n",
              "</table>\n",
              "</div>"
            ],
            "text/plain": [
              "                  ID\n",
              "0  IACV01121558.1.p2\n",
              "1  IACV01121559.1.p2\n",
              "2  IACV01093882.1.p2\n",
              "3  IACV01087655.1.p1\n",
              "4  IACV01121563.1.p1"
            ]
          },
          "metadata": {
            "tags": []
          },
          "execution_count": 40
        }
      ]
    },
    {
      "cell_type": "code",
      "metadata": {
        "id": "QFcokcHNwTgP",
        "colab_type": "code",
        "outputId": "12e4adbf-19ef-4e53-8f48-a77e1582cc2f",
        "colab": {
          "base_uri": "https://localhost:8080/",
          "height": 126
        }
      },
      "source": [
        "df_TD['ID'].str.split('.p').str.get(0)"
      ],
      "execution_count": 0,
      "outputs": [
        {
          "output_type": "execute_result",
          "data": {
            "text/plain": [
              "0    IACV01121558.1\n",
              "1    IACV01121559.1\n",
              "2    IACV01093882.1\n",
              "3    IACV01087655.1\n",
              "4    IACV01121563.1\n",
              "Name: ID, dtype: object"
            ]
          },
          "metadata": {
            "tags": []
          },
          "execution_count": 68
        }
      ]
    },
    {
      "cell_type": "markdown",
      "metadata": {
        "id": "p2q9UeZCyQL7",
        "colab_type": "text"
      },
      "source": [
        "fastaは少しめんどくさい構造をしているのでbiopythonやscikit-bioを使うのもおすすめ。"
      ]
    },
    {
      "cell_type": "code",
      "metadata": {
        "id": "oZDEghgtylqa",
        "colab_type": "code",
        "outputId": "d41c61cb-598c-4b1f-a305-fb9596845d96",
        "colab": {
          "base_uri": "https://localhost:8080/",
          "height": 308
        }
      },
      "source": [
        "# IACV01.1.fsa_nt.transdecoder.pep.gzをダウンロード。\n",
        "! wget https://github.com/bonohu/DrBonoDojo/raw/master/3-6/IACV01.1.fsa_nt.transdecoder.pep.gz"
      ],
      "execution_count": 0,
      "outputs": [
        {
          "output_type": "stream",
          "text": [
            "--2019-10-15 05:01:54--  https://github.com/bonohu/DrBonoDojo/raw/master/3-6/IACV01.1.fsa_nt.transdecoder.pep.gz\n",
            "Resolving github.com (github.com)... 140.82.114.4\n",
            "Connecting to github.com (github.com)|140.82.114.4|:443... connected.\n",
            "HTTP request sent, awaiting response... 302 Found\n",
            "Location: https://raw.githubusercontent.com/bonohu/DrBonoDojo/master/3-6/IACV01.1.fsa_nt.transdecoder.pep.gz [following]\n",
            "--2019-10-15 05:01:55--  https://raw.githubusercontent.com/bonohu/DrBonoDojo/master/3-6/IACV01.1.fsa_nt.transdecoder.pep.gz\n",
            "Resolving raw.githubusercontent.com (raw.githubusercontent.com)... 151.101.0.133, 151.101.64.133, 151.101.128.133, ...\n",
            "Connecting to raw.githubusercontent.com (raw.githubusercontent.com)|151.101.0.133|:443... connected.\n",
            "HTTP request sent, awaiting response... 200 OK\n",
            "Length: 6121309 (5.8M) [application/octet-stream]\n",
            "Saving to: ‘IACV01.1.fsa_nt.transdecoder.pep.gz’\n",
            "\n",
            "IACV01.1.fsa_nt.tra 100%[===================>]   5.84M  --.-KB/s    in 0.09s   \n",
            "\n",
            "2019-10-15 05:01:55 (62.0 MB/s) - ‘IACV01.1.fsa_nt.transdecoder.pep.gz’ saved [6121309/6121309]\n",
            "\n"
          ],
          "name": "stdout"
        }
      ]
    },
    {
      "cell_type": "code",
      "metadata": {
        "id": "jfvgY2ZC72p0",
        "colab_type": "code",
        "colab": {}
      },
      "source": [
        "! gunzip IACV01.1.fsa_nt.transdecoder.pep.gz"
      ],
      "execution_count": 0,
      "outputs": []
    },
    {
      "cell_type": "code",
      "metadata": {
        "id": "cFtfZD83zXAZ",
        "colab_type": "code",
        "outputId": "a6764d6f-b477-4e3f-a348-dcc5cd38ce1d",
        "colab": {
          "base_uri": "https://localhost:8080/",
          "height": 419
        }
      },
      "source": [
        "with open('IACV01.1.fsa_nt.transdecoder.pep', 'r') as f:\n",
        "    line = f.readline() # 1行を文字列として読み込む(改行文字も含まれる)\n",
        "    l = 0\n",
        "    while line:\n",
        "        print(line, end=\"\")\n",
        "        line = f.readline()\n",
        "        l += 1\n",
        "        if l > 20: # 長いので20行で終了する。\n",
        "          break"
      ],
      "execution_count": 0,
      "outputs": [
        {
          "output_type": "stream",
          "text": [
            ">IACV01000035.1.p1 GENE.IACV01000035.1~~IACV01000035.1.p1  ORF type:5prime_partial len:122 (+),score=43.87 IACV01000035.1:1-366(+)\n",
            "TKTLWVTKVEKFIDYRVTATLEVKNCVPSEFKFPQCQKIHHPPAPHPHPQPHLHPHPPTR\n",
            "PHKPTSYRPPQHQGNVHYEVPYHDEEPTAEQPAEATHDQKDEKQWVEPNLQPIVDDVFYK\n",
            "V*\n",
            ">IACV01000039.1.p1 GENE.IACV01000039.1~~IACV01000039.1.p1  ORF type:internal len:110 (+),score=30.88 IACV01000039.1:1-327(+)\n",
            "PECLDGALTEALAERFDNEPEDMDVDTIHAEVEKVIVGLSASRWAPEGDLGTAPPPASKP\n",
            "PPKPSPSAQSAGDTAPQPLGSRFQILADVGETAQDPPPQPTQRKIAPTR\n",
            ">IACV01000055.1.p1 GENE.IACV01000055.1~~IACV01000055.1.p1  ORF type:internal len:105 (-),score=24.26 IACV01000055.1:2-313(-)\n",
            "GCAPASALSPEAWPSGLSYKNIGKGNMFPQQHRHCPQPLLLAIRVEHTSLDNGDIVDGAV\n",
            "IGGGGHESHALDGGEASLDPAKDGVLAVKPWSRSESDEELGAVC\n",
            ">IACV01000066.1.p1 GENE.IACV01000066.1~~IACV01000066.1.p1  ORF type:3prime_partial len:134 (-),score=1.60 IACV01000066.1:2-400(-)\n",
            "MFPSDRTSDIIDFPGNTVKVLWNKGKNEYTWDCDSLVQRGKIPQKNIVHIIPGPTPEASN\n",
            "KLQPYSCFQLFFSDDIMSTILVHTSSEITRQRILYSTNFKANLSDTSIIELKAQLGIQVL\n",
            "SAALKDNHITTEI\n",
            ">IACV01000067.1.p1 GENE.IACV01000067.1~~IACV01000067.1.p1  ORF type:internal len:128 (-),score=29.07 IACV01000067.1:2-382(-)\n",
            "GHSIGHAIEAILAPQLLHGEAIAIGMVKEAELARFLGVLRPHAVARLTKCIAAFGLPTSL\n",
            "RDARVVKLTAGKQCHVREMLQKMSVDKKNDGSKKKIVLLSAIGKTYESKASVVADRTVEM\n",
            "ILGSSVL\n",
            ">IACV01000070.1.p1 GENE.IACV01000070.1~~IACV01000070.1.p1  ORF type:5prime_partial len:129 (+),score=18.31 IACV01000070.1:1-387(+)\n",
            "VEMTPVKHVSETCDSREAVSETSIIDFKKALSDLRNEILEGQAVLKDSLKSCHDKLDANS\n",
            "TLLSKQEKLIETQQEIIKALQSENESLKQKVSDLTLRCDDLEQYGRRNTVEIQGIPMTEA\n"
          ],
          "name": "stdout"
        }
      ]
    },
    {
      "cell_type": "code",
      "metadata": {
        "id": "9rxGfns6zIKS",
        "colab_type": "code",
        "outputId": "9483d934-ba8a-45b0-acc7-c8b78644de10",
        "colab": {
          "base_uri": "https://localhost:8080/",
          "height": 219
        }
      },
      "source": [
        "!perl -pe 's/^\\>(\\w+)\\.p\\d+/\\>$1/' IACV01.1.fsa_nt.transdecoder.pep | head"
      ],
      "execution_count": 0,
      "outputs": [
        {
          "output_type": "stream",
          "text": [
            ">IACV01000035.1.p1 GENE.IACV01000035.1~~IACV01000035.1.p1  ORF type:5prime_partial len:122 (+),score=43.87 IACV01000035.1:1-366(+)\n",
            "TKTLWVTKVEKFIDYRVTATLEVKNCVPSEFKFPQCQKIHHPPAPHPHPQPHLHPHPPTR\n",
            "PHKPTSYRPPQHQGNVHYEVPYHDEEPTAEQPAEATHDQKDEKQWVEPNLQPIVDDVFYK\n",
            "V*\n",
            ">IACV01000039.1.p1 GENE.IACV01000039.1~~IACV01000039.1.p1  ORF type:internal len:110 (+),score=30.88 IACV01000039.1:1-327(+)\n",
            "PECLDGALTEALAERFDNEPEDMDVDTIHAEVEKVIVGLSASRWAPEGDLGTAPPPASKP\n",
            "PPKPSPSAQSAGDTAPQPLGSRFQILADVGETAQDPPPQPTQRKIAPTR\n",
            ">IACV01000055.1.p1 GENE.IACV01000055.1~~IACV01000055.1.p1  ORF type:internal len:105 (-),score=24.26 IACV01000055.1:2-313(-)\n",
            "GCAPASALSPEAWPSGLSYKNIGKGNMFPQQHRHCPQPLLLAIRVEHTSLDNGDIVDGAV\n",
            "IGGGGHESHALDGGEASLDPAKDGVLAVKPWSRSESDEELGAVC\n"
          ],
          "name": "stdout"
        }
      ]
    },
    {
      "cell_type": "code",
      "metadata": {
        "id": "ORsFL9TQ9PVO",
        "colab_type": "code",
        "outputId": "da71d222-5935-4c94-f3bb-6809283f1bf2",
        "colab": {
          "base_uri": "https://localhost:8080/",
          "height": 219
        }
      },
      "source": [
        "!head IACV01.1.fsa_nt.transdecoder.pep"
      ],
      "execution_count": 0,
      "outputs": [
        {
          "output_type": "stream",
          "text": [
            ">IACV01000035.1.p1 GENE.IACV01000035.1~~IACV01000035.1.p1  ORF type:5prime_partial len:122 (+),score=43.87 IACV01000035.1:1-366(+)\n",
            "TKTLWVTKVEKFIDYRVTATLEVKNCVPSEFKFPQCQKIHHPPAPHPHPQPHLHPHPPTR\n",
            "PHKPTSYRPPQHQGNVHYEVPYHDEEPTAEQPAEATHDQKDEKQWVEPNLQPIVDDVFYK\n",
            "V*\n",
            ">IACV01000039.1.p1 GENE.IACV01000039.1~~IACV01000039.1.p1  ORF type:internal len:110 (+),score=30.88 IACV01000039.1:1-327(+)\n",
            "PECLDGALTEALAERFDNEPEDMDVDTIHAEVEKVIVGLSASRWAPEGDLGTAPPPASKP\n",
            "PPKPSPSAQSAGDTAPQPLGSRFQILADVGETAQDPPPQPTQRKIAPTR\n",
            ">IACV01000055.1.p1 GENE.IACV01000055.1~~IACV01000055.1.p1  ORF type:internal len:105 (-),score=24.26 IACV01000055.1:2-313(-)\n",
            "GCAPASALSPEAWPSGLSYKNIGKGNMFPQQHRHCPQPLLLAIRVEHTSLDNGDIVDGAV\n",
            "IGGGGHESHALDGGEASLDPAKDGVLAVKPWSRSESDEELGAVC\n"
          ],
          "name": "stdout"
        }
      ]
    },
    {
      "cell_type": "markdown",
      "metadata": {
        "id": "la97F_ewC1K3",
        "colab_type": "text"
      },
      "source": [
        "## 1対多のデータ処理\n",
        "\n",
        "重複がないことをその都度確認するのは重要。"
      ]
    },
    {
      "cell_type": "code",
      "metadata": {
        "id": "5n8yl47n9RCK",
        "colab_type": "code",
        "outputId": "2f7bb77b-8076-406f-88f3-1f8fdc80d067",
        "colab": {
          "base_uri": "https://localhost:8080/",
          "height": 35
        }
      },
      "source": [
        "df_cage_extracted['NCBI gene ID'].is_unique"
      ],
      "execution_count": 0,
      "outputs": [
        {
          "output_type": "execute_result",
          "data": {
            "text/plain": [
              "True"
            ]
          },
          "metadata": {
            "tags": []
          },
          "execution_count": 74
        }
      ]
    },
    {
      "cell_type": "code",
      "metadata": {
        "id": "a_o9tAhNGP0f",
        "colab_type": "code",
        "outputId": "71be65ec-56c4-4339-b56b-56eb173dd83b",
        "colab": {
          "base_uri": "https://localhost:8080/",
          "height": 292
        }
      },
      "source": [
        "!pip install sparqldataframe"
      ],
      "execution_count": 0,
      "outputs": [
        {
          "output_type": "stream",
          "text": [
            "Collecting sparqldataframe\n",
            "  Downloading https://files.pythonhosted.org/packages/0d/d2/e213a687086cdfadb7ef4a6ccef8e7eb9bb05fdabfe3dc42e3cab6881cc1/sparqldataframe-0.1.0-py3-none-any.whl\n",
            "Requirement already satisfied: pandas in /usr/local/lib/python3.6/dist-packages (from sparqldataframe) (0.24.2)\n",
            "Requirement already satisfied: requests in /usr/local/lib/python3.6/dist-packages (from sparqldataframe) (2.21.0)\n",
            "Requirement already satisfied: python-dateutil>=2.5.0 in /usr/local/lib/python3.6/dist-packages (from pandas->sparqldataframe) (2.5.3)\n",
            "Requirement already satisfied: pytz>=2011k in /usr/local/lib/python3.6/dist-packages (from pandas->sparqldataframe) (2018.9)\n",
            "Requirement already satisfied: numpy>=1.12.0 in /usr/local/lib/python3.6/dist-packages (from pandas->sparqldataframe) (1.16.5)\n",
            "Requirement already satisfied: idna<2.9,>=2.5 in /usr/local/lib/python3.6/dist-packages (from requests->sparqldataframe) (2.8)\n",
            "Requirement already satisfied: chardet<3.1.0,>=3.0.2 in /usr/local/lib/python3.6/dist-packages (from requests->sparqldataframe) (3.0.4)\n",
            "Requirement already satisfied: urllib3<1.25,>=1.21.1 in /usr/local/lib/python3.6/dist-packages (from requests->sparqldataframe) (1.24.3)\n",
            "Requirement already satisfied: certifi>=2017.4.17 in /usr/local/lib/python3.6/dist-packages (from requests->sparqldataframe) (2019.9.11)\n",
            "Requirement already satisfied: six>=1.5 in /usr/local/lib/python3.6/dist-packages (from python-dateutil>=2.5.0->pandas->sparqldataframe) (1.12.0)\n",
            "Installing collected packages: sparqldataframe\n",
            "Successfully installed sparqldataframe-0.1.0\n"
          ],
          "name": "stdout"
        }
      ]
    },
    {
      "cell_type": "code",
      "metadata": {
        "id": "QOQsEISjGVD2",
        "colab_type": "code",
        "outputId": "938eab10-4a72-44ee-e58c-006e9a5033d7",
        "colab": {
          "base_uri": "https://localhost:8080/",
          "height": 219
        }
      },
      "source": [
        "!pip install simplejson"
      ],
      "execution_count": 0,
      "outputs": [
        {
          "output_type": "stream",
          "text": [
            "Collecting simplejson\n",
            "\u001b[?25l  Downloading https://files.pythonhosted.org/packages/e3/24/c35fb1c1c315fc0fffe61ea00d3f88e85469004713dab488dee4f35b0aff/simplejson-3.16.0.tar.gz (81kB)\n",
            "\u001b[K     |████████████████████████████████| 81kB 3.7MB/s \n",
            "\u001b[?25hBuilding wheels for collected packages: simplejson\n",
            "  Building wheel for simplejson (setup.py) ... \u001b[?25l\u001b[?25hdone\n",
            "  Created wheel for simplejson: filename=simplejson-3.16.0-cp36-cp36m-linux_x86_64.whl size=114022 sha256=7562a6e390e5be7ef3718ed5253e2711fb51b6393d4bcf1b91700517c71efed4\n",
            "  Stored in directory: /root/.cache/pip/wheels/5d/1a/1e/0350bb3df3e74215cd91325344cc86c2c691f5306eb4d22c77\n",
            "Successfully built simplejson\n",
            "Installing collected packages: simplejson\n",
            "Successfully installed simplejson-3.16.0\n"
          ],
          "name": "stdout"
        }
      ]
    },
    {
      "cell_type": "code",
      "metadata": {
        "id": "-r44zSIAIZT3",
        "colab_type": "code",
        "outputId": "1069b69c-777d-4ec6-afc9-1090034fa296",
        "colab": {
          "base_uri": "https://localhost:8080/",
          "height": 308
        }
      },
      "source": [
        "!wget https://github.com/bonohu/DrBonoDojo/raw/master/3-6/taxonomy.rq"
      ],
      "execution_count": 0,
      "outputs": [
        {
          "output_type": "stream",
          "text": [
            "--2019-10-15 06:36:24--  https://github.com/bonohu/DrBonoDojo/raw/master/3-6/taxonomy.rq\n",
            "Resolving github.com (github.com)... 140.82.114.4\n",
            "Connecting to github.com (github.com)|140.82.114.4|:443... connected.\n",
            "HTTP request sent, awaiting response... 302 Found\n",
            "Location: https://raw.githubusercontent.com/bonohu/DrBonoDojo/master/3-6/taxonomy.rq [following]\n",
            "--2019-10-15 06:36:24--  https://raw.githubusercontent.com/bonohu/DrBonoDojo/master/3-6/taxonomy.rq\n",
            "Resolving raw.githubusercontent.com (raw.githubusercontent.com)... 151.101.0.133, 151.101.64.133, 151.101.128.133, ...\n",
            "Connecting to raw.githubusercontent.com (raw.githubusercontent.com)|151.101.0.133|:443... connected.\n",
            "HTTP request sent, awaiting response... 200 OK\n",
            "Length: 956 [text/plain]\n",
            "Saving to: ‘taxonomy.rq’\n",
            "\n",
            "\rtaxonomy.rq           0%[                    ]       0  --.-KB/s               \rtaxonomy.rq         100%[===================>]     956  --.-KB/s    in 0s      \n",
            "\n",
            "2019-10-15 06:36:24 (175 MB/s) - ‘taxonomy.rq’ saved [956/956]\n",
            "\n"
          ],
          "name": "stdout"
        }
      ]
    },
    {
      "cell_type": "code",
      "metadata": {
        "id": "SV2tJs4hIZJT",
        "colab_type": "code",
        "outputId": "de3e3cd2-c020-4fd1-c667-757441972a53",
        "colab": {
          "base_uri": "https://localhost:8080/",
          "height": 145
        }
      },
      "source": [
        "!curl -F query=@taxonomy.rq -H \"Accept: application/sparql-results+xml\" http://togogenome.org/sparql"
      ],
      "execution_count": 0,
      "outputs": [
        {
          "output_type": "stream",
          "text": [
            "<html>\r\n",
            "<head><title>504 Gateway Time-out</title></head>\r\n",
            "<body>\r\n",
            "<center><h1>504 Gateway Time-out</h1></center>\r\n",
            "<hr><center>nginx/1.16.0</center>\r\n",
            "</body>\r\n",
            "</html>\r\n"
          ],
          "name": "stdout"
        }
      ]
    },
    {
      "cell_type": "code",
      "metadata": {
        "id": "tXB9peDgDIjG",
        "colab_type": "code",
        "outputId": "5bbe7b83-823b-4b8f-992e-8e531b3cebb8",
        "colab": {
          "base_uri": "https://localhost:8080/",
          "height": 340
        }
      },
      "source": [
        "import sparqldataframe\n",
        "\n",
        "sparql_query = \"\"\" \n",
        "select distinct ?taxonid ?species ?order ?family ?subfamily\n",
        "where {\n",
        "  graph <http://togogenome.org/graph/taxonomy> {\n",
        "    ?sp a <http://ddbj.nig.ac.jp/ontologies/taxonomy/Taxon> .\n",
        "    ?sp <http://purl.org/dc/terms/identifier> ?taxonid .\n",
        "    ?sp rdfs:label ?species .\n",
        "    filter(?taxonid IN(9606, 10090, 7091, 29053))\n",
        "    ?sp rdfs:subClassOf+ ?parentsf .\n",
        "    ?parentsf rdfs:label ?subfamily;\n",
        "      <http://ddbj.nig.ac.jp/ontologies/taxonomy/rank> ?taxranksf .\n",
        "    ?taxranksf rdfs:label ?ranksf .\n",
        "    filter(?ranksf = \"subfamily\")\n",
        "    ?parentsf rdfs:subClassOf+ ?parentfm .\n",
        "    ?parentfm rdfs:label ?family;\n",
        "      <http://ddbj.nig.ac.jp/ontologies/taxonomy/rank> ?taxrankfm .\n",
        "    ?taxrankfm rdfs:label ?rankfm .\n",
        "    filter(?rankfm = \"family\")\n",
        "    ?parentfm rdfs:subClassOf+ ?parentod .\n",
        "    ?parentod rdfs:label ?order;\n",
        "      <http://ddbj.nig.ac.jp/ontologies/taxonomy/rank> ?taxrankod .\n",
        "    ?taxrankod rdfs:label ?rankod .\n",
        "    filter(?rankod = \"order\")\n",
        "  }\n",
        "}\n",
        "\"\"\"\n",
        "df = sparqldataframe.query(\"http://togogenome.org/sparql\", sparql_query)"
      ],
      "execution_count": 0,
      "outputs": [
        {
          "output_type": "error",
          "ename": "JSONDecodeError",
          "evalue": "ignored",
          "traceback": [
            "\u001b[0;31m---------------------------------------------------------------------------\u001b[0m",
            "\u001b[0;31mJSONDecodeError\u001b[0m                           Traceback (most recent call last)",
            "\u001b[0;32m<ipython-input-94-31d254be31a6>\u001b[0m in \u001b[0;36m<module>\u001b[0;34m()\u001b[0m\n\u001b[1;32m     27\u001b[0m }\n\u001b[1;32m     28\u001b[0m \"\"\"\n\u001b[0;32m---> 29\u001b[0;31m \u001b[0mdf\u001b[0m \u001b[0;34m=\u001b[0m \u001b[0msparqldataframe\u001b[0m\u001b[0;34m.\u001b[0m\u001b[0mquery\u001b[0m\u001b[0;34m(\u001b[0m\u001b[0;34m\"http://togogenome.org/sparql\"\u001b[0m\u001b[0;34m,\u001b[0m \u001b[0msparql_query\u001b[0m\u001b[0;34m)\u001b[0m\u001b[0;34m\u001b[0m\u001b[0;34m\u001b[0m\u001b[0m\n\u001b[0m",
            "\u001b[0;32m/usr/local/lib/python3.6/dist-packages/sparqldataframe/__init__.py\u001b[0m in \u001b[0;36mquery\u001b[0;34m(url, sparql_query)\u001b[0m\n\u001b[1;32m     19\u001b[0m     \u001b[0;32mtry\u001b[0m\u001b[0;34m:\u001b[0m\u001b[0;34m\u001b[0m\u001b[0;34m\u001b[0m\u001b[0m\n\u001b[1;32m     20\u001b[0m         \u001b[0mr\u001b[0m \u001b[0;34m=\u001b[0m \u001b[0mrequests\u001b[0m\u001b[0;34m.\u001b[0m\u001b[0mget\u001b[0m\u001b[0;34m(\u001b[0m\u001b[0murl\u001b[0m\u001b[0;34m,\u001b[0m \u001b[0mparams\u001b[0m\u001b[0;34m=\u001b[0m\u001b[0;34m{\u001b[0m\u001b[0;34m'format'\u001b[0m\u001b[0;34m:\u001b[0m \u001b[0;34m'json'\u001b[0m\u001b[0;34m,\u001b[0m \u001b[0;34m'query'\u001b[0m\u001b[0;34m:\u001b[0m \u001b[0msparql_query\u001b[0m\u001b[0;34m}\u001b[0m\u001b[0;34m)\u001b[0m\u001b[0;34m\u001b[0m\u001b[0;34m\u001b[0m\u001b[0m\n\u001b[0;32m---> 21\u001b[0;31m         \u001b[0mdata\u001b[0m \u001b[0;34m=\u001b[0m \u001b[0mr\u001b[0m\u001b[0;34m.\u001b[0m\u001b[0mjson\u001b[0m\u001b[0;34m(\u001b[0m\u001b[0;34m)\u001b[0m\u001b[0;34m\u001b[0m\u001b[0;34m\u001b[0m\u001b[0m\n\u001b[0m\u001b[1;32m     22\u001b[0m     \u001b[0;32mexcept\u001b[0m \u001b[0mJSONDecodeError\u001b[0m \u001b[0;32mas\u001b[0m \u001b[0me\u001b[0m\u001b[0;34m:\u001b[0m\u001b[0;34m\u001b[0m\u001b[0;34m\u001b[0m\u001b[0m\n\u001b[1;32m     23\u001b[0m         \u001b[0mprint\u001b[0m\u001b[0;34m(\u001b[0m\u001b[0mr\u001b[0m\u001b[0;34m.\u001b[0m\u001b[0mcontent\u001b[0m\u001b[0;34m)\u001b[0m\u001b[0;34m\u001b[0m\u001b[0;34m\u001b[0m\u001b[0m\n",
            "\u001b[0;32m/usr/local/lib/python3.6/dist-packages/requests/models.py\u001b[0m in \u001b[0;36mjson\u001b[0;34m(self, **kwargs)\u001b[0m\n\u001b[1;32m    895\u001b[0m                     \u001b[0;31m# used.\u001b[0m\u001b[0;34m\u001b[0m\u001b[0;34m\u001b[0m\u001b[0;34m\u001b[0m\u001b[0m\n\u001b[1;32m    896\u001b[0m                     \u001b[0;32mpass\u001b[0m\u001b[0;34m\u001b[0m\u001b[0;34m\u001b[0m\u001b[0m\n\u001b[0;32m--> 897\u001b[0;31m         \u001b[0;32mreturn\u001b[0m \u001b[0mcomplexjson\u001b[0m\u001b[0;34m.\u001b[0m\u001b[0mloads\u001b[0m\u001b[0;34m(\u001b[0m\u001b[0mself\u001b[0m\u001b[0;34m.\u001b[0m\u001b[0mtext\u001b[0m\u001b[0;34m,\u001b[0m \u001b[0;34m**\u001b[0m\u001b[0mkwargs\u001b[0m\u001b[0;34m)\u001b[0m\u001b[0;34m\u001b[0m\u001b[0;34m\u001b[0m\u001b[0m\n\u001b[0m\u001b[1;32m    898\u001b[0m \u001b[0;34m\u001b[0m\u001b[0m\n\u001b[1;32m    899\u001b[0m     \u001b[0;34m@\u001b[0m\u001b[0mproperty\u001b[0m\u001b[0;34m\u001b[0m\u001b[0;34m\u001b[0m\u001b[0m\n",
            "\u001b[0;32m/usr/lib/python3.6/json/__init__.py\u001b[0m in \u001b[0;36mloads\u001b[0;34m(s, encoding, cls, object_hook, parse_float, parse_int, parse_constant, object_pairs_hook, **kw)\u001b[0m\n\u001b[1;32m    352\u001b[0m             \u001b[0mparse_int\u001b[0m \u001b[0;32mis\u001b[0m \u001b[0;32mNone\u001b[0m \u001b[0;32mand\u001b[0m \u001b[0mparse_float\u001b[0m \u001b[0;32mis\u001b[0m \u001b[0;32mNone\u001b[0m \u001b[0;32mand\u001b[0m\u001b[0;34m\u001b[0m\u001b[0;34m\u001b[0m\u001b[0m\n\u001b[1;32m    353\u001b[0m             parse_constant is None and object_pairs_hook is None and not kw):\n\u001b[0;32m--> 354\u001b[0;31m         \u001b[0;32mreturn\u001b[0m \u001b[0m_default_decoder\u001b[0m\u001b[0;34m.\u001b[0m\u001b[0mdecode\u001b[0m\u001b[0;34m(\u001b[0m\u001b[0ms\u001b[0m\u001b[0;34m)\u001b[0m\u001b[0;34m\u001b[0m\u001b[0;34m\u001b[0m\u001b[0m\n\u001b[0m\u001b[1;32m    355\u001b[0m     \u001b[0;32mif\u001b[0m \u001b[0mcls\u001b[0m \u001b[0;32mis\u001b[0m \u001b[0;32mNone\u001b[0m\u001b[0;34m:\u001b[0m\u001b[0;34m\u001b[0m\u001b[0;34m\u001b[0m\u001b[0m\n\u001b[1;32m    356\u001b[0m         \u001b[0mcls\u001b[0m \u001b[0;34m=\u001b[0m \u001b[0mJSONDecoder\u001b[0m\u001b[0;34m\u001b[0m\u001b[0;34m\u001b[0m\u001b[0m\n",
            "\u001b[0;32m/usr/lib/python3.6/json/decoder.py\u001b[0m in \u001b[0;36mdecode\u001b[0;34m(self, s, _w)\u001b[0m\n\u001b[1;32m    337\u001b[0m \u001b[0;34m\u001b[0m\u001b[0m\n\u001b[1;32m    338\u001b[0m         \"\"\"\n\u001b[0;32m--> 339\u001b[0;31m         \u001b[0mobj\u001b[0m\u001b[0;34m,\u001b[0m \u001b[0mend\u001b[0m \u001b[0;34m=\u001b[0m \u001b[0mself\u001b[0m\u001b[0;34m.\u001b[0m\u001b[0mraw_decode\u001b[0m\u001b[0;34m(\u001b[0m\u001b[0ms\u001b[0m\u001b[0;34m,\u001b[0m \u001b[0midx\u001b[0m\u001b[0;34m=\u001b[0m\u001b[0m_w\u001b[0m\u001b[0;34m(\u001b[0m\u001b[0ms\u001b[0m\u001b[0;34m,\u001b[0m \u001b[0;36m0\u001b[0m\u001b[0;34m)\u001b[0m\u001b[0;34m.\u001b[0m\u001b[0mend\u001b[0m\u001b[0;34m(\u001b[0m\u001b[0;34m)\u001b[0m\u001b[0;34m)\u001b[0m\u001b[0;34m\u001b[0m\u001b[0;34m\u001b[0m\u001b[0m\n\u001b[0m\u001b[1;32m    340\u001b[0m         \u001b[0mend\u001b[0m \u001b[0;34m=\u001b[0m \u001b[0m_w\u001b[0m\u001b[0;34m(\u001b[0m\u001b[0ms\u001b[0m\u001b[0;34m,\u001b[0m \u001b[0mend\u001b[0m\u001b[0;34m)\u001b[0m\u001b[0;34m.\u001b[0m\u001b[0mend\u001b[0m\u001b[0;34m(\u001b[0m\u001b[0;34m)\u001b[0m\u001b[0;34m\u001b[0m\u001b[0;34m\u001b[0m\u001b[0m\n\u001b[1;32m    341\u001b[0m         \u001b[0;32mif\u001b[0m \u001b[0mend\u001b[0m \u001b[0;34m!=\u001b[0m \u001b[0mlen\u001b[0m\u001b[0;34m(\u001b[0m\u001b[0ms\u001b[0m\u001b[0;34m)\u001b[0m\u001b[0;34m:\u001b[0m\u001b[0;34m\u001b[0m\u001b[0;34m\u001b[0m\u001b[0m\n",
            "\u001b[0;32m/usr/lib/python3.6/json/decoder.py\u001b[0m in \u001b[0;36mraw_decode\u001b[0;34m(self, s, idx)\u001b[0m\n\u001b[1;32m    355\u001b[0m             \u001b[0mobj\u001b[0m\u001b[0;34m,\u001b[0m \u001b[0mend\u001b[0m \u001b[0;34m=\u001b[0m \u001b[0mself\u001b[0m\u001b[0;34m.\u001b[0m\u001b[0mscan_once\u001b[0m\u001b[0;34m(\u001b[0m\u001b[0ms\u001b[0m\u001b[0;34m,\u001b[0m \u001b[0midx\u001b[0m\u001b[0;34m)\u001b[0m\u001b[0;34m\u001b[0m\u001b[0;34m\u001b[0m\u001b[0m\n\u001b[1;32m    356\u001b[0m         \u001b[0;32mexcept\u001b[0m \u001b[0mStopIteration\u001b[0m \u001b[0;32mas\u001b[0m \u001b[0merr\u001b[0m\u001b[0;34m:\u001b[0m\u001b[0;34m\u001b[0m\u001b[0;34m\u001b[0m\u001b[0m\n\u001b[0;32m--> 357\u001b[0;31m             \u001b[0;32mraise\u001b[0m \u001b[0mJSONDecodeError\u001b[0m\u001b[0;34m(\u001b[0m\u001b[0;34m\"Expecting value\"\u001b[0m\u001b[0;34m,\u001b[0m \u001b[0ms\u001b[0m\u001b[0;34m,\u001b[0m \u001b[0merr\u001b[0m\u001b[0;34m.\u001b[0m\u001b[0mvalue\u001b[0m\u001b[0;34m)\u001b[0m \u001b[0;32mfrom\u001b[0m \u001b[0;32mNone\u001b[0m\u001b[0;34m\u001b[0m\u001b[0;34m\u001b[0m\u001b[0m\n\u001b[0m\u001b[1;32m    358\u001b[0m         \u001b[0;32mreturn\u001b[0m \u001b[0mobj\u001b[0m\u001b[0;34m,\u001b[0m \u001b[0mend\u001b[0m\u001b[0;34m\u001b[0m\u001b[0;34m\u001b[0m\u001b[0m\n",
            "\u001b[0;31mJSONDecodeError\u001b[0m: Expecting value: line 1 column 1 (char 0)"
          ]
        }
      ]
    },
    {
      "cell_type": "code",
      "metadata": {
        "id": "tsAISYD9GN97",
        "colab_type": "code",
        "colab": {}
      },
      "source": [
        "df"
      ],
      "execution_count": 0,
      "outputs": []
    },
    {
      "cell_type": "code",
      "metadata": {
        "id": "VXvZqBAKGZL-",
        "colab_type": "code",
        "colab": {}
      },
      "source": [
        ""
      ],
      "execution_count": 0,
      "outputs": []
    }
  ]
}